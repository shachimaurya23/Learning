{
  "nbformat": 4,
  "nbformat_minor": 0,
  "metadata": {
    "colab": {
      "provenance": [],
      "gpuType": "T4",
      "authorship_tag": "ABX9TyPwNa0QEPa6TJFFzq6oBvQY",
      "include_colab_link": true
    },
    "kernelspec": {
      "name": "python3",
      "display_name": "Python 3"
    },
    "language_info": {
      "name": "python"
    },
    "accelerator": "GPU"
  },
  "cells": [
    {
      "cell_type": "markdown",
      "metadata": {
        "id": "view-in-github",
        "colab_type": "text"
      },
      "source": [
        "<a href=\"https://colab.research.google.com/github/shachimaurya23/Learning/blob/main/PyTorch/Pytorch_learning_ANN_Fashion_MNIST.ipynb\" target=\"_parent\"><img src=\"https://colab.research.google.com/assets/colab-badge.svg\" alt=\"Open In Colab\"/></a>"
      ]
    },
    {
      "cell_type": "markdown",
      "source": [
        "# Using ANN to Classify Fashion MNIST data\n",
        "\n",
        "##(MULTICLASS CLASSIFICATION)\n"
      ],
      "metadata": {
        "id": "oxGi8aCxp1Vx"
      }
    },
    {
      "cell_type": "code",
      "execution_count": 1,
      "metadata": {
        "id": "4BBrJnH7tu6u"
      },
      "outputs": [],
      "source": [
        "import pandas as pd\n",
        "import torch\n",
        "from sklearn.model_selection import train_test_split\n",
        "from torch.utils.data import DataLoader,Dataset\n",
        "import torch.nn as nn\n",
        "import torch.optim as optim\n",
        "import matplotlib.pyplot as plt"
      ]
    },
    {
      "cell_type": "code",
      "source": [
        "torch.manual_seed(42) # Set random seeds for reproducibility"
      ],
      "metadata": {
        "colab": {
          "base_uri": "https://localhost:8080/"
        },
        "id": "t8-Qwl9ErPri",
        "outputId": "7f42230a-e93e-403e-ef12-3b90bc4ed6d1"
      },
      "execution_count": 2,
      "outputs": [
        {
          "output_type": "execute_result",
          "data": {
            "text/plain": [
              "<torch._C.Generator at 0x7d54a8b66d10>"
            ]
          },
          "metadata": {},
          "execution_count": 2
        }
      ]
    },
    {
      "cell_type": "code",
      "source": [
        "device=torch.device(\"cuda\" if torch.cuda.is_available() else \"cpu\")"
      ],
      "metadata": {
        "id": "IwwfF9QL0EbW"
      },
      "execution_count": 3,
      "outputs": []
    },
    {
      "cell_type": "code",
      "source": [
        "df=pd.read_csv(\"fashion-mnist_train.csv\")\n",
        "# df=pd.read_csv(\"fmnist_small.csv\")    #smaller subset of the dataset to run\n",
        "# w/o GPU"
      ],
      "metadata": {
        "id": "LSzkZO13rZ6B"
      },
      "execution_count": 5,
      "outputs": []
    },
    {
      "cell_type": "code",
      "source": [
        "df.head()"
      ],
      "metadata": {
        "colab": {
          "base_uri": "https://localhost:8080/",
          "height": 256
        },
        "id": "HLFNAVLSrhqM",
        "outputId": "af4ac624-a480-4676-cf89-6dab2ba7c101"
      },
      "execution_count": 6,
      "outputs": [
        {
          "output_type": "execute_result",
          "data": {
            "text/plain": [
              "   label  pixel1  pixel2  pixel3  pixel4  pixel5  pixel6  pixel7  pixel8  \\\n",
              "0      2       0       0       0       0       0       0       0       0   \n",
              "1      9       0       0       0       0       0       0       0       0   \n",
              "2      6       0       0       0       0       0       0       0       5   \n",
              "3      0       0       0       0       1       2       0       0       0   \n",
              "4      3       0       0       0       0       0       0       0       0   \n",
              "\n",
              "   pixel9  ...  pixel775  pixel776  pixel777  pixel778  pixel779  pixel780  \\\n",
              "0       0  ...         0         0         0         0         0         0   \n",
              "1       0  ...         0         0         0         0         0         0   \n",
              "2       0  ...         0         0         0        30        43         0   \n",
              "3       0  ...         3         0         0         0         0         1   \n",
              "4       0  ...         0         0         0         0         0         0   \n",
              "\n",
              "   pixel781  pixel782  pixel783  pixel784  \n",
              "0         0         0         0         0  \n",
              "1         0         0         0         0  \n",
              "2         0         0         0         0  \n",
              "3         0         0         0         0  \n",
              "4         0         0         0         0  \n",
              "\n",
              "[5 rows x 785 columns]"
            ],
            "text/html": [
              "\n",
              "  <div id=\"df-d2a40ada-37e8-4af8-a1d7-7af66a47a3d3\" class=\"colab-df-container\">\n",
              "    <div>\n",
              "<style scoped>\n",
              "    .dataframe tbody tr th:only-of-type {\n",
              "        vertical-align: middle;\n",
              "    }\n",
              "\n",
              "    .dataframe tbody tr th {\n",
              "        vertical-align: top;\n",
              "    }\n",
              "\n",
              "    .dataframe thead th {\n",
              "        text-align: right;\n",
              "    }\n",
              "</style>\n",
              "<table border=\"1\" class=\"dataframe\">\n",
              "  <thead>\n",
              "    <tr style=\"text-align: right;\">\n",
              "      <th></th>\n",
              "      <th>label</th>\n",
              "      <th>pixel1</th>\n",
              "      <th>pixel2</th>\n",
              "      <th>pixel3</th>\n",
              "      <th>pixel4</th>\n",
              "      <th>pixel5</th>\n",
              "      <th>pixel6</th>\n",
              "      <th>pixel7</th>\n",
              "      <th>pixel8</th>\n",
              "      <th>pixel9</th>\n",
              "      <th>...</th>\n",
              "      <th>pixel775</th>\n",
              "      <th>pixel776</th>\n",
              "      <th>pixel777</th>\n",
              "      <th>pixel778</th>\n",
              "      <th>pixel779</th>\n",
              "      <th>pixel780</th>\n",
              "      <th>pixel781</th>\n",
              "      <th>pixel782</th>\n",
              "      <th>pixel783</th>\n",
              "      <th>pixel784</th>\n",
              "    </tr>\n",
              "  </thead>\n",
              "  <tbody>\n",
              "    <tr>\n",
              "      <th>0</th>\n",
              "      <td>2</td>\n",
              "      <td>0</td>\n",
              "      <td>0</td>\n",
              "      <td>0</td>\n",
              "      <td>0</td>\n",
              "      <td>0</td>\n",
              "      <td>0</td>\n",
              "      <td>0</td>\n",
              "      <td>0</td>\n",
              "      <td>0</td>\n",
              "      <td>...</td>\n",
              "      <td>0</td>\n",
              "      <td>0</td>\n",
              "      <td>0</td>\n",
              "      <td>0</td>\n",
              "      <td>0</td>\n",
              "      <td>0</td>\n",
              "      <td>0</td>\n",
              "      <td>0</td>\n",
              "      <td>0</td>\n",
              "      <td>0</td>\n",
              "    </tr>\n",
              "    <tr>\n",
              "      <th>1</th>\n",
              "      <td>9</td>\n",
              "      <td>0</td>\n",
              "      <td>0</td>\n",
              "      <td>0</td>\n",
              "      <td>0</td>\n",
              "      <td>0</td>\n",
              "      <td>0</td>\n",
              "      <td>0</td>\n",
              "      <td>0</td>\n",
              "      <td>0</td>\n",
              "      <td>...</td>\n",
              "      <td>0</td>\n",
              "      <td>0</td>\n",
              "      <td>0</td>\n",
              "      <td>0</td>\n",
              "      <td>0</td>\n",
              "      <td>0</td>\n",
              "      <td>0</td>\n",
              "      <td>0</td>\n",
              "      <td>0</td>\n",
              "      <td>0</td>\n",
              "    </tr>\n",
              "    <tr>\n",
              "      <th>2</th>\n",
              "      <td>6</td>\n",
              "      <td>0</td>\n",
              "      <td>0</td>\n",
              "      <td>0</td>\n",
              "      <td>0</td>\n",
              "      <td>0</td>\n",
              "      <td>0</td>\n",
              "      <td>0</td>\n",
              "      <td>5</td>\n",
              "      <td>0</td>\n",
              "      <td>...</td>\n",
              "      <td>0</td>\n",
              "      <td>0</td>\n",
              "      <td>0</td>\n",
              "      <td>30</td>\n",
              "      <td>43</td>\n",
              "      <td>0</td>\n",
              "      <td>0</td>\n",
              "      <td>0</td>\n",
              "      <td>0</td>\n",
              "      <td>0</td>\n",
              "    </tr>\n",
              "    <tr>\n",
              "      <th>3</th>\n",
              "      <td>0</td>\n",
              "      <td>0</td>\n",
              "      <td>0</td>\n",
              "      <td>0</td>\n",
              "      <td>1</td>\n",
              "      <td>2</td>\n",
              "      <td>0</td>\n",
              "      <td>0</td>\n",
              "      <td>0</td>\n",
              "      <td>0</td>\n",
              "      <td>...</td>\n",
              "      <td>3</td>\n",
              "      <td>0</td>\n",
              "      <td>0</td>\n",
              "      <td>0</td>\n",
              "      <td>0</td>\n",
              "      <td>1</td>\n",
              "      <td>0</td>\n",
              "      <td>0</td>\n",
              "      <td>0</td>\n",
              "      <td>0</td>\n",
              "    </tr>\n",
              "    <tr>\n",
              "      <th>4</th>\n",
              "      <td>3</td>\n",
              "      <td>0</td>\n",
              "      <td>0</td>\n",
              "      <td>0</td>\n",
              "      <td>0</td>\n",
              "      <td>0</td>\n",
              "      <td>0</td>\n",
              "      <td>0</td>\n",
              "      <td>0</td>\n",
              "      <td>0</td>\n",
              "      <td>...</td>\n",
              "      <td>0</td>\n",
              "      <td>0</td>\n",
              "      <td>0</td>\n",
              "      <td>0</td>\n",
              "      <td>0</td>\n",
              "      <td>0</td>\n",
              "      <td>0</td>\n",
              "      <td>0</td>\n",
              "      <td>0</td>\n",
              "      <td>0</td>\n",
              "    </tr>\n",
              "  </tbody>\n",
              "</table>\n",
              "<p>5 rows × 785 columns</p>\n",
              "</div>\n",
              "    <div class=\"colab-df-buttons\">\n",
              "\n",
              "  <div class=\"colab-df-container\">\n",
              "    <button class=\"colab-df-convert\" onclick=\"convertToInteractive('df-d2a40ada-37e8-4af8-a1d7-7af66a47a3d3')\"\n",
              "            title=\"Convert this dataframe to an interactive table.\"\n",
              "            style=\"display:none;\">\n",
              "\n",
              "  <svg xmlns=\"http://www.w3.org/2000/svg\" height=\"24px\" viewBox=\"0 -960 960 960\">\n",
              "    <path d=\"M120-120v-720h720v720H120Zm60-500h600v-160H180v160Zm220 220h160v-160H400v160Zm0 220h160v-160H400v160ZM180-400h160v-160H180v160Zm440 0h160v-160H620v160ZM180-180h160v-160H180v160Zm440 0h160v-160H620v160Z\"/>\n",
              "  </svg>\n",
              "    </button>\n",
              "\n",
              "  <style>\n",
              "    .colab-df-container {\n",
              "      display:flex;\n",
              "      gap: 12px;\n",
              "    }\n",
              "\n",
              "    .colab-df-convert {\n",
              "      background-color: #E8F0FE;\n",
              "      border: none;\n",
              "      border-radius: 50%;\n",
              "      cursor: pointer;\n",
              "      display: none;\n",
              "      fill: #1967D2;\n",
              "      height: 32px;\n",
              "      padding: 0 0 0 0;\n",
              "      width: 32px;\n",
              "    }\n",
              "\n",
              "    .colab-df-convert:hover {\n",
              "      background-color: #E2EBFA;\n",
              "      box-shadow: 0px 1px 2px rgba(60, 64, 67, 0.3), 0px 1px 3px 1px rgba(60, 64, 67, 0.15);\n",
              "      fill: #174EA6;\n",
              "    }\n",
              "\n",
              "    .colab-df-buttons div {\n",
              "      margin-bottom: 4px;\n",
              "    }\n",
              "\n",
              "    [theme=dark] .colab-df-convert {\n",
              "      background-color: #3B4455;\n",
              "      fill: #D2E3FC;\n",
              "    }\n",
              "\n",
              "    [theme=dark] .colab-df-convert:hover {\n",
              "      background-color: #434B5C;\n",
              "      box-shadow: 0px 1px 3px 1px rgba(0, 0, 0, 0.15);\n",
              "      filter: drop-shadow(0px 1px 2px rgba(0, 0, 0, 0.3));\n",
              "      fill: #FFFFFF;\n",
              "    }\n",
              "  </style>\n",
              "\n",
              "    <script>\n",
              "      const buttonEl =\n",
              "        document.querySelector('#df-d2a40ada-37e8-4af8-a1d7-7af66a47a3d3 button.colab-df-convert');\n",
              "      buttonEl.style.display =\n",
              "        google.colab.kernel.accessAllowed ? 'block' : 'none';\n",
              "\n",
              "      async function convertToInteractive(key) {\n",
              "        const element = document.querySelector('#df-d2a40ada-37e8-4af8-a1d7-7af66a47a3d3');\n",
              "        const dataTable =\n",
              "          await google.colab.kernel.invokeFunction('convertToInteractive',\n",
              "                                                    [key], {});\n",
              "        if (!dataTable) return;\n",
              "\n",
              "        const docLinkHtml = 'Like what you see? Visit the ' +\n",
              "          '<a target=\"_blank\" href=https://colab.research.google.com/notebooks/data_table.ipynb>data table notebook</a>'\n",
              "          + ' to learn more about interactive tables.';\n",
              "        element.innerHTML = '';\n",
              "        dataTable['output_type'] = 'display_data';\n",
              "        await google.colab.output.renderOutput(dataTable, element);\n",
              "        const docLink = document.createElement('div');\n",
              "        docLink.innerHTML = docLinkHtml;\n",
              "        element.appendChild(docLink);\n",
              "      }\n",
              "    </script>\n",
              "  </div>\n",
              "\n",
              "\n",
              "<div id=\"df-ca9f8923-fa66-47a5-8a0b-ffc7d6e62268\">\n",
              "  <button class=\"colab-df-quickchart\" onclick=\"quickchart('df-ca9f8923-fa66-47a5-8a0b-ffc7d6e62268')\"\n",
              "            title=\"Suggest charts\"\n",
              "            style=\"display:none;\">\n",
              "\n",
              "<svg xmlns=\"http://www.w3.org/2000/svg\" height=\"24px\"viewBox=\"0 0 24 24\"\n",
              "     width=\"24px\">\n",
              "    <g>\n",
              "        <path d=\"M19 3H5c-1.1 0-2 .9-2 2v14c0 1.1.9 2 2 2h14c1.1 0 2-.9 2-2V5c0-1.1-.9-2-2-2zM9 17H7v-7h2v7zm4 0h-2V7h2v10zm4 0h-2v-4h2v4z\"/>\n",
              "    </g>\n",
              "</svg>\n",
              "  </button>\n",
              "\n",
              "<style>\n",
              "  .colab-df-quickchart {\n",
              "      --bg-color: #E8F0FE;\n",
              "      --fill-color: #1967D2;\n",
              "      --hover-bg-color: #E2EBFA;\n",
              "      --hover-fill-color: #174EA6;\n",
              "      --disabled-fill-color: #AAA;\n",
              "      --disabled-bg-color: #DDD;\n",
              "  }\n",
              "\n",
              "  [theme=dark] .colab-df-quickchart {\n",
              "      --bg-color: #3B4455;\n",
              "      --fill-color: #D2E3FC;\n",
              "      --hover-bg-color: #434B5C;\n",
              "      --hover-fill-color: #FFFFFF;\n",
              "      --disabled-bg-color: #3B4455;\n",
              "      --disabled-fill-color: #666;\n",
              "  }\n",
              "\n",
              "  .colab-df-quickchart {\n",
              "    background-color: var(--bg-color);\n",
              "    border: none;\n",
              "    border-radius: 50%;\n",
              "    cursor: pointer;\n",
              "    display: none;\n",
              "    fill: var(--fill-color);\n",
              "    height: 32px;\n",
              "    padding: 0;\n",
              "    width: 32px;\n",
              "  }\n",
              "\n",
              "  .colab-df-quickchart:hover {\n",
              "    background-color: var(--hover-bg-color);\n",
              "    box-shadow: 0 1px 2px rgba(60, 64, 67, 0.3), 0 1px 3px 1px rgba(60, 64, 67, 0.15);\n",
              "    fill: var(--button-hover-fill-color);\n",
              "  }\n",
              "\n",
              "  .colab-df-quickchart-complete:disabled,\n",
              "  .colab-df-quickchart-complete:disabled:hover {\n",
              "    background-color: var(--disabled-bg-color);\n",
              "    fill: var(--disabled-fill-color);\n",
              "    box-shadow: none;\n",
              "  }\n",
              "\n",
              "  .colab-df-spinner {\n",
              "    border: 2px solid var(--fill-color);\n",
              "    border-color: transparent;\n",
              "    border-bottom-color: var(--fill-color);\n",
              "    animation:\n",
              "      spin 1s steps(1) infinite;\n",
              "  }\n",
              "\n",
              "  @keyframes spin {\n",
              "    0% {\n",
              "      border-color: transparent;\n",
              "      border-bottom-color: var(--fill-color);\n",
              "      border-left-color: var(--fill-color);\n",
              "    }\n",
              "    20% {\n",
              "      border-color: transparent;\n",
              "      border-left-color: var(--fill-color);\n",
              "      border-top-color: var(--fill-color);\n",
              "    }\n",
              "    30% {\n",
              "      border-color: transparent;\n",
              "      border-left-color: var(--fill-color);\n",
              "      border-top-color: var(--fill-color);\n",
              "      border-right-color: var(--fill-color);\n",
              "    }\n",
              "    40% {\n",
              "      border-color: transparent;\n",
              "      border-right-color: var(--fill-color);\n",
              "      border-top-color: var(--fill-color);\n",
              "    }\n",
              "    60% {\n",
              "      border-color: transparent;\n",
              "      border-right-color: var(--fill-color);\n",
              "    }\n",
              "    80% {\n",
              "      border-color: transparent;\n",
              "      border-right-color: var(--fill-color);\n",
              "      border-bottom-color: var(--fill-color);\n",
              "    }\n",
              "    90% {\n",
              "      border-color: transparent;\n",
              "      border-bottom-color: var(--fill-color);\n",
              "    }\n",
              "  }\n",
              "</style>\n",
              "\n",
              "  <script>\n",
              "    async function quickchart(key) {\n",
              "      const quickchartButtonEl =\n",
              "        document.querySelector('#' + key + ' button');\n",
              "      quickchartButtonEl.disabled = true;  // To prevent multiple clicks.\n",
              "      quickchartButtonEl.classList.add('colab-df-spinner');\n",
              "      try {\n",
              "        const charts = await google.colab.kernel.invokeFunction(\n",
              "            'suggestCharts', [key], {});\n",
              "      } catch (error) {\n",
              "        console.error('Error during call to suggestCharts:', error);\n",
              "      }\n",
              "      quickchartButtonEl.classList.remove('colab-df-spinner');\n",
              "      quickchartButtonEl.classList.add('colab-df-quickchart-complete');\n",
              "    }\n",
              "    (() => {\n",
              "      let quickchartButtonEl =\n",
              "        document.querySelector('#df-ca9f8923-fa66-47a5-8a0b-ffc7d6e62268 button');\n",
              "      quickchartButtonEl.style.display =\n",
              "        google.colab.kernel.accessAllowed ? 'block' : 'none';\n",
              "    })();\n",
              "  </script>\n",
              "</div>\n",
              "\n",
              "    </div>\n",
              "  </div>\n"
            ],
            "application/vnd.google.colaboratory.intrinsic+json": {
              "type": "dataframe",
              "variable_name": "df"
            }
          },
          "metadata": {},
          "execution_count": 6
        }
      ]
    },
    {
      "cell_type": "code",
      "source": [
        "#Visualize the dataset\n",
        "fig,axes=plt.subplots(4,4,figsize=(10,10))\n",
        "fig.suptitle(\"First few images\",fontsize=16)\n",
        "\n",
        "for i,ax in enumerate(axes.flat):\n",
        "  img=df.iloc[i,1:].values.reshape(28,28) #reshape to 28x28\n",
        "  ax.imshow(img,cmap=\"binary\") #display grayscale\n",
        "  ax.axis(\"off\")\n",
        "  ax.set_title(f\"Label:{df.iloc[i,0]}\")\n",
        "plt.tight_layout(rect=[0,0,1,0.96]) #adjust layout to fit the title\n",
        "plt.show()"
      ],
      "metadata": {
        "colab": {
          "base_uri": "https://localhost:8080/",
          "height": 1000
        },
        "id": "V3m5grgdr-bS",
        "outputId": "9b34f93b-7ec0-4384-a398-ec905fd3442e"
      },
      "execution_count": 24,
      "outputs": [
        {
          "output_type": "display_data",
          "data": {
            "text/plain": [
              "<Figure size 1000x1000 with 16 Axes>"
            ],
            "image/png": "[encoded data removed]"
          },
          "metadata": {}
        }
      ]
    },
    {
      "cell_type": "code",
      "source": [
        "#train test split\n",
        "X=df.iloc[:,1:].values\n",
        "y=df.iloc[:,0].values\n",
        "X_train,X_test,y_train,y_test=train_test_split(X,y,test_size=0.2,random_state=42)"
      ],
      "metadata": {
        "id": "TPmzEqvLtlm6"
      },
      "execution_count": 8,
      "outputs": []
    },
    {
      "cell_type": "code",
      "source": [
        "#scale the features\n",
        "X_train=X_train/255.0\n",
        "X_test=X_test/255.0"
      ],
      "metadata": {
        "id": "KzKZmAO3t96_"
      },
      "execution_count": 9,
      "outputs": []
    },
    {
      "cell_type": "code",
      "source": [
        "#create custom dataset\n",
        "class CustomDataset(Dataset):\n",
        "  def __init__(self,features,labels):\n",
        "    self.features=torch.tensor(features,dtype=torch.float32)\n",
        "    self.labels=torch.tensor(labels,dtype=torch.long)\n",
        "\n",
        "  def __len__(self):\n",
        "    return len(self.features)\n",
        "\n",
        "  def __getitem__(self,idx):\n",
        "    return self.features[idx],self.labels[idx]"
      ],
      "metadata": {
        "id": "bSpO-UnGuHvK"
      },
      "execution_count": 10,
      "outputs": []
    },
    {
      "cell_type": "code",
      "source": [
        "train_dataset=CustomDataset(X_train,y_train)"
      ],
      "metadata": {
        "id": "HMI1tK-uulVQ"
      },
      "execution_count": 11,
      "outputs": []
    },
    {
      "cell_type": "code",
      "source": [
        "test_dataset=CustomDataset(X_test,y_test)"
      ],
      "metadata": {
        "id": "4BozlwmQvB6i"
      },
      "execution_count": 13,
      "outputs": []
    },
    {
      "cell_type": "code",
      "source": [
        "train_loader=DataLoader(train_dataset,batch_size=32,shuffle=True,pin_memory=True)\n",
        "test_loader=DataLoader(test_dataset,batch_size=32,pin_memory=True)"
      ],
      "metadata": {
        "id": "nUDP0mV3vMdb"
      },
      "execution_count": 19,
      "outputs": []
    },
    {
      "cell_type": "code",
      "source": [
        "# Define the ANN\n",
        "class ANN(nn.Module):\n",
        "  def __init__(self,num_features):\n",
        "    super().__init__()\n",
        "    self.model=nn.Sequential(\n",
        "        nn.Linear(num_features,128),\n",
        "        nn.BatchNorm1d(128),\n",
        "        nn.ReLU(),\n",
        "        nn.Dropout(p=0.3),\n",
        "        nn.Linear(128,64),\n",
        "        nn.BatchNorm1d(64),\n",
        "        nn.ReLU(),\n",
        "        nn.Dropout(p=0.3),\n",
        "        nn.Linear(64,10)\n",
        "        )\n",
        "  def forward(self,x):\n",
        "    return self.model(x)"
      ],
      "metadata": {
        "id": "obM8uuXkvaWK"
      },
      "execution_count": 26,
      "outputs": []
    },
    {
      "cell_type": "code",
      "source": [
        "epochs=100\n",
        "learning_rate=0.1"
      ],
      "metadata": {
        "id": "K-yFMNDRwKe-"
      },
      "execution_count": 27,
      "outputs": []
    },
    {
      "cell_type": "code",
      "source": [
        "#instantiate the model\n",
        "model=ANN(X_train.shape[1])\n",
        "model.to(device)\n",
        "#loss function\n",
        "loss_function=nn.CrossEntropyLoss()\n",
        "#optimizer\n",
        "optimizer=optim.SGD(model.parameters(),lr=learning_rate,weight_decay=1e-4)"
      ],
      "metadata": {
        "id": "1aR6nWVJwR5t"
      },
      "execution_count": 28,
      "outputs": []
    },
    {
      "cell_type": "code",
      "source": [
        "#Training loop\n",
        "for epoch in range(epochs):\n",
        "  total_epoch_loss=0\n",
        "  for batch_features,batch_labels in train_loader:\n",
        "\n",
        "    # move data to GPU\n",
        "    batch_features,batch_labels=batch_features.to(device),batch_labels.to(device)\n",
        "    # forward pass\n",
        "    y_pred=model(batch_features)\n",
        "    #loss function\n",
        "    loss=loss_function(y_pred,batch_labels)\n",
        "    #clear grad\n",
        "    optimizer.zero_grad()\n",
        "    #backward pass\n",
        "    loss.backward()\n",
        "    #update weights\n",
        "    optimizer.step()\n",
        "\n",
        "    total_epoch_loss+=loss.item()\n",
        "  avg_loss=total_epoch_loss/len(train_loader)\n",
        "  print(f\"Epoch:{epoch+1}, Loss:{avg_loss}\")"
      ],
      "metadata": {
        "colab": {
          "base_uri": "https://localhost:8080/"
        },
        "id": "EXXevPTcxA0K",
        "outputId": "ed49da61-4166-472d-e997-ef2b34726346"
      },
      "execution_count": 29,
      "outputs": [
        {
          "output_type": "stream",
          "name": "stdout",
          "text": [
            "Epoch:1, Loss:0.6289733699957529\n",
            "Epoch:2, Loss:0.49750435262918474\n",
            "Epoch:3, Loss:0.45823923988143606\n",
            "Epoch:4, Loss:0.44051706813275815\n",
            "Epoch:5, Loss:0.4186578034510215\n",
            "Epoch:6, Loss:0.4075774185210466\n",
            "Epoch:7, Loss:0.3970164604783058\n",
            "Epoch:8, Loss:0.38432031074166295\n",
            "Epoch:9, Loss:0.37822355728348095\n",
            "Epoch:10, Loss:0.36809411137302717\n",
            "Epoch:11, Loss:0.3623276891658703\n",
            "Epoch:12, Loss:0.3604793378387888\n",
            "Epoch:13, Loss:0.35303762258589266\n",
            "Epoch:14, Loss:0.3504013134886821\n",
            "Epoch:15, Loss:0.3463756038149198\n",
            "Epoch:16, Loss:0.34369862158596515\n",
            "Epoch:17, Loss:0.33903014137595894\n",
            "Epoch:18, Loss:0.33668675464888415\n",
            "Epoch:19, Loss:0.333699007699887\n",
            "Epoch:20, Loss:0.32897973984479906\n",
            "Epoch:21, Loss:0.3264759483387073\n",
            "Epoch:22, Loss:0.3254634704341491\n",
            "Epoch:23, Loss:0.3234037353520592\n",
            "Epoch:24, Loss:0.319105872814854\n",
            "Epoch:25, Loss:0.3170106581772367\n",
            "Epoch:26, Loss:0.3140014426956574\n",
            "Epoch:27, Loss:0.3111702332446972\n",
            "Epoch:28, Loss:0.3109444208219647\n",
            "Epoch:29, Loss:0.3069169324537118\n",
            "Epoch:30, Loss:0.3070778736968835\n",
            "Epoch:31, Loss:0.3026799486353993\n",
            "Epoch:32, Loss:0.3059152502169212\n",
            "Epoch:33, Loss:0.3010956830283006\n",
            "Epoch:34, Loss:0.3010432631149888\n",
            "Epoch:35, Loss:0.2983735512569547\n",
            "Epoch:36, Loss:0.29822699330498775\n",
            "Epoch:37, Loss:0.2934177485158046\n",
            "Epoch:38, Loss:0.2927874704450369\n",
            "Epoch:39, Loss:0.29570536558578414\n",
            "Epoch:40, Loss:0.29490436156590777\n",
            "Epoch:41, Loss:0.291461054806908\n",
            "Epoch:42, Loss:0.292018626930813\n",
            "Epoch:43, Loss:0.28776732499649127\n",
            "Epoch:44, Loss:0.28930569233745335\n",
            "Epoch:45, Loss:0.29192042039583127\n",
            "Epoch:46, Loss:0.28931073979785044\n",
            "Epoch:47, Loss:0.2853150117819508\n",
            "Epoch:48, Loss:0.2862422203198075\n",
            "Epoch:49, Loss:0.2833865481043855\n",
            "Epoch:50, Loss:0.28484180102248985\n",
            "Epoch:51, Loss:0.28733094267050424\n",
            "Epoch:52, Loss:0.2846090572699904\n",
            "Epoch:53, Loss:0.27887659921248753\n",
            "Epoch:54, Loss:0.2831324944620331\n",
            "Epoch:55, Loss:0.27954149708151815\n",
            "Epoch:56, Loss:0.2789724637940526\n",
            "Epoch:57, Loss:0.276650191736718\n",
            "Epoch:58, Loss:0.2789318851977587\n",
            "Epoch:59, Loss:0.27627521797269583\n",
            "Epoch:60, Loss:0.2764377109855413\n",
            "Epoch:61, Loss:0.2768982123831908\n",
            "Epoch:62, Loss:0.2747897904217243\n",
            "Epoch:63, Loss:0.2759959018031756\n",
            "Epoch:64, Loss:0.27181715693324804\n",
            "Epoch:65, Loss:0.2702511492309471\n",
            "Epoch:66, Loss:0.27160468976696334\n",
            "Epoch:67, Loss:0.27181753688057264\n",
            "Epoch:68, Loss:0.2718659216587742\n",
            "Epoch:69, Loss:0.26972317101433874\n",
            "Epoch:70, Loss:0.2727149188530942\n",
            "Epoch:71, Loss:0.26935820369422436\n",
            "Epoch:72, Loss:0.2692880075996121\n",
            "Epoch:73, Loss:0.2651570597713192\n",
            "Epoch:74, Loss:0.26750758356601\n",
            "Epoch:75, Loss:0.2689522762323419\n",
            "Epoch:76, Loss:0.2682414260134101\n",
            "Epoch:77, Loss:0.26647577704240877\n",
            "Epoch:78, Loss:0.26576563143730164\n",
            "Epoch:79, Loss:0.26243235875417786\n",
            "Epoch:80, Loss:0.266034300694863\n",
            "Epoch:81, Loss:0.26788686544448137\n",
            "Epoch:82, Loss:0.2624711426459253\n",
            "Epoch:83, Loss:0.26414439915368954\n",
            "Epoch:84, Loss:0.26651219492654005\n",
            "Epoch:85, Loss:0.2652222686161598\n",
            "Epoch:86, Loss:0.2661427459940314\n",
            "Epoch:87, Loss:0.2642371575062474\n",
            "Epoch:88, Loss:0.26135286610821884\n",
            "Epoch:89, Loss:0.26252961237480243\n",
            "Epoch:90, Loss:0.2604528985371192\n",
            "Epoch:91, Loss:0.26189317494630815\n",
            "Epoch:92, Loss:0.2657023914779226\n",
            "Epoch:93, Loss:0.26016689953704675\n",
            "Epoch:94, Loss:0.25963616360723973\n",
            "Epoch:95, Loss:0.2607232880418499\n",
            "Epoch:96, Loss:0.2613727165088057\n",
            "Epoch:97, Loss:0.2631367564996084\n",
            "Epoch:98, Loss:0.2588194044530392\n",
            "Epoch:99, Loss:0.2585413710226615\n",
            "Epoch:100, Loss:0.2609504275098443\n"
          ]
        }
      ]
    },
    {
      "cell_type": "code",
      "source": [
        "model.eval( )"
      ],
      "metadata": {
        "colab": {
          "base_uri": "https://localhost:8080/"
        },
        "id": "cdKHqvisyjmU",
        "outputId": "6d2edb92-e87b-4802-bb7e-223c253807ae"
      },
      "execution_count": 30,
      "outputs": [
        {
          "output_type": "execute_result",
          "data": {
            "text/plain": [
              "ANN(\n",
              "  (model): Sequential(\n",
              "    (0): Linear(in_features=784, out_features=128, bias=True)\n",
              "    (1): BatchNorm1d(128, eps=1e-05, momentum=0.1, affine=True, track_running_stats=True)\n",
              "    (2): ReLU()\n",
              "    (3): Dropout(p=0.3, inplace=False)\n",
              "    (4): Linear(in_features=128, out_features=64, bias=True)\n",
              "    (5): BatchNorm1d(64, eps=1e-05, momentum=0.1, affine=True, track_running_stats=True)\n",
              "    (6): ReLU()\n",
              "    (7): Dropout(p=0.3, inplace=False)\n",
              "    (8): Linear(in_features=64, out_features=10, bias=True)\n",
              "  )\n",
              ")"
            ]
          },
          "metadata": {},
          "execution_count": 30
        }
      ]
    },
    {
      "cell_type": "code",
      "source": [
        "#eval_code on test _data\n",
        "total=0\n",
        "correct=0\n",
        "with torch.no_grad():\n",
        "  for batch_features,batch_labels in test_loader:\n",
        "    batch_features,batch_labels=batch_features.to(device),batch_labels.to(device)\n",
        "    y_pred=model(batch_features)\n",
        "    _,y_pred=torch.max(y_pred,1)  # as model gives probabilty for each image being label so we find the max of the probability\n",
        "    total+=batch_labels.shape[0] # size of batch_labels\n",
        "    correct+=(y_pred==batch_labels).sum().item()\n",
        "print(correct/total)"
      ],
      "metadata": {
        "id": "qpPhhvyt06oA",
        "outputId": "23dc65a5-8141-4334-8113-eca8c75dc44c",
        "colab": {
          "base_uri": "https://localhost:8080/"
        }
      },
      "execution_count": 31,
      "outputs": [
        {
          "output_type": "stream",
          "name": "stdout",
          "text": [
            "0.894\n"
          ]
        }
      ]
    },
    {
      "cell_type": "code",
      "source": [
        "# evaluation on training data\n",
        "total = 0\n",
        "correct = 0\n",
        "\n",
        "with torch.no_grad():\n",
        "\n",
        "  for batch_features, batch_labels in train_loader:\n",
        "\n",
        "    # move data to gpu\n",
        "    batch_features, batch_labels = batch_features.to(device), batch_labels.to(device)\n",
        "\n",
        "    outputs = model(batch_features)\n",
        "\n",
        "    _, predicted = torch.max(outputs, 1)\n",
        "\n",
        "    total = total + batch_labels.shape[0]\n",
        "\n",
        "    correct = correct + (predicted == batch_labels).sum().item()\n",
        "\n",
        "print(correct/total)"
      ],
      "metadata": {
        "id": "xRxR3skC3spH",
        "outputId": "a46003e2-e29b-4ef8-ce55-263cb69576fe",
        "colab": {
          "base_uri": "https://localhost:8080/"
        }
      },
      "execution_count": 32,
      "outputs": [
        {
          "output_type": "stream",
          "name": "stdout",
          "text": [
            "0.9474583333333333\n"
          ]
        }
      ]
    },
    {
      "cell_type": "code",
      "source": [
        "#eval_code  for when we were using a smaller subset of data and device=cpu\n",
        "total=0\n",
        "correct=0\n",
        "with torch.no_grad():\n",
        "  for batch_features,batch_labels in test_loader:\n",
        "    y_pred=model(batch_features)\n",
        "    _,y_pred=torch.max(y_pred,1)  # as model gives probabilty for each image being label so we find the max of the probability\n",
        "    total+=batch_labels.shape[0] # size of batch_labels\n",
        "    correct+=(y_pred==batch_labels).sum().item()\n",
        "print(correct/total)"
      ],
      "metadata": {
        "colab": {
          "base_uri": "https://localhost:8080/"
        },
        "id": "8oICEj-3ym5C",
        "outputId": "35e8d3b7-0e5c-4b9d-8ea5-fd704edc004a"
      },
      "execution_count": null,
      "outputs": [
        {
          "output_type": "stream",
          "name": "stdout",
          "text": [
            "0.8325\n"
          ]
        }
      ]
    }
  ]
}