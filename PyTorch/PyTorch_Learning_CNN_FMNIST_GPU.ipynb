{
  "nbformat": 4,
  "nbformat_minor": 0,
  "metadata": {
    "colab": {
      "provenance": [],
      "gpuType": "T4",
      "authorship_tag": "ABX9TyO5buZGCpgc0jbO7gxjHlcX",
      "include_colab_link": true
    },
    "kernelspec": {
      "name": "python3",
      "display_name": "Python 3"
    },
    "language_info": {
      "name": "python"
    },
    "accelerator": "GPU"
  },
  "cells": [
    {
      "cell_type": "markdown",
      "metadata": {
        "id": "view-in-github",
        "colab_type": "text"
      },
      "source": [
        "<a href=\"https://colab.research.google.com/github/shachimaurya23/Learning/blob/main/PyTorch/PyTorch_Learning_CNN_FMNIST_GPU.ipynb\" target=\"_parent\"><img src=\"https://colab.research.google.com/assets/colab-badge.svg\" alt=\"Open In Colab\"/></a>"
      ]
    },
    {
      "cell_type": "code",
      "execution_count": 2,
      "metadata": {
        "id": "VCHM4ABoIjwm"
      },
      "outputs": [],
      "source": [
        "import pandas as pd\n",
        "from sklearn.model_selection import train_test_split\n",
        "import torch\n",
        "import torch.nn as nn\n",
        "import torch.optim as optim\n",
        "from torch.utils.data import Dataset, DataLoader\n",
        "import matplotlib.pyplot as plt"
      ]
    },
    {
      "cell_type": "code",
      "source": [
        "torch.manual_seed(42)"
      ],
      "metadata": {
        "colab": {
          "base_uri": "https://localhost:8080/"
        },
        "id": "xh9ZIIR1MZBh",
        "outputId": "850dd025-f2c3-4345-9e67-85a4172f828b"
      },
      "execution_count": 3,
      "outputs": [
        {
          "output_type": "execute_result",
          "data": {
            "text/plain": [
              "<torch._C.Generator at 0x7c25a1b899b0>"
            ]
          },
          "metadata": {},
          "execution_count": 3
        }
      ]
    },
    {
      "cell_type": "code",
      "source": [
        "device=torch.device('cuda' if torch.cuda.is_available() else 'cpu')\n",
        "print('device:',device)"
      ],
      "metadata": {
        "colab": {
          "base_uri": "https://localhost:8080/"
        },
        "id": "7qDAsEFgMdbR",
        "outputId": "184a40cb-7792-472c-985c-3b9c7d2f0d77"
      },
      "execution_count": 5,
      "outputs": [
        {
          "output_type": "stream",
          "name": "stdout",
          "text": [
            "device: cuda\n"
          ]
        }
      ]
    },
    {
      "cell_type": "code",
      "source": [
        "df=pd.read_csv('fashion-mnist_train.csv')\n",
        "df.head()"
      ],
      "metadata": {
        "colab": {
          "base_uri": "https://localhost:8080/",
          "height": 256
        },
        "id": "wkKdPZ-7M957",
        "outputId": "814b707f-3609-4116-91e8-1a71ef3de8ea"
      },
      "execution_count": 6,
      "outputs": [
        {
          "output_type": "execute_result",
          "data": {
            "text/plain": [
              "   label  pixel1  pixel2  pixel3  pixel4  pixel5  pixel6  pixel7  pixel8  \\\n",
              "0      2       0       0       0       0       0       0       0       0   \n",
              "1      9       0       0       0       0       0       0       0       0   \n",
              "2      6       0       0       0       0       0       0       0       5   \n",
              "3      0       0       0       0       1       2       0       0       0   \n",
              "4      3       0       0       0       0       0       0       0       0   \n",
              "\n",
              "   pixel9  ...  pixel775  pixel776  pixel777  pixel778  pixel779  pixel780  \\\n",
              "0       0  ...         0         0         0         0         0         0   \n",
              "1       0  ...         0         0         0         0         0         0   \n",
              "2       0  ...         0         0         0        30        43         0   \n",
              "3       0  ...         3         0         0         0         0         1   \n",
              "4       0  ...         0         0         0         0         0         0   \n",
              "\n",
              "   pixel781  pixel782  pixel783  pixel784  \n",
              "0         0         0         0         0  \n",
              "1         0         0         0         0  \n",
              "2         0         0         0         0  \n",
              "3         0         0         0         0  \n",
              "4         0         0         0         0  \n",
              "\n",
              "[5 rows x 785 columns]"
            ],
            "text/html": [
              "\n",
              "  <div id=\"df-cf8939d3-9741-494d-a779-c77970fa9e04\" class=\"colab-df-container\">\n",
              "    <div>\n",
              "<style scoped>\n",
              "    .dataframe tbody tr th:only-of-type {\n",
              "        vertical-align: middle;\n",
              "    }\n",
              "\n",
              "    .dataframe tbody tr th {\n",
              "        vertical-align: top;\n",
              "    }\n",
              "\n",
              "    .dataframe thead th {\n",
              "        text-align: right;\n",
              "    }\n",
              "</style>\n",
              "<table border=\"1\" class=\"dataframe\">\n",
              "  <thead>\n",
              "    <tr style=\"text-align: right;\">\n",
              "      <th></th>\n",
              "      <th>label</th>\n",
              "      <th>pixel1</th>\n",
              "      <th>pixel2</th>\n",
              "      <th>pixel3</th>\n",
              "      <th>pixel4</th>\n",
              "      <th>pixel5</th>\n",
              "      <th>pixel6</th>\n",
              "      <th>pixel7</th>\n",
              "      <th>pixel8</th>\n",
              "      <th>pixel9</th>\n",
              "      <th>...</th>\n",
              "      <th>pixel775</th>\n",
              "      <th>pixel776</th>\n",
              "      <th>pixel777</th>\n",
              "      <th>pixel778</th>\n",
              "      <th>pixel779</th>\n",
              "      <th>pixel780</th>\n",
              "      <th>pixel781</th>\n",
              "      <th>pixel782</th>\n",
              "      <th>pixel783</th>\n",
              "      <th>pixel784</th>\n",
              "    </tr>\n",
              "  </thead>\n",
              "  <tbody>\n",
              "    <tr>\n",
              "      <th>0</th>\n",
              "      <td>2</td>\n",
              "      <td>0</td>\n",
              "      <td>0</td>\n",
              "      <td>0</td>\n",
              "      <td>0</td>\n",
              "      <td>0</td>\n",
              "      <td>0</td>\n",
              "      <td>0</td>\n",
              "      <td>0</td>\n",
              "      <td>0</td>\n",
              "      <td>...</td>\n",
              "      <td>0</td>\n",
              "      <td>0</td>\n",
              "      <td>0</td>\n",
              "      <td>0</td>\n",
              "      <td>0</td>\n",
              "      <td>0</td>\n",
              "      <td>0</td>\n",
              "      <td>0</td>\n",
              "      <td>0</td>\n",
              "      <td>0</td>\n",
              "    </tr>\n",
              "    <tr>\n",
              "      <th>1</th>\n",
              "      <td>9</td>\n",
              "      <td>0</td>\n",
              "      <td>0</td>\n",
              "      <td>0</td>\n",
              "      <td>0</td>\n",
              "      <td>0</td>\n",
              "      <td>0</td>\n",
              "      <td>0</td>\n",
              "      <td>0</td>\n",
              "      <td>0</td>\n",
              "      <td>...</td>\n",
              "      <td>0</td>\n",
              "      <td>0</td>\n",
              "      <td>0</td>\n",
              "      <td>0</td>\n",
              "      <td>0</td>\n",
              "      <td>0</td>\n",
              "      <td>0</td>\n",
              "      <td>0</td>\n",
              "      <td>0</td>\n",
              "      <td>0</td>\n",
              "    </tr>\n",
              "    <tr>\n",
              "      <th>2</th>\n",
              "      <td>6</td>\n",
              "      <td>0</td>\n",
              "      <td>0</td>\n",
              "      <td>0</td>\n",
              "      <td>0</td>\n",
              "      <td>0</td>\n",
              "      <td>0</td>\n",
              "      <td>0</td>\n",
              "      <td>5</td>\n",
              "      <td>0</td>\n",
              "      <td>...</td>\n",
              "      <td>0</td>\n",
              "      <td>0</td>\n",
              "      <td>0</td>\n",
              "      <td>30</td>\n",
              "      <td>43</td>\n",
              "      <td>0</td>\n",
              "      <td>0</td>\n",
              "      <td>0</td>\n",
              "      <td>0</td>\n",
              "      <td>0</td>\n",
              "    </tr>\n",
              "    <tr>\n",
              "      <th>3</th>\n",
              "      <td>0</td>\n",
              "      <td>0</td>\n",
              "      <td>0</td>\n",
              "      <td>0</td>\n",
              "      <td>1</td>\n",
              "      <td>2</td>\n",
              "      <td>0</td>\n",
              "      <td>0</td>\n",
              "      <td>0</td>\n",
              "      <td>0</td>\n",
              "      <td>...</td>\n",
              "      <td>3</td>\n",
              "      <td>0</td>\n",
              "      <td>0</td>\n",
              "      <td>0</td>\n",
              "      <td>0</td>\n",
              "      <td>1</td>\n",
              "      <td>0</td>\n",
              "      <td>0</td>\n",
              "      <td>0</td>\n",
              "      <td>0</td>\n",
              "    </tr>\n",
              "    <tr>\n",
              "      <th>4</th>\n",
              "      <td>3</td>\n",
              "      <td>0</td>\n",
              "      <td>0</td>\n",
              "      <td>0</td>\n",
              "      <td>0</td>\n",
              "      <td>0</td>\n",
              "      <td>0</td>\n",
              "      <td>0</td>\n",
              "      <td>0</td>\n",
              "      <td>0</td>\n",
              "      <td>...</td>\n",
              "      <td>0</td>\n",
              "      <td>0</td>\n",
              "      <td>0</td>\n",
              "      <td>0</td>\n",
              "      <td>0</td>\n",
              "      <td>0</td>\n",
              "      <td>0</td>\n",
              "      <td>0</td>\n",
              "      <td>0</td>\n",
              "      <td>0</td>\n",
              "    </tr>\n",
              "  </tbody>\n",
              "</table>\n",
              "<p>5 rows × 785 columns</p>\n",
              "</div>\n",
              "    <div class=\"colab-df-buttons\">\n",
              "\n",
              "  <div class=\"colab-df-container\">\n",
              "    <button class=\"colab-df-convert\" onclick=\"convertToInteractive('df-cf8939d3-9741-494d-a779-c77970fa9e04')\"\n",
              "            title=\"Convert this dataframe to an interactive table.\"\n",
              "            style=\"display:none;\">\n",
              "\n",
              "  <svg xmlns=\"http://www.w3.org/2000/svg\" height=\"24px\" viewBox=\"0 -960 960 960\">\n",
              "    <path d=\"M120-120v-720h720v720H120Zm60-500h600v-160H180v160Zm220 220h160v-160H400v160Zm0 220h160v-160H400v160ZM180-400h160v-160H180v160Zm440 0h160v-160H620v160ZM180-180h160v-160H180v160Zm440 0h160v-160H620v160Z\"/>\n",
              "  </svg>\n",
              "    </button>\n",
              "\n",
              "  <style>\n",
              "    .colab-df-container {\n",
              "      display:flex;\n",
              "      gap: 12px;\n",
              "    }\n",
              "\n",
              "    .colab-df-convert {\n",
              "      background-color: #E8F0FE;\n",
              "      border: none;\n",
              "      border-radius: 50%;\n",
              "      cursor: pointer;\n",
              "      display: none;\n",
              "      fill: #1967D2;\n",
              "      height: 32px;\n",
              "      padding: 0 0 0 0;\n",
              "      width: 32px;\n",
              "    }\n",
              "\n",
              "    .colab-df-convert:hover {\n",
              "      background-color: #E2EBFA;\n",
              "      box-shadow: 0px 1px 2px rgba(60, 64, 67, 0.3), 0px 1px 3px 1px rgba(60, 64, 67, 0.15);\n",
              "      fill: #174EA6;\n",
              "    }\n",
              "\n",
              "    .colab-df-buttons div {\n",
              "      margin-bottom: 4px;\n",
              "    }\n",
              "\n",
              "    [theme=dark] .colab-df-convert {\n",
              "      background-color: #3B4455;\n",
              "      fill: #D2E3FC;\n",
              "    }\n",
              "\n",
              "    [theme=dark] .colab-df-convert:hover {\n",
              "      background-color: #434B5C;\n",
              "      box-shadow: 0px 1px 3px 1px rgba(0, 0, 0, 0.15);\n",
              "      filter: drop-shadow(0px 1px 2px rgba(0, 0, 0, 0.3));\n",
              "      fill: #FFFFFF;\n",
              "    }\n",
              "  </style>\n",
              "\n",
              "    <script>\n",
              "      const buttonEl =\n",
              "        document.querySelector('#df-cf8939d3-9741-494d-a779-c77970fa9e04 button.colab-df-convert');\n",
              "      buttonEl.style.display =\n",
              "        google.colab.kernel.accessAllowed ? 'block' : 'none';\n",
              "\n",
              "      async function convertToInteractive(key) {\n",
              "        const element = document.querySelector('#df-cf8939d3-9741-494d-a779-c77970fa9e04');\n",
              "        const dataTable =\n",
              "          await google.colab.kernel.invokeFunction('convertToInteractive',\n",
              "                                                    [key], {});\n",
              "        if (!dataTable) return;\n",
              "\n",
              "        const docLinkHtml = 'Like what you see? Visit the ' +\n",
              "          '<a target=\"_blank\" href=https://colab.research.google.com/notebooks/data_table.ipynb>data table notebook</a>'\n",
              "          + ' to learn more about interactive tables.';\n",
              "        element.innerHTML = '';\n",
              "        dataTable['output_type'] = 'display_data';\n",
              "        await google.colab.output.renderOutput(dataTable, element);\n",
              "        const docLink = document.createElement('div');\n",
              "        docLink.innerHTML = docLinkHtml;\n",
              "        element.appendChild(docLink);\n",
              "      }\n",
              "    </script>\n",
              "  </div>\n",
              "\n",
              "\n",
              "<div id=\"df-4a904ba7-52c8-4dd1-bc83-35652f5968f1\">\n",
              "  <button class=\"colab-df-quickchart\" onclick=\"quickchart('df-4a904ba7-52c8-4dd1-bc83-35652f5968f1')\"\n",
              "            title=\"Suggest charts\"\n",
              "            style=\"display:none;\">\n",
              "\n",
              "<svg xmlns=\"http://www.w3.org/2000/svg\" height=\"24px\"viewBox=\"0 0 24 24\"\n",
              "     width=\"24px\">\n",
              "    <g>\n",
              "        <path d=\"M19 3H5c-1.1 0-2 .9-2 2v14c0 1.1.9 2 2 2h14c1.1 0 2-.9 2-2V5c0-1.1-.9-2-2-2zM9 17H7v-7h2v7zm4 0h-2V7h2v10zm4 0h-2v-4h2v4z\"/>\n",
              "    </g>\n",
              "</svg>\n",
              "  </button>\n",
              "\n",
              "<style>\n",
              "  .colab-df-quickchart {\n",
              "      --bg-color: #E8F0FE;\n",
              "      --fill-color: #1967D2;\n",
              "      --hover-bg-color: #E2EBFA;\n",
              "      --hover-fill-color: #174EA6;\n",
              "      --disabled-fill-color: #AAA;\n",
              "      --disabled-bg-color: #DDD;\n",
              "  }\n",
              "\n",
              "  [theme=dark] .colab-df-quickchart {\n",
              "      --bg-color: #3B4455;\n",
              "      --fill-color: #D2E3FC;\n",
              "      --hover-bg-color: #434B5C;\n",
              "      --hover-fill-color: #FFFFFF;\n",
              "      --disabled-bg-color: #3B4455;\n",
              "      --disabled-fill-color: #666;\n",
              "  }\n",
              "\n",
              "  .colab-df-quickchart {\n",
              "    background-color: var(--bg-color);\n",
              "    border: none;\n",
              "    border-radius: 50%;\n",
              "    cursor: pointer;\n",
              "    display: none;\n",
              "    fill: var(--fill-color);\n",
              "    height: 32px;\n",
              "    padding: 0;\n",
              "    width: 32px;\n",
              "  }\n",
              "\n",
              "  .colab-df-quickchart:hover {\n",
              "    background-color: var(--hover-bg-color);\n",
              "    box-shadow: 0 1px 2px rgba(60, 64, 67, 0.3), 0 1px 3px 1px rgba(60, 64, 67, 0.15);\n",
              "    fill: var(--button-hover-fill-color);\n",
              "  }\n",
              "\n",
              "  .colab-df-quickchart-complete:disabled,\n",
              "  .colab-df-quickchart-complete:disabled:hover {\n",
              "    background-color: var(--disabled-bg-color);\n",
              "    fill: var(--disabled-fill-color);\n",
              "    box-shadow: none;\n",
              "  }\n",
              "\n",
              "  .colab-df-spinner {\n",
              "    border: 2px solid var(--fill-color);\n",
              "    border-color: transparent;\n",
              "    border-bottom-color: var(--fill-color);\n",
              "    animation:\n",
              "      spin 1s steps(1) infinite;\n",
              "  }\n",
              "\n",
              "  @keyframes spin {\n",
              "    0% {\n",
              "      border-color: transparent;\n",
              "      border-bottom-color: var(--fill-color);\n",
              "      border-left-color: var(--fill-color);\n",
              "    }\n",
              "    20% {\n",
              "      border-color: transparent;\n",
              "      border-left-color: var(--fill-color);\n",
              "      border-top-color: var(--fill-color);\n",
              "    }\n",
              "    30% {\n",
              "      border-color: transparent;\n",
              "      border-left-color: var(--fill-color);\n",
              "      border-top-color: var(--fill-color);\n",
              "      border-right-color: var(--fill-color);\n",
              "    }\n",
              "    40% {\n",
              "      border-color: transparent;\n",
              "      border-right-color: var(--fill-color);\n",
              "      border-top-color: var(--fill-color);\n",
              "    }\n",
              "    60% {\n",
              "      border-color: transparent;\n",
              "      border-right-color: var(--fill-color);\n",
              "    }\n",
              "    80% {\n",
              "      border-color: transparent;\n",
              "      border-right-color: var(--fill-color);\n",
              "      border-bottom-color: var(--fill-color);\n",
              "    }\n",
              "    90% {\n",
              "      border-color: transparent;\n",
              "      border-bottom-color: var(--fill-color);\n",
              "    }\n",
              "  }\n",
              "</style>\n",
              "\n",
              "  <script>\n",
              "    async function quickchart(key) {\n",
              "      const quickchartButtonEl =\n",
              "        document.querySelector('#' + key + ' button');\n",
              "      quickchartButtonEl.disabled = true;  // To prevent multiple clicks.\n",
              "      quickchartButtonEl.classList.add('colab-df-spinner');\n",
              "      try {\n",
              "        const charts = await google.colab.kernel.invokeFunction(\n",
              "            'suggestCharts', [key], {});\n",
              "      } catch (error) {\n",
              "        console.error('Error during call to suggestCharts:', error);\n",
              "      }\n",
              "      quickchartButtonEl.classList.remove('colab-df-spinner');\n",
              "      quickchartButtonEl.classList.add('colab-df-quickchart-complete');\n",
              "    }\n",
              "    (() => {\n",
              "      let quickchartButtonEl =\n",
              "        document.querySelector('#df-4a904ba7-52c8-4dd1-bc83-35652f5968f1 button');\n",
              "      quickchartButtonEl.style.display =\n",
              "        google.colab.kernel.accessAllowed ? 'block' : 'none';\n",
              "    })();\n",
              "  </script>\n",
              "</div>\n",
              "\n",
              "    </div>\n",
              "  </div>\n"
            ],
            "application/vnd.google.colaboratory.intrinsic+json": {
              "type": "dataframe",
              "variable_name": "df"
            }
          },
          "metadata": {},
          "execution_count": 6
        }
      ]
    },
    {
      "cell_type": "code",
      "source": [
        "df.shape"
      ],
      "metadata": {
        "colab": {
          "base_uri": "https://localhost:8080/"
        },
        "id": "rh8R2oY-Nwxu",
        "outputId": "e19ba032-d24b-421d-831a-58139ac0ca29"
      },
      "execution_count": 7,
      "outputs": [
        {
          "output_type": "execute_result",
          "data": {
            "text/plain": [
              "(60000, 785)"
            ]
          },
          "metadata": {},
          "execution_count": 7
        }
      ]
    },
    {
      "cell_type": "code",
      "source": [
        "# Create a 4x4 grid of images\n",
        "fig, axes = plt.subplots(4, 4, figsize=(10, 10))\n",
        "fig.suptitle(\"First 16 Images\", fontsize=16)\n",
        "\n",
        "# Plot the first 16 images from the dataset\n",
        "for i, ax in enumerate(axes.flat):\n",
        "    img = df.iloc[i, 1:].values.reshape(28, 28)\n",
        "    ax.imshow(img,cmap='grey')\n",
        "    ax.axis('off')\n",
        "    ax.set_title(f\"Label: {df.iloc[i, 0]}\")\n",
        "\n",
        "plt.tight_layout(rect=[0, 0, 1, 0.96])\n",
        "plt.show()\n"
      ],
      "metadata": {
        "colab": {
          "base_uri": "https://localhost:8080/",
          "height": 1000
        },
        "id": "weGeg3_TROdx",
        "outputId": "67c778b6-d62a-4e63-f6c1-6d7292f9d03c"
      },
      "execution_count": 9,
      "outputs": [
        {
          "output_type": "display_data",
          "data": {
            "text/plain": [
              "<Figure size 1000x1000 with 16 Axes>"
            ],
            "image/png": "[encoded data removed]"
          },
          "metadata": {}
        }
      ]
    },
    {
      "cell_type": "code",
      "source": [
        "#train test split\n",
        "X=df.iloc[:,1:].values\n",
        "y=df.iloc[:,0].values"
      ],
      "metadata": {
        "id": "VlumZ-2zRdJw"
      },
      "execution_count": 10,
      "outputs": []
    },
    {
      "cell_type": "code",
      "source": [
        "X_train,X_test,y_train,y_test=train_test_split(X,y,test_size=0.2,random_state=42)"
      ],
      "metadata": {
        "id": "lxQrHfjHRrQW"
      },
      "execution_count": 11,
      "outputs": []
    },
    {
      "cell_type": "code",
      "source": [
        "#normalize\n",
        "X_train=X_train/255.0\n",
        "X_test=X_test/255.0"
      ],
      "metadata": {
        "id": "5kBXpkPnRu8L"
      },
      "execution_count": 12,
      "outputs": []
    },
    {
      "cell_type": "code",
      "source": [
        "class CustomDataset(Dataset):\n",
        "  def __init__(self,features,labels):\n",
        "    self.features=torch.tensor(features,dtype=torch.float32).reshape(-1,1,28,28) #reshape 1d to 2d array 1-> channel, 28*28->image size 784 -1-> batch size placeholder\n",
        "    self.labels=torch.tensor(labels,dtype=torch.long)\n",
        "\n",
        "  def __len__(self):\n",
        "    return len(self.features)\n",
        "\n",
        "  def __getitem__(self,idx):\n",
        "    return self.features[idx],self.labels[idx]"
      ],
      "metadata": {
        "id": "yIdMs7C6RyKC"
      },
      "execution_count": 16,
      "outputs": []
    },
    {
      "cell_type": "code",
      "source": [
        "train_dataset=CustomDataset(X_train,y_train)\n",
        "test_dataset=CustomDataset(X_test,y_test)"
      ],
      "metadata": {
        "id": "lyMWFQxESWxx"
      },
      "execution_count": 17,
      "outputs": []
    },
    {
      "cell_type": "code",
      "source": [
        "train_loader = DataLoader(train_dataset, batch_size=32, shuffle=True, pin_memory=True)\n",
        "test_loader = DataLoader(test_dataset, batch_size=32, shuffle=False, pin_memory=True)"
      ],
      "metadata": {
        "id": "0OWEOV85Sf3p"
      },
      "execution_count": 18,
      "outputs": []
    },
    {
      "cell_type": "code",
      "source": [
        "class myCNN(nn.Module):\n",
        "  def __init__(self,features):\n",
        "    super().__init__()\n",
        "\n",
        "    self.features=nn.Sequential(\n",
        "        nn.Conv2d(features,32,kernel_size=3,padding='same'),\n",
        "        nn.ReLU(),\n",
        "        nn.BatchNorm2d(32),\n",
        "        nn.MaxPool2d(kernel_size=2,stride=2),\n",
        "\n",
        "        nn.Conv2d(32,64,kernel_size=3,padding='same'),\n",
        "        nn.ReLU(),\n",
        "        nn.BatchNorm2d(64),\n",
        "        nn.MaxPool2d(kernel_size=2,stride=2))\n",
        "\n",
        "    self.classifier=nn.Sequential(\n",
        "        nn.Flatten(),\n",
        "        nn.Linear(64*7*7,128),\n",
        "        nn.ReLU(),\n",
        "        nn.Dropout(p=0.4),\n",
        "\n",
        "        nn.Linear(128,64),\n",
        "        nn.ReLU(),\n",
        "        nn.Dropout(p=0.4),\n",
        "\n",
        "        nn.Linear(64,10)\n",
        "    )\n",
        "  def forward(self,x):\n",
        "    x=self.features(x)\n",
        "    x=self.classifier(x)\n",
        "    return x\n",
        "\n"
      ],
      "metadata": {
        "id": "wPF1BIV7TmYe"
      },
      "execution_count": 22,
      "outputs": []
    },
    {
      "cell_type": "code",
      "source": [
        "learning_rate=0.01\n",
        "epochs=100"
      ],
      "metadata": {
        "id": "Q9t69XfOYKHI"
      },
      "execution_count": 20,
      "outputs": []
    },
    {
      "cell_type": "code",
      "source": [
        "model=myCNN(1)\n",
        "model.to(device)\n",
        "\n",
        "loss_function=nn.CrossEntropyLoss()\n",
        "optimizer=optim.SGD(model.parameters(),lr=learning_rate,weight_decay=1e-4)"
      ],
      "metadata": {
        "id": "AxQuUFUbYNZ5"
      },
      "execution_count": 23,
      "outputs": []
    },
    {
      "cell_type": "code",
      "source": [
        "#training loop\n",
        "for epoch in range(epochs):\n",
        "  total_epoch_loss=0\n",
        "  for batch_features,batch_labels in train_loader:\n",
        "    batch_features=batch_features.to(device)\n",
        "    batch_labels=batch_labels.to(device)\n",
        "\n",
        "    y_pred=model(batch_features) #forward pass\n",
        "    loss=loss_function(y_pred,batch_labels)\n",
        "    optimizer.zero_grad()\n",
        "    loss.backward() # backward pass\n",
        "    optimizer.step() #update weights\n",
        "\n",
        "    total_epoch_loss+=loss.item()\n",
        "\n",
        "  avg_loss=total_epoch_loss/len(train_loader)\n",
        "  print(f'Epoch : {epoch+1}, Loss : {avg_loss}')\n"
      ],
      "metadata": {
        "colab": {
          "base_uri": "https://localhost:8080/"
        },
        "id": "f4SaqMuhYn0K",
        "outputId": "6e7d4d15-28ae-4aba-8c7a-ed5b2a1ab240"
      },
      "execution_count": 25,
      "outputs": [
        {
          "output_type": "stream",
          "name": "stdout",
          "text": [
            "Epoch : 1, Loss : 0.6682833328743776\n",
            "Epoch : 2, Loss : 0.3867432298163573\n",
            "Epoch : 3, Loss : 0.32444419303288063\n",
            "Epoch : 4, Loss : 0.2907682353258133\n",
            "Epoch : 5, Loss : 0.26399966598053776\n",
            "Epoch : 6, Loss : 0.24652865219737094\n",
            "Epoch : 7, Loss : 0.2306274610981345\n",
            "Epoch : 8, Loss : 0.21487142912422616\n",
            "Epoch : 9, Loss : 0.2024088937876125\n",
            "Epoch : 10, Loss : 0.19248113657782476\n",
            "Epoch : 11, Loss : 0.1791415118140479\n",
            "Epoch : 12, Loss : 0.16947951296530664\n",
            "Epoch : 13, Loss : 0.15858761512798566\n",
            "Epoch : 14, Loss : 0.1531229179976508\n",
            "Epoch : 15, Loss : 0.1411478937738575\n",
            "Epoch : 16, Loss : 0.13407255224697293\n",
            "Epoch : 17, Loss : 0.12998814982843274\n",
            "Epoch : 18, Loss : 0.12014068865931282\n",
            "Epoch : 19, Loss : 0.11446130166000996\n",
            "Epoch : 20, Loss : 0.1097982577875567\n",
            "Epoch : 21, Loss : 0.10629868647595868\n",
            "Epoch : 22, Loss : 0.101682230196738\n",
            "Epoch : 23, Loss : 0.09306993451629145\n",
            "Epoch : 24, Loss : 0.09136284657342669\n",
            "Epoch : 25, Loss : 0.08823247987039698\n",
            "Epoch : 26, Loss : 0.0806889268924715\n",
            "Epoch : 27, Loss : 0.08073480934191805\n",
            "Epoch : 28, Loss : 0.07849502800730988\n",
            "Epoch : 29, Loss : 0.07180052673488778\n",
            "Epoch : 30, Loss : 0.06984405238763429\n",
            "Epoch : 31, Loss : 0.06775833994868057\n",
            "Epoch : 32, Loss : 0.0655121172980871\n",
            "Epoch : 33, Loss : 0.061367619045428\n",
            "Epoch : 34, Loss : 0.05965343320251365\n",
            "Epoch : 35, Loss : 0.05925119413647432\n",
            "Epoch : 36, Loss : 0.05174730482253168\n",
            "Epoch : 37, Loss : 0.05560451709436408\n",
            "Epoch : 38, Loss : 0.05150966448116621\n",
            "Epoch : 39, Loss : 0.049448261876789426\n",
            "Epoch : 40, Loss : 0.04794998253844096\n",
            "Epoch : 41, Loss : 0.04846829998090592\n",
            "Epoch : 42, Loss : 0.044351694607704606\n",
            "Epoch : 43, Loss : 0.046148131672322054\n",
            "Epoch : 44, Loss : 0.04014330213782766\n",
            "Epoch : 45, Loss : 0.041989891825751934\n",
            "Epoch : 46, Loss : 0.040654430981963134\n",
            "Epoch : 47, Loss : 0.03653429862538663\n",
            "Epoch : 48, Loss : 0.03740974974913115\n",
            "Epoch : 49, Loss : 0.03726988997302397\n",
            "Epoch : 50, Loss : 0.03988622258284401\n",
            "Epoch : 51, Loss : 0.033417032819314046\n",
            "Epoch : 52, Loss : 0.03138854680388613\n",
            "Epoch : 53, Loss : 0.03471302615445408\n",
            "Epoch : 54, Loss : 0.03612102323905856\n",
            "Epoch : 55, Loss : 0.03337198234740451\n",
            "Epoch : 56, Loss : 0.030745883669858205\n",
            "Epoch : 57, Loss : 0.02917613193769527\n",
            "Epoch : 58, Loss : 0.02812537448867806\n",
            "Epoch : 59, Loss : 0.028980101823413863\n",
            "Epoch : 60, Loss : 0.027282535549983854\n",
            "Epoch : 61, Loss : 0.02667571664637823\n",
            "Epoch : 62, Loss : 0.027477432056274363\n",
            "Epoch : 63, Loss : 0.02639957808176162\n",
            "Epoch : 64, Loss : 0.02766607276783452\n",
            "Epoch : 65, Loss : 0.025788995013541958\n",
            "Epoch : 66, Loss : 0.025253658900441223\n",
            "Epoch : 67, Loss : 0.025265123293839377\n",
            "Epoch : 68, Loss : 0.02415879676689019\n",
            "Epoch : 69, Loss : 0.024151220467298118\n",
            "Epoch : 70, Loss : 0.021939293346359287\n",
            "Epoch : 71, Loss : 0.023553682519574067\n",
            "Epoch : 72, Loss : 0.021873173195099904\n",
            "Epoch : 73, Loss : 0.021462755533816866\n",
            "Epoch : 74, Loss : 0.022090920553556923\n",
            "Epoch : 75, Loss : 0.020220381658347227\n",
            "Epoch : 76, Loss : 0.022721162319453772\n",
            "Epoch : 77, Loss : 0.021021704934948503\n",
            "Epoch : 78, Loss : 0.019439563659518173\n",
            "Epoch : 79, Loss : 0.02221688308719725\n",
            "Epoch : 80, Loss : 0.021550694802533143\n",
            "Epoch : 81, Loss : 0.019927349688651248\n",
            "Epoch : 82, Loss : 0.01725374516205223\n",
            "Epoch : 83, Loss : 0.017915566677603693\n",
            "Epoch : 84, Loss : 0.016659919676036226\n",
            "Epoch : 85, Loss : 0.016587500989156373\n",
            "Epoch : 86, Loss : 0.018607112204887623\n",
            "Epoch : 87, Loss : 0.020897059207632386\n",
            "Epoch : 88, Loss : 0.018336830222644342\n",
            "Epoch : 89, Loss : 0.018975171707939806\n",
            "Epoch : 90, Loss : 0.017949393638366017\n",
            "Epoch : 91, Loss : 0.018092036704400318\n",
            "Epoch : 92, Loss : 0.018125683928132883\n",
            "Epoch : 93, Loss : 0.017857695685169043\n",
            "Epoch : 94, Loss : 0.01712222352518923\n",
            "Epoch : 95, Loss : 0.01595072937943981\n",
            "Epoch : 96, Loss : 0.017174455364555495\n",
            "Epoch : 97, Loss : 0.0170787482249231\n",
            "Epoch : 98, Loss : 0.014780001681881913\n",
            "Epoch : 99, Loss : 0.015124491698680383\n",
            "Epoch : 100, Loss : 0.014350673692852676\n"
          ]
        }
      ]
    },
    {
      "cell_type": "code",
      "source": [
        "model.eval()"
      ],
      "metadata": {
        "colab": {
          "base_uri": "https://localhost:8080/"
        },
        "id": "ISSTGzNjZvCE",
        "outputId": "7b24033b-783b-446e-c43f-cd1f746e0ab4"
      },
      "execution_count": 26,
      "outputs": [
        {
          "output_type": "execute_result",
          "data": {
            "text/plain": [
              "myCNN(\n",
              "  (features): Sequential(\n",
              "    (0): Conv2d(1, 32, kernel_size=(3, 3), stride=(1, 1), padding=same)\n",
              "    (1): ReLU()\n",
              "    (2): BatchNorm2d(32, eps=1e-05, momentum=0.1, affine=True, track_running_stats=True)\n",
              "    (3): MaxPool2d(kernel_size=2, stride=2, padding=0, dilation=1, ceil_mode=False)\n",
              "    (4): Conv2d(32, 64, kernel_size=(3, 3), stride=(1, 1), padding=same)\n",
              "    (5): ReLU()\n",
              "    (6): BatchNorm2d(64, eps=1e-05, momentum=0.1, affine=True, track_running_stats=True)\n",
              "    (7): MaxPool2d(kernel_size=2, stride=2, padding=0, dilation=1, ceil_mode=False)\n",
              "  )\n",
              "  (classifier): Sequential(\n",
              "    (0): Flatten(start_dim=1, end_dim=-1)\n",
              "    (1): Linear(in_features=3136, out_features=128, bias=True)\n",
              "    (2): ReLU()\n",
              "    (3): Dropout(p=0.4, inplace=False)\n",
              "    (4): Linear(in_features=128, out_features=64, bias=True)\n",
              "    (5): ReLU()\n",
              "    (6): Dropout(p=0.4, inplace=False)\n",
              "    (7): Linear(in_features=64, out_features=10, bias=True)\n",
              "  )\n",
              ")"
            ]
          },
          "metadata": {},
          "execution_count": 26
        }
      ]
    },
    {
      "cell_type": "code",
      "source": [
        "#evaluate on test data\n",
        "\n",
        "total=0\n",
        "correct=0\n",
        "\n",
        "with torch.no_grad():\n",
        "  for batch_features,batch_labels in test_loader:\n",
        "    batch_features=batch_features.to(device)\n",
        "    batch_labels=batch_labels.to(device)\n",
        "    y_pred=model(batch_features)\n",
        "    _,predicted=torch.max(y_pred,1)\n",
        "    total+=batch_labels.shape[0]\n",
        "    correct+=(predicted==batch_labels).sum().item()\n",
        "print(correct/total)"
      ],
      "metadata": {
        "colab": {
          "base_uri": "https://localhost:8080/"
        },
        "id": "j258Eg6MZyTq",
        "outputId": "7663e16f-5442-4046-cdda-abde6f44826c"
      },
      "execution_count": 27,
      "outputs": [
        {
          "output_type": "stream",
          "name": "stdout",
          "text": [
            "0.92225\n"
          ]
        }
      ]
    },
    {
      "cell_type": "code",
      "source": [
        "#evaluate on train data\n",
        "\n",
        "total=0\n",
        "correct=0\n",
        "\n",
        "with torch.no_grad():\n",
        "  for batch_features,batch_labels in train_loader:\n",
        "    batch_features=batch_features.to(device)\n",
        "    batch_labels=batch_labels.to(device)\n",
        "    y_pred=model(batch_features)\n",
        "    _,predicted=torch.max(y_pred,1)\n",
        "    total+=batch_labels.shape[0]\n",
        "    correct+=(predicted==batch_labels).sum().item()\n",
        "print(correct/total)"
      ],
      "metadata": {
        "colab": {
          "base_uri": "https://localhost:8080/"
        },
        "id": "_tslKcIsaYIT",
        "outputId": "b03f8b29-23d1-442b-de54-3eeaa649833b"
      },
      "execution_count": 28,
      "outputs": [
        {
          "output_type": "stream",
          "name": "stdout",
          "text": [
            "0.9998541666666667\n"
          ]
        }
      ]
    }
  ]
}