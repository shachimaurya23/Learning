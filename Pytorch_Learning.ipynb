{
  "nbformat": 4,
  "nbformat_minor": 0,
  "metadata": {
    "colab": {
      "provenance": [],
      "gpuType": "T4",
      "authorship_tag": "ABX9TyPiclAyYvD3EoOsB2XjmjBO",
      "include_colab_link": true
    },
    "kernelspec": {
      "name": "python3",
      "display_name": "Python 3"
    },
    "language_info": {
      "name": "python"
    },
    "accelerator": "GPU"
  },
  "cells": [
    {
      "cell_type": "markdown",
      "metadata": {
        "id": "view-in-github",
        "colab_type": "text"
      },
      "source": [
        "<a href=\"https://colab.research.google.com/github/shachimaurya23/Learning/blob/main/Pytorch_Learning.ipynb\" target=\"_parent\"><img src=\"https://colab.research.google.com/assets/colab-badge.svg\" alt=\"Open In Colab\"/></a>"
      ]
    },
    {
      "cell_type": "markdown",
      "source": [
        "# Import torch and check for GPU"
      ],
      "metadata": {
        "id": "hiw0dffQ_hA2"
      }
    },
    {
      "cell_type": "code",
      "execution_count": 2,
      "metadata": {
        "colab": {
          "base_uri": "https://localhost:8080/"
        },
        "id": "gZD9rYHA-WVR",
        "outputId": "31a0e403-8867-4f31-ead6-ec191751191c"
      },
      "outputs": [
        {
          "output_type": "stream",
          "name": "stdout",
          "text": [
            "2.5.1+cu121\n"
          ]
        }
      ],
      "source": [
        "import torch\n",
        "print(torch.__version__)"
      ]
    },
    {
      "cell_type": "code",
      "source": [
        "if torch.cuda.is_available():\n",
        "  print(\"GPU is available\")\n",
        "  print(f\"using GPU: {torch.cuda.get_device_name(0)}\")\n",
        "else:\n",
        "  print(\"GPU is not available\")"
      ],
      "metadata": {
        "colab": {
          "base_uri": "https://localhost:8080/"
        },
        "id": "NLg2keku_I84",
        "outputId": "5ac5ce49-e0d3-417e-ee8f-b61a132157eb"
      },
      "execution_count": 3,
      "outputs": [
        {
          "output_type": "stream",
          "name": "stdout",
          "text": [
            "GPU is available\n",
            "using GPU: Tesla T4\n"
          ]
        }
      ]
    },
    {
      "cell_type": "markdown",
      "source": [
        "# Creating a Tensor"
      ],
      "metadata": {
        "id": "jmIZMnXk_mki"
      }
    },
    {
      "cell_type": "code",
      "source": [
        " # using empty\n",
        "a=torch.empty(2,3)"
      ],
      "metadata": {
        "id": "M9JquFTS_qJa"
      },
      "execution_count": null,
      "outputs": []
    },
    {
      "cell_type": "code",
      "source": [
        "#check type\n",
        "type(a )"
      ],
      "metadata": {
        "colab": {
          "base_uri": "https://localhost:8080/"
        },
        "id": "8sR0nn3eAy79",
        "outputId": "c97cfbcf-2d90-4ad5-f553-711c45bf5b6e"
      },
      "execution_count": null,
      "outputs": [
        {
          "output_type": "execute_result",
          "data": {
            "text/plain": [
              "torch.Tensor"
            ]
          },
          "metadata": {},
          "execution_count": 10
        }
      ]
    },
    {
      "cell_type": "code",
      "source": [
        "#using zeros\n",
        "torch.zeros(2,3)"
      ],
      "metadata": {
        "colab": {
          "base_uri": "https://localhost:8080/"
        },
        "id": "sXg48U8dA97x",
        "outputId": "800a2a55-b639-4c09-e79d-b6067ec84e19"
      },
      "execution_count": null,
      "outputs": [
        {
          "output_type": "execute_result",
          "data": {
            "text/plain": [
              "tensor([[0., 0., 0.],\n",
              "        [0., 0., 0.]])"
            ]
          },
          "metadata": {},
          "execution_count": 11
        }
      ]
    },
    {
      "cell_type": "code",
      "source": [
        "#using ones\n",
        "torch.ones(2,3)"
      ],
      "metadata": {
        "colab": {
          "base_uri": "https://localhost:8080/"
        },
        "id": "TIYbg2kRBFu5",
        "outputId": "3aa96a5e-b191-4fa6-bfac-e8e6392f80f5"
      },
      "execution_count": null,
      "outputs": [
        {
          "output_type": "execute_result",
          "data": {
            "text/plain": [
              "tensor([[1., 1., 1.],\n",
              "        [1., 1., 1.]])"
            ]
          },
          "metadata": {},
          "execution_count": 12
        }
      ]
    },
    {
      "cell_type": "code",
      "source": [
        "#using rand\n",
        "torch.rand(2,3)"
      ],
      "metadata": {
        "colab": {
          "base_uri": "https://localhost:8080/"
        },
        "id": "WeQOvkrtBRfz",
        "outputId": "2b17b63f-5e6a-47d4-8f69-bab83b9e729f"
      },
      "execution_count": null,
      "outputs": [
        {
          "output_type": "execute_result",
          "data": {
            "text/plain": [
              "tensor([[0.1883, 0.8403, 0.4258],\n",
              "        [0.0997, 0.7505, 0.7697]])"
            ]
          },
          "metadata": {},
          "execution_count": 13
        }
      ]
    },
    {
      "cell_type": "code",
      "source": [
        "#use of seed\n",
        "torch.manual_seed(100)\n",
        "torch.rand(2,3)\n"
      ],
      "metadata": {
        "colab": {
          "base_uri": "https://localhost:8080/"
        },
        "id": "dFFPwnqLCEXb",
        "outputId": "600d2fbd-67c3-4951-d7b9-5b5d2564b8f8"
      },
      "execution_count": null,
      "outputs": [
        {
          "output_type": "execute_result",
          "data": {
            "text/plain": [
              "tensor([[0.1117, 0.8158, 0.2626],\n",
              "        [0.4839, 0.6765, 0.7539]])"
            ]
          },
          "metadata": {},
          "execution_count": 14
        }
      ]
    },
    {
      "cell_type": "code",
      "source": [
        "# manual seed\n",
        "torch.manual_seed(100)\n",
        "torch.rand(2,3)\n"
      ],
      "metadata": {
        "colab": {
          "base_uri": "https://localhost:8080/"
        },
        "id": "StN3g0vnCGrz",
        "outputId": "34aa392e-799d-434f-86ca-3ecaa0e27452"
      },
      "execution_count": null,
      "outputs": [
        {
          "output_type": "execute_result",
          "data": {
            "text/plain": [
              "tensor([[0.1117, 0.8158, 0.2626],\n",
              "        [0.4839, 0.6765, 0.7539]])"
            ]
          },
          "metadata": {},
          "execution_count": 15
        }
      ]
    },
    {
      "cell_type": "code",
      "source": [
        "#using Tensor\n",
        "torch.tensor([[1,2,3],[4,5,6]])"
      ],
      "metadata": {
        "colab": {
          "base_uri": "https://localhost:8080/"
        },
        "id": "VEERx6JqCvWc",
        "outputId": "4ff79cdc-909f-4127-f9e6-1ea6fade8549"
      },
      "execution_count": null,
      "outputs": [
        {
          "output_type": "execute_result",
          "data": {
            "text/plain": [
              "tensor([[1, 2, 3],\n",
              "        [4, 5, 6]])"
            ]
          },
          "metadata": {},
          "execution_count": 18
        }
      ]
    },
    {
      "cell_type": "code",
      "source": [
        "#other ways\n",
        "#arange\n",
        "print(\"arange-> \",torch.arange(0,10))\n",
        "\n",
        "#linspace\n",
        "print(\"linspace->\",torch.linspace(0,10,10))\n",
        "\n",
        "#eye\n",
        "print(\"eye->\",torch.eye(5))\n",
        "\n",
        "#full\n",
        "print(\"full->\",torch.full((3,3),5))"
      ],
      "metadata": {
        "colab": {
          "base_uri": "https://localhost:8080/"
        },
        "id": "5pd8L0srC-9l",
        "outputId": "2eceee46-6604-41a4-9af0-459cf3a15d41"
      },
      "execution_count": null,
      "outputs": [
        {
          "output_type": "stream",
          "name": "stdout",
          "text": [
            "arange->  tensor([0, 1, 2, 3, 4, 5, 6, 7, 8, 9])\n",
            "linspace-> tensor([ 0.0000,  1.1111,  2.2222,  3.3333,  4.4444,  5.5556,  6.6667,  7.7778,\n",
            "         8.8889, 10.0000])\n",
            "eye-> tensor([[1., 0., 0., 0., 0.],\n",
            "        [0., 1., 0., 0., 0.],\n",
            "        [0., 0., 1., 0., 0.],\n",
            "        [0., 0., 0., 1., 0.],\n",
            "        [0., 0., 0., 0., 1.]])\n",
            "full-> tensor([[5, 5, 5],\n",
            "        [5, 5, 5],\n",
            "        [5, 5, 5]])\n"
          ]
        }
      ]
    },
    {
      "cell_type": "markdown",
      "source": [
        "# Tensor Shapes"
      ],
      "metadata": {
        "id": "De4RMPXCEiwU"
      }
    },
    {
      "cell_type": "code",
      "source": [
        "x=torch.tensor([[1,2,3],[4,5,6]])\n",
        "x"
      ],
      "metadata": {
        "colab": {
          "base_uri": "https://localhost:8080/"
        },
        "id": "zbm6MQRrEmp4",
        "outputId": "1cbab9b6-e376-4b74-8725-4d0e9ba676a3"
      },
      "execution_count": null,
      "outputs": [
        {
          "output_type": "execute_result",
          "data": {
            "text/plain": [
              "tensor([[1, 2, 3],\n",
              "        [4, 5, 6]])"
            ]
          },
          "metadata": {},
          "execution_count": 23
        }
      ]
    },
    {
      "cell_type": "code",
      "source": [
        "x.shape"
      ],
      "metadata": {
        "colab": {
          "base_uri": "https://localhost:8080/"
        },
        "id": "pHyyv6WAFPZp",
        "outputId": "b3a6ca4a-f5fd-4100-f247-1ae2ef82f97e"
      },
      "execution_count": null,
      "outputs": [
        {
          "output_type": "execute_result",
          "data": {
            "text/plain": [
              "torch.Size([2, 3])"
            ]
          },
          "metadata": {},
          "execution_count": 24
        }
      ]
    },
    {
      "cell_type": "code",
      "source": [
        "torch.empty_like(x)"
      ],
      "metadata": {
        "colab": {
          "base_uri": "https://localhost:8080/"
        },
        "id": "Rf_zfNJaFZtc",
        "outputId": "0d2ddd8c-1448-4378-f182-be86a26aa3e5"
      },
      "execution_count": null,
      "outputs": [
        {
          "output_type": "execute_result",
          "data": {
            "text/plain": [
              "tensor([[    135832832687504,           150965840,                   0],\n",
              "        [                  0,                   0, 7310593858020254331]])"
            ]
          },
          "metadata": {},
          "execution_count": 25
        }
      ]
    },
    {
      "cell_type": "code",
      "source": [
        "torch.zeros_like(x)"
      ],
      "metadata": {
        "colab": {
          "base_uri": "https://localhost:8080/"
        },
        "id": "dtodRlT0Fqc-",
        "outputId": "dfe55773-0b5b-4cbd-a50d-51498d07b0ae"
      },
      "execution_count": null,
      "outputs": [
        {
          "output_type": "execute_result",
          "data": {
            "text/plain": [
              "tensor([[0, 0, 0],\n",
              "        [0, 0, 0]])"
            ]
          },
          "metadata": {},
          "execution_count": 26
        }
      ]
    },
    {
      "cell_type": "code",
      "source": [
        "torch.ones_like(x)"
      ],
      "metadata": {
        "colab": {
          "base_uri": "https://localhost:8080/"
        },
        "id": "3UWiebvFFtlu",
        "outputId": "8e892677-720e-4540-d578-e7c983ec6b68"
      },
      "execution_count": null,
      "outputs": [
        {
          "output_type": "execute_result",
          "data": {
            "text/plain": [
              "tensor([[1, 1, 1],\n",
              "        [1, 1, 1]])"
            ]
          },
          "metadata": {},
          "execution_count": 27
        }
      ]
    },
    {
      "cell_type": "code",
      "source": [
        "torch.rand_like(x.to(torch.float32))"
      ],
      "metadata": {
        "colab": {
          "base_uri": "https://localhost:8080/"
        },
        "id": "qeDHs_Z-FxMP",
        "outputId": "361530a7-628f-466f-adb5-76c7f4eae890"
      },
      "execution_count": null,
      "outputs": [
        {
          "output_type": "execute_result",
          "data": {
            "text/plain": [
              "tensor([[0.2627, 0.0428, 0.2080],\n",
              "        [0.1180, 0.1217, 0.7356]])"
            ]
          },
          "metadata": {},
          "execution_count": 32
        }
      ]
    },
    {
      "cell_type": "code",
      "source": [
        "torch.rand_like(x,dtype=torch.float32)"
      ],
      "metadata": {
        "colab": {
          "base_uri": "https://localhost:8080/"
        },
        "id": "481y7BgEIJd4",
        "outputId": "5417f5e9-dbf6-4739-976d-e17154332f56"
      },
      "execution_count": null,
      "outputs": [
        {
          "output_type": "execute_result",
          "data": {
            "text/plain": [
              "tensor([[0.7118, 0.7876, 0.4183],\n",
              "        [0.9014, 0.9969, 0.7565]])"
            ]
          },
          "metadata": {},
          "execution_count": 33
        }
      ]
    },
    {
      "cell_type": "markdown",
      "source": [
        "# Tensor Data Types"
      ],
      "metadata": {
        "id": "wn13RID4GDK8"
      }
    },
    {
      "cell_type": "code",
      "source": [
        "#find datatype\n",
        "x.dtype"
      ],
      "metadata": {
        "colab": {
          "base_uri": "https://localhost:8080/"
        },
        "id": "M543B9pUGH32",
        "outputId": "05a0dfc4-8381-4971-b947-e1292d51813d"
      },
      "execution_count": null,
      "outputs": [
        {
          "output_type": "execute_result",
          "data": {
            "text/plain": [
              "torch.int64"
            ]
          },
          "metadata": {},
          "execution_count": 29
        }
      ]
    },
    {
      "cell_type": "code",
      "source": [
        "#assign a data type\n",
        "torch.tensor([1.0,2.0,3.0],dtype=torch.int32)"
      ],
      "metadata": {
        "colab": {
          "base_uri": "https://localhost:8080/"
        },
        "id": "9arJhN9LGO8A",
        "outputId": "00ea5240-89dd-4200-efab-b1c6541c40ca"
      },
      "execution_count": null,
      "outputs": [
        {
          "output_type": "execute_result",
          "data": {
            "text/plain": [
              "tensor([1, 2, 3], dtype=torch.int32)"
            ]
          },
          "metadata": {},
          "execution_count": 30
        }
      ]
    },
    {
      "cell_type": "code",
      "source": [
        "# change data type of tensor\n",
        "x.to(torch.float64)"
      ],
      "metadata": {
        "colab": {
          "base_uri": "https://localhost:8080/"
        },
        "id": "r2WMhrc2Gv_3",
        "outputId": "09e62073-bf60-42b7-ae55-e7e9b529977e"
      },
      "execution_count": null,
      "outputs": [
        {
          "output_type": "execute_result",
          "data": {
            "text/plain": [
              "tensor([[1., 2., 3.],\n",
              "        [4., 5., 6.]], dtype=torch.float64)"
            ]
          },
          "metadata": {},
          "execution_count": 31
        }
      ]
    },
    {
      "cell_type": "markdown",
      "source": [
        "# Mathematical operations"
      ],
      "metadata": {
        "id": "A79803FfH-UE"
      }
    },
    {
      "cell_type": "markdown",
      "source": [
        "## Scaler Operations"
      ],
      "metadata": {
        "id": "aDLGEzEbIaJJ"
      }
    },
    {
      "cell_type": "code",
      "source": [
        "x=torch.rand(2,2)\n",
        "2+x\n",
        "x-2\n",
        "x*2\n",
        "x/2\n",
        "(x*100)//3\n",
        "((x*100)//3)%2\n",
        "x**2"
      ],
      "metadata": {
        "id": "xnFdVB_VIZBi"
      },
      "execution_count": null,
      "outputs": []
    },
    {
      "cell_type": "markdown",
      "source": [
        "## Element wise operation"
      ],
      "metadata": {
        "id": "6XCMIwSqJMev"
      }
    },
    {
      "cell_type": "code",
      "source": [
        "a=torch.rand(2,3)\n",
        "b=torch.rand(2,3)\n",
        "a+b\n",
        "a-b\n",
        "a*b\n",
        "a/b\n",
        "a**b\n",
        "a%b\n",
        "c=torch.tensor([1,-2,3,-4])\n",
        "torch.abs(c)\n",
        "torch.neg(c)\n",
        "d=torch.tensor([1.9,2.3,3.7,4.4])\n",
        "torch.round(d)\n",
        "torch.ceil(d)\n",
        "torch.floor(d)\n",
        "torch.clamp(d,2,3)# produces VALUES IN RANGE 2 AND 3 FROMTHE TENSOR VALUES"
      ],
      "metadata": {
        "id": "mAb4IlTGJQ9R"
      },
      "execution_count": null,
      "outputs": []
    },
    {
      "cell_type": "markdown",
      "source": [
        "## Reduction Operations"
      ],
      "metadata": {
        "id": "PrRKePKd1ivL"
      }
    },
    {
      "cell_type": "code",
      "source": [
        "e=torch.randint(size=(2,3),low=0,high=10,dtype=torch.float32)\n",
        "e\n",
        "torch.sum(e)\n",
        "#sum on col\n",
        "torch.sum(e,dim=0)\n",
        "#sum on row\n",
        "torch.sum(e,dim=1)\n",
        "torch.mean(e)\n",
        "#mean on col\n",
        "torch.mean(e,dim=0)\n",
        "torch.median(e)\n",
        "torch.std(e)\n",
        "torch.var(e)\n",
        "torch.argmin(e)# pos of min\n",
        "torch.argmax(e)# pos of max\n",
        "torch.max(e)\n",
        "torch.min(e)"
      ],
      "metadata": {
        "id": "vTRJeI6lz3tG"
      },
      "execution_count": 4,
      "outputs": []
    },
    {
      "cell_type": "markdown",
      "source": [
        "## Matrix Operations"
      ],
      "metadata": {
        "id": "N95cnVyv261a"
      }
    },
    {
      "cell_type": "code",
      "source": [
        "f=torch.randint(size=(2,3),low=0,high=10)\n",
        "g=torch.randint(size=(3,2),low=0,high=10)"
      ],
      "metadata": {
        "id": "JQsDNoW721MD"
      },
      "execution_count": 19,
      "outputs": []
    },
    {
      "cell_type": "code",
      "source": [
        "print(f,g)"
      ],
      "metadata": {
        "id": "LNLkSkln3Me7",
        "outputId": "4360bad0-47a5-41c1-f11e-d18a84cf09f2",
        "colab": {
          "base_uri": "https://localhost:8080/"
        }
      },
      "execution_count": 20,
      "outputs": [
        {
          "output_type": "stream",
          "name": "stdout",
          "text": [
            "tensor([[4, 7, 0],\n",
            "        [2, 0, 2]]) tensor([[4, 7],\n",
            "        [7, 5],\n",
            "        [0, 8]])\n"
          ]
        }
      ]
    },
    {
      "cell_type": "code",
      "source": [
        "torch.matmul(f,g) #matrix multiply"
      ],
      "metadata": {
        "id": "RG2K6uT63PXu",
        "outputId": "ebbdee59-6c14-49de-fb5e-b494acd32598",
        "colab": {
          "base_uri": "https://localhost:8080/"
        }
      },
      "execution_count": 21,
      "outputs": [
        {
          "output_type": "execute_result",
          "data": {
            "text/plain": [
              "tensor([[65, 63],\n",
              "        [ 8, 30]])"
            ]
          },
          "metadata": {},
          "execution_count": 21
        }
      ]
    },
    {
      "cell_type": "code",
      "source": [
        "vec1=torch.tensor([1,2])\n",
        "vec2=torch.tensor([2,3])"
      ],
      "metadata": {
        "id": "sv9PAi863TAn"
      },
      "execution_count": 22,
      "outputs": []
    },
    {
      "cell_type": "code",
      "source": [
        "torch.dot(vec1,vec2)#dot product"
      ],
      "metadata": {
        "id": "mR_-myVB3eBf",
        "outputId": "6ea23ea6-3f35-4b05-d341-70f53a6aecc6",
        "colab": {
          "base_uri": "https://localhost:8080/"
        }
      },
      "execution_count": 23,
      "outputs": [
        {
          "output_type": "execute_result",
          "data": {
            "text/plain": [
              "tensor(8)"
            ]
          },
          "metadata": {},
          "execution_count": 23
        }
      ]
    },
    {
      "cell_type": "code",
      "source": [
        "f"
      ],
      "metadata": {
        "id": "KcRtZdxZ4H3p",
        "outputId": "88b79e2d-343c-4e76-e68a-735e6b2292e2",
        "colab": {
          "base_uri": "https://localhost:8080/"
        }
      },
      "execution_count": 26,
      "outputs": [
        {
          "output_type": "execute_result",
          "data": {
            "text/plain": [
              "tensor([[4, 7, 0],\n",
              "        [2, 0, 2]])"
            ]
          },
          "metadata": {},
          "execution_count": 26
        }
      ]
    },
    {
      "cell_type": "code",
      "source": [
        "#transpose\n",
        "torch.transpose(f,dim0=0,dim1=1)"
      ],
      "metadata": {
        "id": "3Wvyn9Ow3lJX",
        "outputId": "d2740b32-906a-4549-fc82-fb4942666ff3",
        "colab": {
          "base_uri": "https://localhost:8080/"
        }
      },
      "execution_count": 25,
      "outputs": [
        {
          "output_type": "execute_result",
          "data": {
            "text/plain": [
              "tensor([[4, 2],\n",
              "        [7, 0],\n",
              "        [0, 2]])"
            ]
          },
          "metadata": {},
          "execution_count": 25
        }
      ]
    },
    {
      "cell_type": "code",
      "source": [
        "#determinant\n",
        "h=torch.randint(size=(3,3),low=0,high=10,dtype=torch.float32)\n",
        "torch.det(h)"
      ],
      "metadata": {
        "id": "fi_QaqEA4J2S",
        "outputId": "278fd338-1e8c-4133-e320-a6326766336e",
        "colab": {
          "base_uri": "https://localhost:8080/"
        }
      },
      "execution_count": 29,
      "outputs": [
        {
          "output_type": "execute_result",
          "data": {
            "text/plain": [
              "tensor(208.0000)"
            ]
          },
          "metadata": {},
          "execution_count": 29
        }
      ]
    },
    {
      "cell_type": "code",
      "source": [
        "#inverse\n",
        "torch.inverse(h)"
      ],
      "metadata": {
        "id": "kf1wpm1k4PFq",
        "outputId": "9918d0b5-52f9-43ff-c622-af12bb0a02a1",
        "colab": {
          "base_uri": "https://localhost:8080/"
        }
      },
      "execution_count": 31,
      "outputs": [
        {
          "output_type": "execute_result",
          "data": {
            "text/plain": [
              "tensor([[ 0.1971, -0.1202, -0.0240],\n",
              "        [ 0.0192,  0.1346, -0.1731],\n",
              "        [-0.1346,  0.0577,  0.2115]])"
            ]
          },
          "metadata": {},
          "execution_count": 31
        }
      ]
    },
    {
      "cell_type": "markdown",
      "source": [
        "## Comparison Operations"
      ],
      "metadata": {
        "id": "aWoq2uek401N"
      }
    },
    {
      "cell_type": "code",
      "source": [
        "i = torch.randint(size=(2,3), low=0, high=10)\n",
        "j = torch.randint(size=(2,3), low=0, high=10)\n",
        "\n",
        "print(i)\n",
        "print(j)"
      ],
      "metadata": {
        "id": "hT3fRtfI4uZ-",
        "outputId": "4ea148c6-03b3-44ac-ddde-081c6fca26b6",
        "colab": {
          "base_uri": "https://localhost:8080/"
        }
      },
      "execution_count": 32,
      "outputs": [
        {
          "output_type": "stream",
          "name": "stdout",
          "text": [
            "tensor([[1, 3, 7],\n",
            "        [2, 1, 2]])\n",
            "tensor([[9, 8, 4],\n",
            "        [3, 3, 6]])\n"
          ]
        }
      ]
    },
    {
      "cell_type": "code",
      "source": [
        "i>j\n",
        "i<j\n",
        "i==j\n",
        "i!=j\n",
        "i<=j\n",
        "i>=j"
      ],
      "metadata": {
        "id": "ZuLKJn2F5GEd",
        "outputId": "70d21afa-7eb4-4acc-c088-4cac18989948",
        "colab": {
          "base_uri": "https://localhost:8080/"
        }
      },
      "execution_count": 37,
      "outputs": [
        {
          "output_type": "execute_result",
          "data": {
            "text/plain": [
              "tensor([[False, False,  True],\n",
              "        [False, False, False]])"
            ]
          },
          "metadata": {},
          "execution_count": 37
        }
      ]
    },
    {
      "cell_type": "markdown",
      "source": [
        "## Special Functions"
      ],
      "metadata": {
        "id": "hFAy77rO5Uxx"
      }
    },
    {
      "cell_type": "code",
      "source": [
        "k=torch.randint(size=(2,3), low=0, high=10,dtype=torch.float32)\n",
        "k"
      ],
      "metadata": {
        "id": "XAh-BZDd5YIc",
        "outputId": "842b8b3d-5b46-4255-ec18-f3912baa1df1",
        "colab": {
          "base_uri": "https://localhost:8080/"
        }
      },
      "execution_count": 45,
      "outputs": [
        {
          "output_type": "execute_result",
          "data": {
            "text/plain": [
              "tensor([[7., 1., 3.],\n",
              "        [0., 5., 4.]])"
            ]
          },
          "metadata": {},
          "execution_count": 45
        }
      ]
    },
    {
      "cell_type": "code",
      "source": [
        "#log\n",
        "torch.log(k)"
      ],
      "metadata": {
        "id": "WNQXr1xf5lKl",
        "outputId": "f98065ce-345c-4912-bd17-2c99d842b7ba",
        "colab": {
          "base_uri": "https://localhost:8080/"
        }
      },
      "execution_count": 41,
      "outputs": [
        {
          "output_type": "execute_result",
          "data": {
            "text/plain": [
              "tensor([[0.0000,   -inf, 1.6094],\n",
              "        [0.0000, 2.0794, 1.0986]])"
            ]
          },
          "metadata": {},
          "execution_count": 41
        }
      ]
    },
    {
      "cell_type": "code",
      "source": [
        "#exponent\n",
        "torch.exp(k)"
      ],
      "metadata": {
        "id": "p8-VnYse5qIw",
        "outputId": "2394192c-f3e7-4cf3-b02d-271cdfebd103",
        "colab": {
          "base_uri": "https://localhost:8080/"
        }
      },
      "execution_count": 42,
      "outputs": [
        {
          "output_type": "execute_result",
          "data": {
            "text/plain": [
              "tensor([[2.7183e+00, 1.0000e+00, 1.4841e+02],\n",
              "        [2.7183e+00, 2.9810e+03, 2.0086e+01]])"
            ]
          },
          "metadata": {},
          "execution_count": 42
        }
      ]
    },
    {
      "cell_type": "code",
      "source": [
        "#sqrt\n",
        "torch.sqrt(k)"
      ],
      "metadata": {
        "id": "C7Z-ZaTW5sz_",
        "outputId": "2e10d14e-c7bb-4ac8-84f3-2b3607922ee7",
        "colab": {
          "base_uri": "https://localhost:8080/"
        }
      },
      "execution_count": 43,
      "outputs": [
        {
          "output_type": "execute_result",
          "data": {
            "text/plain": [
              "tensor([[1.0000, 0.0000, 2.2361],\n",
              "        [1.0000, 2.8284, 1.7321]])"
            ]
          },
          "metadata": {},
          "execution_count": 43
        }
      ]
    },
    {
      "cell_type": "code",
      "source": [
        "#sigmoid\n",
        "torch.sigmoid(k)"
      ],
      "metadata": {
        "id": "5zOEyYOA5voy",
        "outputId": "30095f0f-324e-4ba7-f9a8-328b341607b1",
        "colab": {
          "base_uri": "https://localhost:8080/"
        }
      },
      "execution_count": 44,
      "outputs": [
        {
          "output_type": "execute_result",
          "data": {
            "text/plain": [
              "tensor([[0.7311, 0.5000, 0.9933],\n",
              "        [0.7311, 0.9997, 0.9526]])"
            ]
          },
          "metadata": {},
          "execution_count": 44
        }
      ]
    },
    {
      "cell_type": "code",
      "source": [
        "#softmax but need to provide dim\n",
        "torch.softmax(k,dim=0)"
      ],
      "metadata": {
        "id": "WcGXrBbf5zYD",
        "outputId": "e3e70ca7-e079-428b-ca75-c3e3c73fd6a2",
        "colab": {
          "base_uri": "https://localhost:8080/"
        }
      },
      "execution_count": 46,
      "outputs": [
        {
          "output_type": "execute_result",
          "data": {
            "text/plain": [
              "tensor([[9.9909e-01, 1.7986e-02, 2.6894e-01],\n",
              "        [9.1105e-04, 9.8201e-01, 7.3106e-01]])"
            ]
          },
          "metadata": {},
          "execution_count": 46
        }
      ]
    },
    {
      "cell_type": "code",
      "source": [
        "# relu\n",
        "torch.relu(k)"
      ],
      "metadata": {
        "id": "6p6233U357-x",
        "outputId": "d188ad0e-81f8-4626-ebd1-ceb78b583e65",
        "colab": {
          "base_uri": "https://localhost:8080/"
        }
      },
      "execution_count": 47,
      "outputs": [
        {
          "output_type": "execute_result",
          "data": {
            "text/plain": [
              "tensor([[7., 1., 3.],\n",
              "        [0., 5., 4.]])"
            ]
          },
          "metadata": {},
          "execution_count": 47
        }
      ]
    },
    {
      "cell_type": "markdown",
      "source": [
        "# Inplace Operations"
      ],
      "metadata": {
        "id": "OrOuXM6t6ZiG"
      }
    },
    {
      "cell_type": "code",
      "source": [
        "m=torch.rand(2,3)\n",
        "n=torch.rand(2,3)"
      ],
      "metadata": {
        "id": "shKZ7zDt6c1C"
      },
      "execution_count": 48,
      "outputs": []
    },
    {
      "cell_type": "code",
      "source": [
        "print(m,n)"
      ],
      "metadata": {
        "id": "JM6nty9H6iEQ",
        "outputId": "e387c36c-061f-4c44-8e21-727c4158cc06",
        "colab": {
          "base_uri": "https://localhost:8080/"
        }
      },
      "execution_count": 49,
      "outputs": [
        {
          "output_type": "stream",
          "name": "stdout",
          "text": [
            "tensor([[0.5552, 0.4312, 0.6440],\n",
            "        [0.6978, 0.6240, 0.7400]]) tensor([[0.2748, 0.7076, 0.8419],\n",
            "        [0.5474, 0.8385, 0.9993]])\n"
          ]
        }
      ]
    },
    {
      "cell_type": "code",
      "source": [
        "m.add_(n)"
      ],
      "metadata": {
        "id": "XFa7VLDA6j_w",
        "outputId": "44d3940c-a44a-4d90-fe55-d439879a3c51",
        "colab": {
          "base_uri": "https://localhost:8080/"
        }
      },
      "execution_count": 50,
      "outputs": [
        {
          "output_type": "execute_result",
          "data": {
            "text/plain": [
              "tensor([[0.8300, 1.1388, 1.4859],\n",
              "        [1.2452, 1.4625, 1.7394]])"
            ]
          },
          "metadata": {},
          "execution_count": 50
        }
      ]
    },
    {
      "cell_type": "code",
      "source": [
        "print(m)\n",
        "print(n)"
      ],
      "metadata": {
        "id": "487Gi1bG6ukA",
        "outputId": "0b84d062-732a-4714-e123-a7a925ffea7c",
        "colab": {
          "base_uri": "https://localhost:8080/"
        }
      },
      "execution_count": 51,
      "outputs": [
        {
          "output_type": "stream",
          "name": "stdout",
          "text": [
            "tensor([[0.8300, 1.1388, 1.4859],\n",
            "        [1.2452, 1.4625, 1.7394]])\n",
            "tensor([[0.2748, 0.7076, 0.8419],\n",
            "        [0.5474, 0.8385, 0.9993]])\n"
          ]
        }
      ]
    },
    {
      "cell_type": "code",
      "source": [
        "m.relu_()"
      ],
      "metadata": {
        "id": "86pQguuk6waH",
        "outputId": "ad4d6ae9-9462-457b-a02f-ee6c4a73db4c",
        "colab": {
          "base_uri": "https://localhost:8080/"
        }
      },
      "execution_count": 52,
      "outputs": [
        {
          "output_type": "execute_result",
          "data": {
            "text/plain": [
              "tensor([[0.8300, 1.1388, 1.4859],\n",
              "        [1.2452, 1.4625, 1.7394]])"
            ]
          },
          "metadata": {},
          "execution_count": 52
        }
      ]
    },
    {
      "cell_type": "markdown",
      "source": [
        "# Copying tensor"
      ],
      "metadata": {
        "id": "inF5o0fJ655s"
      }
    },
    {
      "cell_type": "code",
      "source": [
        "a=torch.rand(2,3)"
      ],
      "metadata": {
        "id": "0mbtzAWC69Zn"
      },
      "execution_count": 53,
      "outputs": []
    },
    {
      "cell_type": "code",
      "source": [
        "a"
      ],
      "metadata": {
        "id": "rpVCWik17NHv",
        "outputId": "c09d30aa-23df-42fa-9a4c-702f488edcc9",
        "colab": {
          "base_uri": "https://localhost:8080/"
        }
      },
      "execution_count": 55,
      "outputs": [
        {
          "output_type": "execute_result",
          "data": {
            "text/plain": [
              "tensor([[0.3457, 0.0106, 0.3341],\n",
              "        [0.0392, 0.4745, 0.7478]])"
            ]
          },
          "metadata": {},
          "execution_count": 55
        }
      ]
    },
    {
      "cell_type": "code",
      "source": [
        "b=a"
      ],
      "metadata": {
        "id": "e_3MI8Wi7Cgw"
      },
      "execution_count": 54,
      "outputs": []
    },
    {
      "cell_type": "code",
      "source": [
        "b"
      ],
      "metadata": {
        "id": "h9ZVQM0u7OOE",
        "outputId": "97d14711-c441-40b3-aa9f-d20e83c6c19b",
        "colab": {
          "base_uri": "https://localhost:8080/"
        }
      },
      "execution_count": 56,
      "outputs": [
        {
          "output_type": "execute_result",
          "data": {
            "text/plain": [
              "tensor([[0.3457, 0.0106, 0.3341],\n",
              "        [0.0392, 0.4745, 0.7478]])"
            ]
          },
          "metadata": {},
          "execution_count": 56
        }
      ]
    },
    {
      "cell_type": "code",
      "source": [
        "a[0][0]=0\n",
        "a"
      ],
      "metadata": {
        "id": "LWVFhJak7P4S",
        "outputId": "4174e8b0-14e8-4589-8cc7-f97942dc775b",
        "colab": {
          "base_uri": "https://localhost:8080/"
        }
      },
      "execution_count": 62,
      "outputs": [
        {
          "output_type": "execute_result",
          "data": {
            "text/plain": [
              "tensor([[0.0000, 0.0000, 0.3341],\n",
              "        [0.0392, 0.4745, 0.7478]])"
            ]
          },
          "metadata": {},
          "execution_count": 62
        }
      ]
    },
    {
      "cell_type": "code",
      "source": [
        "b"
      ],
      "metadata": {
        "id": "BQEGcmyI7W8B",
        "outputId": "1e07a744-9125-4dfd-aede-9e56da85b199",
        "colab": {
          "base_uri": "https://localhost:8080/"
        }
      },
      "execution_count": 63,
      "outputs": [
        {
          "output_type": "execute_result",
          "data": {
            "text/plain": [
              "tensor([[0.3457, 0.0000, 0.3341],\n",
              "        [0.0392, 0.4745, 0.7478]])"
            ]
          },
          "metadata": {},
          "execution_count": 63
        }
      ]
    },
    {
      "cell_type": "code",
      "source": [
        "print(id(a),id(b))"
      ],
      "metadata": {
        "id": "LYSzK_iu7eoJ",
        "outputId": "b5052b2c-4f5f-42db-fc46-ac834eb63e4d",
        "colab": {
          "base_uri": "https://localhost:8080/"
        }
      },
      "execution_count": 59,
      "outputs": [
        {
          "output_type": "stream",
          "name": "stdout",
          "text": [
            "139305374688720 139305374688720\n"
          ]
        }
      ]
    },
    {
      "cell_type": "code",
      "source": [
        "b=a.clone()"
      ],
      "metadata": {
        "id": "hhoYQbKW7hLT"
      },
      "execution_count": 60,
      "outputs": []
    },
    {
      "cell_type": "code",
      "source": [
        "print(id(a),id(b))"
      ],
      "metadata": {
        "id": "6sXmIunQ7mII",
        "outputId": "5bfd3108-e7bf-47e5-fc10-166de2d86de9",
        "colab": {
          "base_uri": "https://localhost:8080/"
        }
      },
      "execution_count": 61,
      "outputs": [
        {
          "output_type": "stream",
          "name": "stdout",
          "text": [
            "139305374688720 139303656668720\n"
          ]
        }
      ]
    },
    {
      "cell_type": "markdown",
      "source": [
        "# tensor operations on GPU"
      ],
      "metadata": {
        "id": "ixw62YfC7xGw"
      }
    },
    {
      "cell_type": "code",
      "source": [
        "torch.cuda.is_available()"
      ],
      "metadata": {
        "id": "Y7OgkuWN7wyA",
        "outputId": "a39ded81-5b84-4746-ab61-0291d509c037",
        "colab": {
          "base_uri": "https://localhost:8080/"
        }
      },
      "execution_count": 64,
      "outputs": [
        {
          "output_type": "execute_result",
          "data": {
            "text/plain": [
              "True"
            ]
          },
          "metadata": {},
          "execution_count": 64
        }
      ]
    },
    {
      "cell_type": "code",
      "source": [
        "device=torch.device(\"cuda\")"
      ],
      "metadata": {
        "id": "3BxcQuY88FOB"
      },
      "execution_count": 65,
      "outputs": []
    },
    {
      "cell_type": "code",
      "source": [
        "torch.rand((2,3),device=device)"
      ],
      "metadata": {
        "id": "oulTdU6C8KIX",
        "outputId": "b552c83f-654d-4e50-cbad-7f7e3dd34000",
        "colab": {
          "base_uri": "https://localhost:8080/"
        }
      },
      "execution_count": 66,
      "outputs": [
        {
          "output_type": "execute_result",
          "data": {
            "text/plain": [
              "tensor([[0.3589, 0.6131, 0.1427],\n",
              "        [0.5901, 0.9966, 0.9011]], device='cuda:0')"
            ]
          },
          "metadata": {},
          "execution_count": 66
        }
      ]
    },
    {
      "cell_type": "code",
      "source": [
        "b=b.to(device)"
      ],
      "metadata": {
        "id": "IH-yxUev8P-K"
      },
      "execution_count": 68,
      "outputs": []
    },
    {
      "cell_type": "code",
      "source": [
        "b+5"
      ],
      "metadata": {
        "id": "36qdeK7j8jnN",
        "outputId": "31e55029-d521-4896-c508-f1c16bc1d80f",
        "colab": {
          "base_uri": "https://localhost:8080/"
        }
      },
      "execution_count": 69,
      "outputs": [
        {
          "output_type": "execute_result",
          "data": {
            "text/plain": [
              "tensor([[5.3457, 5.0000, 5.3341],\n",
              "        [5.0392, 5.4745, 5.7478]], device='cuda:0')"
            ]
          },
          "metadata": {},
          "execution_count": 69
        }
      ]
    },
    {
      "cell_type": "markdown",
      "source": [
        "# Speed Testing between GPU and CPU"
      ],
      "metadata": {
        "id": "M01HAYaW8qwG"
      }
    },
    {
      "cell_type": "code",
      "source": [
        "import time\n",
        "import torch\n",
        "size=10000\n",
        "\n",
        "mat1=torch.randn(size,size)\n",
        "mat2=torch.randn(size,size)\n",
        "\n",
        "start_time=time.time()\n",
        "matmul_cpu=torch.matmul(mat1,mat2)\n",
        "cpu_time=time.time()-start_time\n",
        "print(f\"time on cpu computation {cpu_time:.4f} seconds\")\n",
        "\n",
        "mat1_gpu=mat1.to('cuda')\n",
        "mat2_gpu=mat2.to('cuda')\n",
        "\n",
        "\n",
        "start_time=time.time()\n",
        "matmul_gpu=torch.matmul(mat1_gpu,mat2_gpu)\n",
        "torch.cuda.synchronize() # ensures all GPU operations are complete\n",
        "gpu_time=time.time()-start_time\n",
        "print(f\"time on gpu computation {gpu_time:.4f} seconds\")\n",
        "\n",
        "print(f\"speed cpu/gpu:{cpu_time/gpu_time}\")"
      ],
      "metadata": {
        "id": "7t0oPiRn8upX",
        "outputId": "e4738676-a4a0-4ec0-9ddc-d86ed8b0e3f7",
        "colab": {
          "base_uri": "https://localhost:8080/"
        }
      },
      "execution_count": 2,
      "outputs": [
        {
          "output_type": "stream",
          "name": "stdout",
          "text": [
            "time on cpu computation 27.7506 seconds\n",
            "time on gpu computation 0.6472 seconds\n",
            "speed cpu/gpu:42.87648720829573\n"
          ]
        }
      ]
    },
    {
      "cell_type": "markdown",
      "source": [
        "# Reshape Tensors"
      ],
      "metadata": {
        "id": "iRBqVUBSANrH"
      }
    },
    {
      "cell_type": "code",
      "source": [
        "f=torch.ones(4,4)\n",
        "f"
      ],
      "metadata": {
        "id": "z7Vei7L7APu8",
        "outputId": "cd0dfd82-32e7-4d60-b95f-7bb4f03f8acb",
        "colab": {
          "base_uri": "https://localhost:8080/"
        }
      },
      "execution_count": 4,
      "outputs": [
        {
          "output_type": "execute_result",
          "data": {
            "text/plain": [
              "tensor([[1., 1., 1., 1.],\n",
              "        [1., 1., 1., 1.],\n",
              "        [1., 1., 1., 1.],\n",
              "        [1., 1., 1., 1.]])"
            ]
          },
          "metadata": {},
          "execution_count": 4
        }
      ]
    },
    {
      "cell_type": "code",
      "source": [
        "#reshape\n",
        "f.reshape(2,2,2,2)"
      ],
      "metadata": {
        "id": "D5IMSk4HAYHp",
        "outputId": "e1e08913-5362-40da-f247-4354dcfdf877",
        "colab": {
          "base_uri": "https://localhost:8080/"
        }
      },
      "execution_count": 7,
      "outputs": [
        {
          "output_type": "execute_result",
          "data": {
            "text/plain": [
              "tensor([[[[1., 1.],\n",
              "          [1., 1.]],\n",
              "\n",
              "         [[1., 1.],\n",
              "          [1., 1.]]],\n",
              "\n",
              "\n",
              "        [[[1., 1.],\n",
              "          [1., 1.]],\n",
              "\n",
              "         [[1., 1.],\n",
              "          [1., 1.]]]])"
            ]
          },
          "metadata": {},
          "execution_count": 7
        }
      ]
    },
    {
      "cell_type": "code",
      "source": [
        "f.flatten()"
      ],
      "metadata": {
        "id": "TPw5guSIAmiA",
        "outputId": "a0bc8ba0-b4d4-4d12-c941-e2144ecbc204",
        "colab": {
          "base_uri": "https://localhost:8080/"
        }
      },
      "execution_count": 8,
      "outputs": [
        {
          "output_type": "execute_result",
          "data": {
            "text/plain": [
              "tensor([1., 1., 1., 1., 1., 1., 1., 1., 1., 1., 1., 1., 1., 1., 1., 1.])"
            ]
          },
          "metadata": {},
          "execution_count": 8
        }
      ]
    },
    {
      "cell_type": "code",
      "source": [
        "b=torch.rand(2,3,4)\n",
        "b"
      ],
      "metadata": {
        "id": "2iwxpaEkAyqh",
        "outputId": "dc36ce3a-76a9-4963-bdb7-f92c51413ccd",
        "colab": {
          "base_uri": "https://localhost:8080/"
        }
      },
      "execution_count": 10,
      "outputs": [
        {
          "output_type": "execute_result",
          "data": {
            "text/plain": [
              "tensor([[[0.2495, 0.8688, 0.8550, 0.2591],\n",
              "         [0.0545, 0.5846, 0.1809, 0.3147],\n",
              "         [0.1722, 0.0835, 0.5408, 0.9815]],\n",
              "\n",
              "        [[0.2730, 0.4964, 0.6230, 0.6100],\n",
              "         [0.6701, 0.7923, 0.1337, 0.3732],\n",
              "         [0.3123, 0.9360, 0.7187, 0.9645]]])"
            ]
          },
          "metadata": {},
          "execution_count": 10
        }
      ]
    },
    {
      "cell_type": "code",
      "source": [
        "#permute\n",
        "b.permute(2,0,1).shape"
      ],
      "metadata": {
        "id": "NSJPKf4SA14s",
        "outputId": "35d3be7c-e38f-48a3-a142-308ef879bb03",
        "colab": {
          "base_uri": "https://localhost:8080/"
        }
      },
      "execution_count": 12,
      "outputs": [
        {
          "output_type": "execute_result",
          "data": {
            "text/plain": [
              "torch.Size([4, 2, 3])"
            ]
          },
          "metadata": {},
          "execution_count": 12
        }
      ]
    },
    {
      "cell_type": "code",
      "source": [
        "#unsqueeze\n",
        "c=torch.rand(226,226,3)\n",
        "c.unsqueeze(dim=1).shape # adds new dim can be helpful to convert one image to batch for 4d tensor"
      ],
      "metadata": {
        "id": "t41eWFO2BK_A",
        "outputId": "5685c8ed-17d4-40ed-805e-b9a114686f79",
        "colab": {
          "base_uri": "https://localhost:8080/"
        }
      },
      "execution_count": 14,
      "outputs": [
        {
          "output_type": "execute_result",
          "data": {
            "text/plain": [
              "torch.Size([226, 1, 226, 3])"
            ]
          },
          "metadata": {},
          "execution_count": 14
        }
      ]
    },
    {
      "cell_type": "code",
      "source": [
        "#squeeze\n",
        "d=torch.rand(23,20,1)\n",
        "d.squeeze(2).shape"
      ],
      "metadata": {
        "id": "G70ZgoqdBaZr",
        "outputId": "9f21cada-394c-4427-b4d8-abfffffe17d7",
        "colab": {
          "base_uri": "https://localhost:8080/"
        }
      },
      "execution_count": 18,
      "outputs": [
        {
          "output_type": "execute_result",
          "data": {
            "text/plain": [
              "torch.Size([23, 20])"
            ]
          },
          "metadata": {},
          "execution_count": 18
        }
      ]
    },
    {
      "cell_type": "markdown",
      "source": [
        "# Numpy and Pytorch"
      ],
      "metadata": {
        "id": "7aSvUteFCHXr"
      }
    },
    {
      "cell_type": "code",
      "source": [
        "import numpy as np"
      ],
      "metadata": {
        "id": "WohTzR5aCK0b"
      },
      "execution_count": 19,
      "outputs": []
    },
    {
      "cell_type": "code",
      "source": [
        "a=torch.tensor([1,2,3])"
      ],
      "metadata": {
        "id": "WQk2xG4yCXPM"
      },
      "execution_count": 20,
      "outputs": []
    },
    {
      "cell_type": "code",
      "source": [
        "b=a.numpy()"
      ],
      "metadata": {
        "id": "uxiYW_w8Cajt"
      },
      "execution_count": 21,
      "outputs": []
    },
    {
      "cell_type": "code",
      "source": [
        "b"
      ],
      "metadata": {
        "id": "0HdB9IJpCc1W",
        "outputId": "a7fae1fa-cae7-4ddd-bf5d-cf47a480bbfc",
        "colab": {
          "base_uri": "https://localhost:8080/"
        }
      },
      "execution_count": 22,
      "outputs": [
        {
          "output_type": "execute_result",
          "data": {
            "text/plain": [
              "array([1, 2, 3])"
            ]
          },
          "metadata": {},
          "execution_count": 22
        }
      ]
    },
    {
      "cell_type": "code",
      "source": [
        "c=np.array([1,2,3])"
      ],
      "metadata": {
        "id": "lSHIqLLoCeeh"
      },
      "execution_count": 23,
      "outputs": []
    },
    {
      "cell_type": "code",
      "source": [
        "torch.from_numpy(c)"
      ],
      "metadata": {
        "id": "VSeFzwuqCiwr",
        "outputId": "c2a546be-5b15-46b8-addc-0749f8bfb178",
        "colab": {
          "base_uri": "https://localhost:8080/"
        }
      },
      "execution_count": 24,
      "outputs": [
        {
          "output_type": "execute_result",
          "data": {
            "text/plain": [
              "tensor([1, 2, 3])"
            ]
          },
          "metadata": {},
          "execution_count": 24
        }
      ]
    }
  ]
}