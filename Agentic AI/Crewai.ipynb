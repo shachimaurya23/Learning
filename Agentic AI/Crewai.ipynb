{
 "cells": [
  {
   "cell_type": "code",
   "execution_count": null,
   "id": "f46d22fe",
   "metadata": {},
   "outputs": [],
   "source": [
    "from crewai import Agent, Task, Crew,Process, LLM\n",
    "from crewai_tools import SerperDevTool\n",
    "import os\n",
    "import ollama\n",
    "from langchain_openai import ChatOpenAI"
   ]
  },
  {
   "cell_type": "code",
   "execution_count": 2,
   "id": "fda85e5e",
   "metadata": {},
   "outputs": [],
   "source": [
    "os.environ[\"OPENAI_API_KEY\"] = \"NA\"\n",
    "\n",
    "llm = ChatOpenAI(\n",
    "    model = \"ollama/deepseek-r1\",\n",
    "    base_url = \"http://localhost:11434/v1\")"
   ]
  },
  {
   "cell_type": "code",
   "execution_count": 3,
   "id": "acc1ee2f",
   "metadata": {},
   "outputs": [],
   "source": [
    "transcripts = \"\"\"\n",
    "Sarah : Good morning everyone. Thanks for joining our blocker review meeting. As you know, we're aiming to push v2.5 of the app to production next Tuesday. We need to identify and resolve any remaining blockers before then. James, can you start with an overview of where we stand from an engineering perspective?\n",
    "James : Sure. We've made good progress since our last meeting. The core functionality is stable, but we still have three critical bugs that need resolution. The most pressing is the data synchronization issue when users go offline. Right now, if a user makes changes while offline, about 20% of the time those changes aren't properly synced when they reconnect.\n",
    "Maya : I can confirm that. We've reproduced it consistently in our testing environment. The problem seems more pronounced on Android than iOS.\n",
    "Daniel : We've narrowed down the issue. It's related to how the local database handles conflict resolution. I've implemented a potential fix that's currently in the staging environment. Maya, could your team prioritize testing that today?\n",
    "Maya: Absolutely. We'll make that our top priority.\n",
    "James: Second issue is the memory leak we identified in the video processing feature. It's not immediately visible to users, but after extended use, it causes the app to slow down significantly and eventually crash.\n",
    "Daniel: I'm working on that one. It's challenging because it only happens after about 30 minutes of continuous use. I've identified where the resources aren't being properly released, but the fix is complex because it touches several components. I think I can have it resolved by tomorrow afternoon.\n",
    "Sarah: That's cutting it close to our deadline. Is there a risk we won't make it?\n",
    "Daniel: There's always some risk, but I'm confident we'll resolve it. If absolutely necessary, we could disable the video processing feature for this release and add it back in v2.6.\n",
    "Sarah: Let's keep that as Plan B. What's the third issue, James?\n",
    "James: The payment processing timeout. Under high load, payment confirmations are taking too long, causing users to think their payment failed when it actually succeeded.\n",
    "Raj (DevOps): That's on me. Our cloud service provider had a partial outage last week that revealed this weakness in our architecture. I've implemented a more robust queueing system with better retry logic, but I'm concerned about our current infrastructure capacity.\n",
    "Sarah: Can you elaborate?\n",
    "Raj: Based on our projections, we're expecting a 40% increase in users after this release due to the new features. Our current server configuration won't handle that load effectively. We need to upgrade our infrastructure before the release.\n",
    "Sarah: That wasn't in our original plan. What's involved?\n",
    "Raj: We need to scale up our database instances and add more application servers. I've prepared a document with the details, but the bottom line is it will take about two days to implement and test properly.\n",
    "Sarah: That's significant. Alex, any blockers from the UI/UX side?\n",
    "Alex (UI/UX): The accessibility audit revealed three critical issues that need to be addressed. The color contrast in the new dashboard doesn't meet WCAG standards, screen readers can't properly navigate the payment forms, and the keyboard navigation is broken in several key workflows.\n",
    "James: How long will those take to fix?\n",
    "Alex: I've already prepared the design changes. If Daniel or another developer can pair with me, we could knock them out in a day.\n",
    "James: I'll assign Li to work with you on that tomorrow.\n",
    "Sarah: Let's summarize the blockers then:\n",
    "\n",
    "Data sync issue in offline mode\n",
    "Memory leak in video processing\n",
    "Payment processing timeout\n",
    "Infrastructure scaling for anticipated load\n",
    "Accessibility compliance issues\n",
    "\n",
    "Maya: There's one more thing. The performance testing on older devices shows unacceptable load times for the main dashboard. It's taking over 8 seconds on devices that are 3+ years old, which represents about 30% of our user base.\n",
    "James: Is that because of the new analytics visualizations?\n",
    "Maya: Yes, the charts library we're using is very resource-intensive.\n",
    "Alex: We could implement progressive loading or simplify the visualizations for older devices.\n",
    "James: Progressive loading would be safer at this point. How much work would that be, Daniel?\n",
    "Daniel: Probably a day of work, and another day for testing.\n",
    "Sarah: Alright, so we have six critical blockers. Based on the estimates, it sounds like we need at least three more days than we planned. Let's discuss whether we should push back the release date or consider a phased rollout.\n",
    "Raj: I'd recommend a phased rollout, starting with 10% of users and gradually increasing. That would give us more time to address any issues that emerge and scale the infrastructure appropriately.\n",
    "Maya: From a quality perspective, I'd be more comfortable with a short delay rather than risking a bad user experience.\n",
    "James: Agreed. I think we should push the release to Friday of next week instead of Tuesday. That gives us the cushion we need.\n",
    "Sarah: That makes sense. Let's go with that plan. I'll update stakeholders about the new timeline this afternoon. James, can you send out an updated task breakdown with assignments and deadlines by end of day?\n",
    "James: Will do.\n",
    "Sarah: Any other blockers or concerns we should discuss?\n",
    "Raj: Just a reminder that we need to coordinate with the marketing team about the announcement timing.\n",
    "Sarah: Good point. I'll handle that as part of my communications today. Anything else?\n",
    "[Brief silence]\n",
    "Sarah: Alright, let's get to work then. We'll meet again on Friday for a progress check. Thanks everyone.\n",
    "\"\"\""
   ]
  },
  {
   "cell_type": "code",
   "execution_count": 4,
   "id": "9782d00a",
   "metadata": {},
   "outputs": [],
   "source": [
    "meeting_summarizer = Agent(\n",
    "    role=\"Meeting Summarizer\",\n",
    "    goal=\"\"\"Analyze and summarize the key points, decisions, and action items from the provided {meeting_transcripts}.\"\"\",\n",
    "    backstory=\"\"\"You are an expert at extracting the essence of conversations, identifying key ideas, and presenting concise and actionable summaries. You understand the nuances of meetings, including context, tone, and priorities.\"\"\",\n",
    "    # tools=[SerperDevTool()],  # Add tools if necessary\n",
    "    llm=llm\n",
    ")\n",
    "\n",
    "meeting_summarizing_task = Task(\n",
    "    description=\"\"\"Using the provided {meeting_transcripts}, generate a concise and comprehensive summary of the meeting. Focus on key ideas, decisions made, and any follow-up actions required.\"\"\",\n",
    "    expected_output=\"\"\"A well-structured paragraph summarizing the meeting, highlighting the main discussion points, decisions, and next steps.\"\"\",\n",
    "    agent=meeting_summarizer\n",
    ")\n"
   ]
  },
  {
   "cell_type": "code",
   "execution_count": 5,
   "id": "242284c5",
   "metadata": {},
   "outputs": [],
   "source": [
    "action_point_generator=Agent(\n",
    "    role= \"Action Point Generator\",\n",
    "    goal=\"\"\"generate the action points from the {meeting_transcripts}\"\"\",\n",
    "    backstory=\"\"\"you are great at understanding the context of the meeting and generating the action points\"\"\",\n",
    "    llm=llm\n",
    ")"
   ]
  },
  {
   "cell_type": "code",
   "execution_count": 6,
   "id": "3d9f780f",
   "metadata": {},
   "outputs": [],
   "source": [
    "action_point_generation_task=Task(\n",
    "    description=\"\"\"Generate the actions points from the  {meeting_transcripts} so that it can be discussed in the next meeting.\"\"\",\n",
    "    expected_output=\"\"\"A pointer based action plans for each user in the meeting to help define the scope of work and the next steeps that will be discussed in the next meeting.\"\"\",\n",
    "    agent=action_point_generator\n",
    ")"
   ]
  },
  {
   "cell_type": "code",
   "execution_count": 8,
   "id": "01cc07e6",
   "metadata": {},
   "outputs": [
    {
     "data": {
      "text/html": [
       "<pre style=\"white-space:pre;overflow-x:auto;line-height:normal;font-family:Menlo,'DejaVu Sans Mono',consolas,'Courier New',monospace\"><span style=\"color: #008080; text-decoration-color: #008080\">╭──────────────────────────────────────────── Crew Execution Started ─────────────────────────────────────────────╮</span>\n",
       "<span style=\"color: #008080; text-decoration-color: #008080\">│</span>                                                                                                                 <span style=\"color: #008080; text-decoration-color: #008080\">│</span>\n",
       "<span style=\"color: #008080; text-decoration-color: #008080\">│</span>  <span style=\"color: #008080; text-decoration-color: #008080; font-weight: bold\">Crew Execution Started</span>                                                                                         <span style=\"color: #008080; text-decoration-color: #008080\">│</span>\n",
       "<span style=\"color: #008080; text-decoration-color: #008080\">│</span>  <span style=\"color: #c0c0c0; text-decoration-color: #c0c0c0\">Name: </span><span style=\"color: #008080; text-decoration-color: #008080\">crew</span>                                                                                                     <span style=\"color: #008080; text-decoration-color: #008080\">│</span>\n",
       "<span style=\"color: #008080; text-decoration-color: #008080\">│</span>  <span style=\"color: #c0c0c0; text-decoration-color: #c0c0c0\">ID: </span><span style=\"color: #008080; text-decoration-color: #008080\">b18a6e53-8339-4970-9184-ea51f1b8274e</span>                                                                       <span style=\"color: #008080; text-decoration-color: #008080\">│</span>\n",
       "<span style=\"color: #008080; text-decoration-color: #008080\">│</span>                                                                                                                 <span style=\"color: #008080; text-decoration-color: #008080\">│</span>\n",
       "<span style=\"color: #008080; text-decoration-color: #008080\">│</span>                                                                                                                 <span style=\"color: #008080; text-decoration-color: #008080\">│</span>\n",
       "<span style=\"color: #008080; text-decoration-color: #008080\">╰─────────────────────────────────────────────────────────────────────────────────────────────────────────────────╯</span>\n",
       "</pre>\n"
      ],
      "text/plain": [
       "\u001b[36m╭─\u001b[0m\u001b[36m───────────────────────────────────────────\u001b[0m\u001b[36m Crew Execution Started \u001b[0m\u001b[36m────────────────────────────────────────────\u001b[0m\u001b[36m─╮\u001b[0m\n",
       "\u001b[36m│\u001b[0m                                                                                                                 \u001b[36m│\u001b[0m\n",
       "\u001b[36m│\u001b[0m  \u001b[1;36mCrew Execution Started\u001b[0m                                                                                         \u001b[36m│\u001b[0m\n",
       "\u001b[36m│\u001b[0m  \u001b[37mName: \u001b[0m\u001b[36mcrew\u001b[0m                                                                                                     \u001b[36m│\u001b[0m\n",
       "\u001b[36m│\u001b[0m  \u001b[37mID: \u001b[0m\u001b[36mb18a6e53-8339-4970-9184-ea51f1b8274e\u001b[0m                                                                       \u001b[36m│\u001b[0m\n",
       "\u001b[36m│\u001b[0m                                                                                                                 \u001b[36m│\u001b[0m\n",
       "\u001b[36m│\u001b[0m                                                                                                                 \u001b[36m│\u001b[0m\n",
       "\u001b[36m╰─────────────────────────────────────────────────────────────────────────────────────────────────────────────────╯\u001b[0m\n"
      ]
     },
     "metadata": {},
     "output_type": "display_data"
    },
    {
     "data": {
      "text/html": [
       "<pre style=\"white-space:pre;overflow-x:auto;line-height:normal;font-family:Menlo,'DejaVu Sans Mono',consolas,'Courier New',monospace\">\n",
       "</pre>\n"
      ],
      "text/plain": [
       "\n"
      ]
     },
     "metadata": {},
     "output_type": "display_data"
    },
    {
     "data": {
      "text/html": [
       "<pre style=\"white-space:pre;overflow-x:auto;line-height:normal;font-family:Menlo,'DejaVu Sans Mono',consolas,'Courier New',monospace\"><span style=\"color: #008080; text-decoration-color: #008080; font-weight: bold\">🚀 Crew: crew</span>\n",
       "└── <span style=\"color: #808000; text-decoration-color: #808000; font-weight: bold\">📋 Task: 6d36a7da-0a56-4c6f-94dc-fbc275497147</span>\n",
       "    <span style=\"color: #c0c0c0; text-decoration-color: #c0c0c0\">   Status: </span><span style=\"color: #bfbf7f; text-decoration-color: #bfbf7f\">Executing Task...</span>\n",
       "</pre>\n"
      ],
      "text/plain": [
       "\u001b[1;36m🚀 Crew: \u001b[0m\u001b[1;36mcrew\u001b[0m\n",
       "└── \u001b[1;33m📋 Task: 6d36a7da-0a56-4c6f-94dc-fbc275497147\u001b[0m\n",
       "    \u001b[37m   Status: \u001b[0m\u001b[2;33mExecuting Task...\u001b[0m\n"
      ]
     },
     "metadata": {},
     "output_type": "display_data"
    },
    {
     "data": {
      "text/html": [
       "<pre style=\"white-space:pre;overflow-x:auto;line-height:normal;font-family:Menlo,'DejaVu Sans Mono',consolas,'Courier New',monospace\">\n",
       "</pre>\n"
      ],
      "text/plain": [
       "\n"
      ]
     },
     "metadata": {},
     "output_type": "display_data"
    },
    {
     "data": {
      "text/html": [
       "<pre style=\"white-space:pre;overflow-x:auto;line-height:normal;font-family:Menlo,'DejaVu Sans Mono',consolas,'Courier New',monospace\"><span style=\"color: #008080; text-decoration-color: #008080; font-weight: bold\">🚀 Crew: crew</span>\n",
       "└── <span style=\"color: #808000; text-decoration-color: #808000; font-weight: bold\">📋 Task: 6d36a7da-0a56-4c6f-94dc-fbc275497147</span>\n",
       "    <span style=\"color: #c0c0c0; text-decoration-color: #c0c0c0\">   Status: </span><span style=\"color: #bfbf7f; text-decoration-color: #bfbf7f\">Executing Task...</span>\n",
       "    └── <span style=\"color: #008000; text-decoration-color: #008000; font-weight: bold\">🤖 Agent: </span><span style=\"color: #008000; text-decoration-color: #008000\">Meeting Summarizer</span>\n",
       "        <span style=\"color: #c0c0c0; text-decoration-color: #c0c0c0\">    Status: </span><span style=\"color: #008000; text-decoration-color: #008000; font-weight: bold\">In Progress</span>\n",
       "</pre>\n"
      ],
      "text/plain": [
       "\u001b[1;36m🚀 Crew: \u001b[0m\u001b[1;36mcrew\u001b[0m\n",
       "└── \u001b[1;33m📋 Task: 6d36a7da-0a56-4c6f-94dc-fbc275497147\u001b[0m\n",
       "    \u001b[37m   Status: \u001b[0m\u001b[2;33mExecuting Task...\u001b[0m\n",
       "    └── \u001b[1;32m🤖 Agent: \u001b[0m\u001b[32mMeeting Summarizer\u001b[0m\n",
       "        \u001b[37m    Status: \u001b[0m\u001b[1;32mIn Progress\u001b[0m\n"
      ]
     },
     "metadata": {},
     "output_type": "display_data"
    },
    {
     "data": {
      "text/html": [
       "<pre style=\"white-space:pre;overflow-x:auto;line-height:normal;font-family:Menlo,'DejaVu Sans Mono',consolas,'Courier New',monospace\">\n",
       "</pre>\n"
      ],
      "text/plain": [
       "\n"
      ]
     },
     "metadata": {},
     "output_type": "display_data"
    },
    {
     "name": "stdout",
     "output_type": "stream",
     "text": [
      "\u001b[1m\u001b[95m# Agent:\u001b[00m \u001b[1m\u001b[92mMeeting Summarizer\u001b[00m\n",
      "\u001b[95m## Task:\u001b[00m \u001b[92mUsing the provided \n",
      "Sarah : Good morning everyone. Thanks for joining our blocker review meeting. As you know, we're aiming to push v2.5 of the app to production next Tuesday. We need to identify and resolve any remaining blockers before then. James, can you start with an overview of where we stand from an engineering perspective?\n",
      "James : Sure. We've made good progress since our last meeting. The core functionality is stable, but we still have three critical bugs that need resolution. The most pressing is the data synchronization issue when users go offline. Right now, if a user makes changes while offline, about 20% of the time those changes aren't properly synced when they reconnect.\n",
      "Maya : I can confirm that. We've reproduced it consistently in our testing environment. The problem seems more pronounced on Android than iOS.\n",
      "Daniel : We've narrowed down the issue. It's related to how the local database handles conflict resolution. I've implemented a potential fix that's currently in the staging environment. Maya, could your team prioritize testing that today?\n",
      "Maya: Absolutely. We'll make that our top priority.\n",
      "James: Second issue is the memory leak we identified in the video processing feature. It's not immediately visible to users, but after extended use, it causes the app to slow down significantly and eventually crash.\n",
      "Daniel: I'm working on that one. It's challenging because it only happens after about 30 minutes of continuous use. I've identified where the resources aren't being properly released, but the fix is complex because it touches several components. I think I can have it resolved by tomorrow afternoon.\n",
      "Sarah: That's cutting it close to our deadline. Is there a risk we won't make it?\n",
      "Daniel: There's always some risk, but I'm confident we'll resolve it. If absolutely necessary, we could disable the video processing feature for this release and add it back in v2.6.\n",
      "Sarah: Let's keep that as Plan B. What's the third issue, James?\n",
      "James: The payment processing timeout. Under high load, payment confirmations are taking too long, causing users to think their payment failed when it actually succeeded.\n",
      "Raj (DevOps): That's on me. Our cloud service provider had a partial outage last week that revealed this weakness in our architecture. I've implemented a more robust queueing system with better retry logic, but I'm concerned about our current infrastructure capacity.\n",
      "Sarah: Can you elaborate?\n",
      "Raj: Based on our projections, we're expecting a 40% increase in users after this release due to the new features. Our current server configuration won't handle that load effectively. We need to upgrade our infrastructure before the release.\n",
      "Sarah: That wasn't in our original plan. What's involved?\n",
      "Raj: We need to scale up our database instances and add more application servers. I've prepared a document with the details, but the bottom line is it will take about two days to implement and test properly.\n",
      "Sarah: That's significant. Alex, any blockers from the UI/UX side?\n",
      "Alex (UI/UX): The accessibility audit revealed three critical issues that need to be addressed. The color contrast in the new dashboard doesn't meet WCAG standards, screen readers can't properly navigate the payment forms, and the keyboard navigation is broken in several key workflows.\n",
      "James: How long will those take to fix?\n",
      "Alex: I've already prepared the design changes. If Daniel or another developer can pair with me, we could knock them out in a day.\n",
      "James: I'll assign Li to work with you on that tomorrow.\n",
      "Sarah: Let's summarize the blockers then:\n",
      "\n",
      "Data sync issue in offline mode\n",
      "Memory leak in video processing\n",
      "Payment processing timeout\n",
      "Infrastructure scaling for anticipated load\n",
      "Accessibility compliance issues\n",
      "\n",
      "Maya: There's one more thing. The performance testing on older devices shows unacceptable load times for the main dashboard. It's taking over 8 seconds on devices that are 3+ years old, which represents about 30% of our user base.\n",
      "James: Is that because of the new analytics visualizations?\n",
      "Maya: Yes, the charts library we're using is very resource-intensive.\n",
      "Alex: We could implement progressive loading or simplify the visualizations for older devices.\n",
      "James: Progressive loading would be safer at this point. How much work would that be, Daniel?\n",
      "Daniel: Probably a day of work, and another day for testing.\n",
      "Sarah: Alright, so we have six critical blockers. Based on the estimates, it sounds like we need at least three more days than we planned. Let's discuss whether we should push back the release date or consider a phased rollout.\n",
      "Raj: I'd recommend a phased rollout, starting with 10% of users and gradually increasing. That would give us more time to address any issues that emerge and scale the infrastructure appropriately.\n",
      "Maya: From a quality perspective, I'd be more comfortable with a short delay rather than risking a bad user experience.\n",
      "James: Agreed. I think we should push the release to Friday of next week instead of Tuesday. That gives us the cushion we need.\n",
      "Sarah: That makes sense. Let's go with that plan. I'll update stakeholders about the new timeline this afternoon. James, can you send out an updated task breakdown with assignments and deadlines by end of day?\n",
      "James: Will do.\n",
      "Sarah: Any other blockers or concerns we should discuss?\n",
      "Raj: Just a reminder that we need to coordinate with the marketing team about the announcement timing.\n",
      "Sarah: Good point. I'll handle that as part of my communications today. Anything else?\n",
      "[Brief silence]\n",
      "Sarah: Alright, let's get to work then. We'll meet again on Friday for a progress check. Thanks everyone.\n",
      ", generate a concise and comprehensive summary of the meeting. Focus on key ideas, decisions made, and any follow-up actions required.\u001b[00m\n",
      "\n",
      "\n",
      "\u001b[1m\u001b[95m# Agent:\u001b[00m \u001b[1m\u001b[92mMeeting Summarizer\u001b[00m\n",
      "\u001b[95m## Final Answer:\u001b[00m \u001b[92m\n",
      "<think>\n",
      "Alright, I need to summarize the meeting based on the provided notes. Let me go through each section step by step.\n",
      "\n",
      "First, Raj mentioned an infrastructure issue due to a previous partial outage. He's taking steps to scale up servers but estimates two days for implementation and testing. That seems significant because it's unexpected and could cause delays.\n",
      "\n",
      "Sarah then brought up performance issues with older devices, specifically the main dashboard loading too slow on devices over three years old. This affects about 30% of users, which is notable. She suggested progressive loading or simplifying charts, but that would take a day plus testing.\n",
      "\n",
      "Alex raised accessibility concerns: color contrast, screen reader navigation, and keyboard issues. He needs design changes with Daniel's help, potentially taking a day to fix.\n",
      "\n",
      "James mentioned a phased rollout from 10% users to Friday next week due to the load issues, pushing back the release date by three days from Tuesday to Friday.\n",
      "\n",
      "Sarah also discussed coordinating with the marketing team about the announcement timing, which she'll handle after updating them.\n",
      "\n",
      "So, putting it all together: The meeting identified multiple critical issues—infrastructure scaling, performance on older devices, accessibility, and a phased rollout. Raj suggested pushing back the release to Friday due to these factors, aligning with user feedback and strategic planning.\n",
      "</think>\n",
      "\n",
      "The meeting identified several critical challenges impacting the upcoming release of version 2.0. Key issues include infrastructure scalability to handle increased user load, performance degradation on older devices (3+ years old), accessibility compliance concerns for key functionalities, and the need for a phased rollout strategy from 10% user adoption to full release by Friday next week. Raj proposed delaying the release due to these factors, with an estimated three additional days needed beyond the initial timeline. Sarah emphasized the importance of prioritizing user experience and quality over speed, coordinating with the marketing team to adjust announcement timing accordingly. The discussion highlighted the need for a phased approach to ensure smooth scaling while addressing technical and accessibility issues.\u001b[00m\n",
      "\n",
      "\n"
     ]
    },
    {
     "data": {
      "text/html": [
       "<pre style=\"white-space:pre;overflow-x:auto;line-height:normal;font-family:Menlo,'DejaVu Sans Mono',consolas,'Courier New',monospace\"><span style=\"color: #008080; text-decoration-color: #008080; font-weight: bold\">🚀 Crew: crew</span>\n",
       "└── <span style=\"color: #808000; text-decoration-color: #808000; font-weight: bold\">📋 Task: 6d36a7da-0a56-4c6f-94dc-fbc275497147</span>\n",
       "    <span style=\"color: #c0c0c0; text-decoration-color: #c0c0c0\">   Status: </span><span style=\"color: #bfbf7f; text-decoration-color: #bfbf7f\">Executing Task...</span>\n",
       "    └── <span style=\"color: #008000; text-decoration-color: #008000; font-weight: bold\">🤖 Agent: </span><span style=\"color: #008000; text-decoration-color: #008000\">Meeting Summarizer</span>\n",
       "        <span style=\"color: #c0c0c0; text-decoration-color: #c0c0c0\">    Status: </span><span style=\"color: #008000; text-decoration-color: #008000; font-weight: bold\">✅ Completed</span>\n",
       "</pre>\n"
      ],
      "text/plain": [
       "\u001b[1;36m🚀 Crew: \u001b[0m\u001b[1;36mcrew\u001b[0m\n",
       "└── \u001b[1;33m📋 Task: 6d36a7da-0a56-4c6f-94dc-fbc275497147\u001b[0m\n",
       "    \u001b[37m   Status: \u001b[0m\u001b[2;33mExecuting Task...\u001b[0m\n",
       "    └── \u001b[1;32m🤖 Agent: \u001b[0m\u001b[32mMeeting Summarizer\u001b[0m\n",
       "        \u001b[37m    Status: \u001b[0m\u001b[1;32m✅ Completed\u001b[0m\n"
      ]
     },
     "metadata": {},
     "output_type": "display_data"
    },
    {
     "data": {
      "text/html": [
       "<pre style=\"white-space:pre;overflow-x:auto;line-height:normal;font-family:Menlo,'DejaVu Sans Mono',consolas,'Courier New',monospace\">\n",
       "</pre>\n"
      ],
      "text/plain": [
       "\n"
      ]
     },
     "metadata": {},
     "output_type": "display_data"
    },
    {
     "data": {
      "text/html": [
       "<pre style=\"white-space:pre;overflow-x:auto;line-height:normal;font-family:Menlo,'DejaVu Sans Mono',consolas,'Courier New',monospace\"><span style=\"color: #008080; text-decoration-color: #008080; font-weight: bold\">🚀 Crew: crew</span>\n",
       "└── <span style=\"color: #008000; text-decoration-color: #008000; font-weight: bold\">📋 Task: 6d36a7da-0a56-4c6f-94dc-fbc275497147</span>\n",
       "    <span style=\"color: #c0c0c0; text-decoration-color: #c0c0c0\">   Assigned to: </span><span style=\"color: #008000; text-decoration-color: #008000\">Meeting Summarizer</span>\n",
       "    <span style=\"color: #c0c0c0; text-decoration-color: #c0c0c0\">   Status: </span><span style=\"color: #008000; text-decoration-color: #008000; font-weight: bold\">✅ Completed</span>\n",
       "    └── <span style=\"color: #008000; text-decoration-color: #008000; font-weight: bold\">🤖 Agent: </span><span style=\"color: #008000; text-decoration-color: #008000\">Meeting Summarizer</span>\n",
       "        <span style=\"color: #c0c0c0; text-decoration-color: #c0c0c0\">    Status: </span><span style=\"color: #008000; text-decoration-color: #008000; font-weight: bold\">✅ Completed</span>\n",
       "</pre>\n"
      ],
      "text/plain": [
       "\u001b[1;36m🚀 Crew: \u001b[0m\u001b[1;36mcrew\u001b[0m\n",
       "└── \u001b[1;32m📋 Task: 6d36a7da-0a56-4c6f-94dc-fbc275497147\u001b[0m\n",
       "    \u001b[37m   Assigned to: \u001b[0m\u001b[32mMeeting Summarizer\u001b[0m\n",
       "    \u001b[37m   Status: \u001b[0m\u001b[1;32m✅ Completed\u001b[0m\n",
       "    └── \u001b[1;32m🤖 Agent: \u001b[0m\u001b[32mMeeting Summarizer\u001b[0m\n",
       "        \u001b[37m    Status: \u001b[0m\u001b[1;32m✅ Completed\u001b[0m\n"
      ]
     },
     "metadata": {},
     "output_type": "display_data"
    },
    {
     "data": {
      "text/html": [
       "<pre style=\"white-space:pre;overflow-x:auto;line-height:normal;font-family:Menlo,'DejaVu Sans Mono',consolas,'Courier New',monospace\"><span style=\"color: #008000; text-decoration-color: #008000\">╭──────────────────────────────────────────────── Task Completion ────────────────────────────────────────────────╮</span>\n",
       "<span style=\"color: #008000; text-decoration-color: #008000\">│</span>                                                                                                                 <span style=\"color: #008000; text-decoration-color: #008000\">│</span>\n",
       "<span style=\"color: #008000; text-decoration-color: #008000\">│</span>  <span style=\"color: #008000; text-decoration-color: #008000; font-weight: bold\">Task Completed</span>                                                                                                 <span style=\"color: #008000; text-decoration-color: #008000\">│</span>\n",
       "<span style=\"color: #008000; text-decoration-color: #008000\">│</span>  <span style=\"color: #c0c0c0; text-decoration-color: #c0c0c0\">Name: </span><span style=\"color: #008000; text-decoration-color: #008000\">6d36a7da-0a56-4c6f-94dc-fbc275497147</span>                                                                     <span style=\"color: #008000; text-decoration-color: #008000\">│</span>\n",
       "<span style=\"color: #008000; text-decoration-color: #008000\">│</span>  <span style=\"color: #c0c0c0; text-decoration-color: #c0c0c0\">Agent: </span><span style=\"color: #008000; text-decoration-color: #008000\">Meeting Summarizer</span>                                                                                      <span style=\"color: #008000; text-decoration-color: #008000\">│</span>\n",
       "<span style=\"color: #008000; text-decoration-color: #008000\">│</span>                                                                                                                 <span style=\"color: #008000; text-decoration-color: #008000\">│</span>\n",
       "<span style=\"color: #008000; text-decoration-color: #008000\">│</span>                                                                                                                 <span style=\"color: #008000; text-decoration-color: #008000\">│</span>\n",
       "<span style=\"color: #008000; text-decoration-color: #008000\">╰─────────────────────────────────────────────────────────────────────────────────────────────────────────────────╯</span>\n",
       "</pre>\n"
      ],
      "text/plain": [
       "\u001b[32m╭─\u001b[0m\u001b[32m───────────────────────────────────────────────\u001b[0m\u001b[32m Task Completion \u001b[0m\u001b[32m───────────────────────────────────────────────\u001b[0m\u001b[32m─╮\u001b[0m\n",
       "\u001b[32m│\u001b[0m                                                                                                                 \u001b[32m│\u001b[0m\n",
       "\u001b[32m│\u001b[0m  \u001b[1;32mTask Completed\u001b[0m                                                                                                 \u001b[32m│\u001b[0m\n",
       "\u001b[32m│\u001b[0m  \u001b[37mName: \u001b[0m\u001b[32m6d36a7da-0a56-4c6f-94dc-fbc275497147\u001b[0m                                                                     \u001b[32m│\u001b[0m\n",
       "\u001b[32m│\u001b[0m  \u001b[37mAgent: \u001b[0m\u001b[32mMeeting Summarizer\u001b[0m                                                                                      \u001b[32m│\u001b[0m\n",
       "\u001b[32m│\u001b[0m                                                                                                                 \u001b[32m│\u001b[0m\n",
       "\u001b[32m│\u001b[0m                                                                                                                 \u001b[32m│\u001b[0m\n",
       "\u001b[32m╰─────────────────────────────────────────────────────────────────────────────────────────────────────────────────╯\u001b[0m\n"
      ]
     },
     "metadata": {},
     "output_type": "display_data"
    },
    {
     "data": {
      "text/html": [
       "<pre style=\"white-space:pre;overflow-x:auto;line-height:normal;font-family:Menlo,'DejaVu Sans Mono',consolas,'Courier New',monospace\">\n",
       "</pre>\n"
      ],
      "text/plain": [
       "\n"
      ]
     },
     "metadata": {},
     "output_type": "display_data"
    },
    {
     "data": {
      "text/html": [
       "<pre style=\"white-space:pre;overflow-x:auto;line-height:normal;font-family:Menlo,'DejaVu Sans Mono',consolas,'Courier New',monospace\"><span style=\"color: #008080; text-decoration-color: #008080; font-weight: bold\">🚀 Crew: crew</span>\n",
       "├── <span style=\"color: #008000; text-decoration-color: #008000; font-weight: bold\">📋 Task: 6d36a7da-0a56-4c6f-94dc-fbc275497147</span>\n",
       "│   <span style=\"color: #c0c0c0; text-decoration-color: #c0c0c0\">   Assigned to: </span><span style=\"color: #008000; text-decoration-color: #008000\">Meeting Summarizer</span>\n",
       "│   <span style=\"color: #c0c0c0; text-decoration-color: #c0c0c0\">   Status: </span><span style=\"color: #008000; text-decoration-color: #008000; font-weight: bold\">✅ Completed</span>\n",
       "│   └── <span style=\"color: #008000; text-decoration-color: #008000; font-weight: bold\">🤖 Agent: </span><span style=\"color: #008000; text-decoration-color: #008000\">Meeting Summarizer</span>\n",
       "│       <span style=\"color: #c0c0c0; text-decoration-color: #c0c0c0\">    Status: </span><span style=\"color: #008000; text-decoration-color: #008000; font-weight: bold\">✅ Completed</span>\n",
       "└── <span style=\"color: #808000; text-decoration-color: #808000; font-weight: bold\">📋 Task: ac5769c2-b647-493f-92f4-12c7d304c909</span>\n",
       "    <span style=\"color: #c0c0c0; text-decoration-color: #c0c0c0\">   Status: </span><span style=\"color: #bfbf7f; text-decoration-color: #bfbf7f\">Executing Task...</span>\n",
       "</pre>\n"
      ],
      "text/plain": [
       "\u001b[1;36m🚀 Crew: \u001b[0m\u001b[1;36mcrew\u001b[0m\n",
       "├── \u001b[1;32m📋 Task: 6d36a7da-0a56-4c6f-94dc-fbc275497147\u001b[0m\n",
       "│   \u001b[37m   Assigned to: \u001b[0m\u001b[32mMeeting Summarizer\u001b[0m\n",
       "│   \u001b[37m   Status: \u001b[0m\u001b[1;32m✅ Completed\u001b[0m\n",
       "│   └── \u001b[1;32m🤖 Agent: \u001b[0m\u001b[32mMeeting Summarizer\u001b[0m\n",
       "│       \u001b[37m    Status: \u001b[0m\u001b[1;32m✅ Completed\u001b[0m\n",
       "└── \u001b[1;33m📋 Task: ac5769c2-b647-493f-92f4-12c7d304c909\u001b[0m\n",
       "    \u001b[37m   Status: \u001b[0m\u001b[2;33mExecuting Task...\u001b[0m\n"
      ]
     },
     "metadata": {},
     "output_type": "display_data"
    },
    {
     "data": {
      "text/html": [
       "<pre style=\"white-space:pre;overflow-x:auto;line-height:normal;font-family:Menlo,'DejaVu Sans Mono',consolas,'Courier New',monospace\">\n",
       "</pre>\n"
      ],
      "text/plain": [
       "\n"
      ]
     },
     "metadata": {},
     "output_type": "display_data"
    },
    {
     "data": {
      "text/html": [
       "<pre style=\"white-space:pre;overflow-x:auto;line-height:normal;font-family:Menlo,'DejaVu Sans Mono',consolas,'Courier New',monospace\"><span style=\"color: #008080; text-decoration-color: #008080; font-weight: bold\">🚀 Crew: crew</span>\n",
       "├── <span style=\"color: #008000; text-decoration-color: #008000; font-weight: bold\">📋 Task: 6d36a7da-0a56-4c6f-94dc-fbc275497147</span>\n",
       "│   <span style=\"color: #c0c0c0; text-decoration-color: #c0c0c0\">   Assigned to: </span><span style=\"color: #008000; text-decoration-color: #008000\">Meeting Summarizer</span>\n",
       "│   <span style=\"color: #c0c0c0; text-decoration-color: #c0c0c0\">   Status: </span><span style=\"color: #008000; text-decoration-color: #008000; font-weight: bold\">✅ Completed</span>\n",
       "│   └── <span style=\"color: #008000; text-decoration-color: #008000; font-weight: bold\">🤖 Agent: </span><span style=\"color: #008000; text-decoration-color: #008000\">Meeting Summarizer</span>\n",
       "│       <span style=\"color: #c0c0c0; text-decoration-color: #c0c0c0\">    Status: </span><span style=\"color: #008000; text-decoration-color: #008000; font-weight: bold\">✅ Completed</span>\n",
       "└── <span style=\"color: #808000; text-decoration-color: #808000; font-weight: bold\">📋 Task: ac5769c2-b647-493f-92f4-12c7d304c909</span>\n",
       "    <span style=\"color: #c0c0c0; text-decoration-color: #c0c0c0\">   Status: </span><span style=\"color: #bfbf7f; text-decoration-color: #bfbf7f\">Executing Task...</span>\n",
       "    └── <span style=\"color: #008000; text-decoration-color: #008000; font-weight: bold\">🤖 Agent: </span><span style=\"color: #008000; text-decoration-color: #008000\">Action Point Generator</span>\n",
       "        <span style=\"color: #c0c0c0; text-decoration-color: #c0c0c0\">    Status: </span><span style=\"color: #008000; text-decoration-color: #008000; font-weight: bold\">In Progress</span>\n",
       "</pre>\n"
      ],
      "text/plain": [
       "\u001b[1;36m🚀 Crew: \u001b[0m\u001b[1;36mcrew\u001b[0m\n",
       "├── \u001b[1;32m📋 Task: 6d36a7da-0a56-4c6f-94dc-fbc275497147\u001b[0m\n",
       "│   \u001b[37m   Assigned to: \u001b[0m\u001b[32mMeeting Summarizer\u001b[0m\n",
       "│   \u001b[37m   Status: \u001b[0m\u001b[1;32m✅ Completed\u001b[0m\n",
       "│   └── \u001b[1;32m🤖 Agent: \u001b[0m\u001b[32mMeeting Summarizer\u001b[0m\n",
       "│       \u001b[37m    Status: \u001b[0m\u001b[1;32m✅ Completed\u001b[0m\n",
       "└── \u001b[1;33m📋 Task: ac5769c2-b647-493f-92f4-12c7d304c909\u001b[0m\n",
       "    \u001b[37m   Status: \u001b[0m\u001b[2;33mExecuting Task...\u001b[0m\n",
       "    └── \u001b[1;32m🤖 Agent: \u001b[0m\u001b[32mAction Point Generator\u001b[0m\n",
       "        \u001b[37m    Status: \u001b[0m\u001b[1;32mIn Progress\u001b[0m\n"
      ]
     },
     "metadata": {},
     "output_type": "display_data"
    },
    {
     "data": {
      "text/html": [
       "<pre style=\"white-space:pre;overflow-x:auto;line-height:normal;font-family:Menlo,'DejaVu Sans Mono',consolas,'Courier New',monospace\">\n",
       "</pre>\n"
      ],
      "text/plain": [
       "\n"
      ]
     },
     "metadata": {},
     "output_type": "display_data"
    },
    {
     "name": "stdout",
     "output_type": "stream",
     "text": [
      "\u001b[1m\u001b[95m# Agent:\u001b[00m \u001b[1m\u001b[92mAction Point Generator\u001b[00m\n",
      "\u001b[95m## Task:\u001b[00m \u001b[92mGenerate the actions points from the  \n",
      "Sarah : Good morning everyone. Thanks for joining our blocker review meeting. As you know, we're aiming to push v2.5 of the app to production next Tuesday. We need to identify and resolve any remaining blockers before then. James, can you start with an overview of where we stand from an engineering perspective?\n",
      "James : Sure. We've made good progress since our last meeting. The core functionality is stable, but we still have three critical bugs that need resolution. The most pressing is the data synchronization issue when users go offline. Right now, if a user makes changes while offline, about 20% of the time those changes aren't properly synced when they reconnect.\n",
      "Maya : I can confirm that. We've reproduced it consistently in our testing environment. The problem seems more pronounced on Android than iOS.\n",
      "Daniel : We've narrowed down the issue. It's related to how the local database handles conflict resolution. I've implemented a potential fix that's currently in the staging environment. Maya, could your team prioritize testing that today?\n",
      "Maya: Absolutely. We'll make that our top priority.\n",
      "James: Second issue is the memory leak we identified in the video processing feature. It's not immediately visible to users, but after extended use, it causes the app to slow down significantly and eventually crash.\n",
      "Daniel: I'm working on that one. It's challenging because it only happens after about 30 minutes of continuous use. I've identified where the resources aren't being properly released, but the fix is complex because it touches several components. I think I can have it resolved by tomorrow afternoon.\n",
      "Sarah: That's cutting it close to our deadline. Is there a risk we won't make it?\n",
      "Daniel: There's always some risk, but I'm confident we'll resolve it. If absolutely necessary, we could disable the video processing feature for this release and add it back in v2.6.\n",
      "Sarah: Let's keep that as Plan B. What's the third issue, James?\n",
      "James: The payment processing timeout. Under high load, payment confirmations are taking too long, causing users to think their payment failed when it actually succeeded.\n",
      "Raj (DevOps): That's on me. Our cloud service provider had a partial outage last week that revealed this weakness in our architecture. I've implemented a more robust queueing system with better retry logic, but I'm concerned about our current infrastructure capacity.\n",
      "Sarah: Can you elaborate?\n",
      "Raj: Based on our projections, we're expecting a 40% increase in users after this release due to the new features. Our current server configuration won't handle that load effectively. We need to upgrade our infrastructure before the release.\n",
      "Sarah: That wasn't in our original plan. What's involved?\n",
      "Raj: We need to scale up our database instances and add more application servers. I've prepared a document with the details, but the bottom line is it will take about two days to implement and test properly.\n",
      "Sarah: That's significant. Alex, any blockers from the UI/UX side?\n",
      "Alex (UI/UX): The accessibility audit revealed three critical issues that need to be addressed. The color contrast in the new dashboard doesn't meet WCAG standards, screen readers can't properly navigate the payment forms, and the keyboard navigation is broken in several key workflows.\n",
      "James: How long will those take to fix?\n",
      "Alex: I've already prepared the design changes. If Daniel or another developer can pair with me, we could knock them out in a day.\n",
      "James: I'll assign Li to work with you on that tomorrow.\n",
      "Sarah: Let's summarize the blockers then:\n",
      "\n",
      "Data sync issue in offline mode\n",
      "Memory leak in video processing\n",
      "Payment processing timeout\n",
      "Infrastructure scaling for anticipated load\n",
      "Accessibility compliance issues\n",
      "\n",
      "Maya: There's one more thing. The performance testing on older devices shows unacceptable load times for the main dashboard. It's taking over 8 seconds on devices that are 3+ years old, which represents about 30% of our user base.\n",
      "James: Is that because of the new analytics visualizations?\n",
      "Maya: Yes, the charts library we're using is very resource-intensive.\n",
      "Alex: We could implement progressive loading or simplify the visualizations for older devices.\n",
      "James: Progressive loading would be safer at this point. How much work would that be, Daniel?\n",
      "Daniel: Probably a day of work, and another day for testing.\n",
      "Sarah: Alright, so we have six critical blockers. Based on the estimates, it sounds like we need at least three more days than we planned. Let's discuss whether we should push back the release date or consider a phased rollout.\n",
      "Raj: I'd recommend a phased rollout, starting with 10% of users and gradually increasing. That would give us more time to address any issues that emerge and scale the infrastructure appropriately.\n",
      "Maya: From a quality perspective, I'd be more comfortable with a short delay rather than risking a bad user experience.\n",
      "James: Agreed. I think we should push the release to Friday of next week instead of Tuesday. That gives us the cushion we need.\n",
      "Sarah: That makes sense. Let's go with that plan. I'll update stakeholders about the new timeline this afternoon. James, can you send out an updated task breakdown with assignments and deadlines by end of day?\n",
      "James: Will do.\n",
      "Sarah: Any other blockers or concerns we should discuss?\n",
      "Raj: Just a reminder that we need to coordinate with the marketing team about the announcement timing.\n",
      "Sarah: Good point. I'll handle that as part of my communications today. Anything else?\n",
      "[Brief silence]\n",
      "Sarah: Alright, let's get to work then. We'll meet again on Friday for a progress check. Thanks everyone.\n",
      " so that it can be discussed in the next meeting.\u001b[00m\n",
      "\n",
      "\n",
      "\u001b[1m\u001b[95m# Agent:\u001b[00m \u001b[1m\u001b[92mAction Point Generator\u001b[00m\n",
      "\u001b[95m## Final Answer:\u001b[00m \u001b[92m\n",
      "<think>\n",
      "Alright, I'm trying to summarize this meeting based on the provided notes. Let me go through each part step by step.\n",
      "\n",
      "First, Raj mentioned an infrastructure issue due to a previous partial outage. He's taking steps to scale up servers but estimates two days for implementation and testing. That seems significant because it's unexpected and could cause delays.\n",
      "\n",
      "Sarah then brought up performance issues with older devices, specifically the main dashboard loading too slow on devices over three years old. This affects about 30% of users, which is notable. She suggested progressive loading or simplifying charts, but that would take a day plus testing.\n",
      "\n",
      "Alex raised accessibility concerns: color contrast, screen reader navigation, and keyboard issues. He needs design changes with Daniel's help, potentially taking a day to fix.\n",
      "\n",
      "James mentioned a phased rollout from 10% users to Friday next week due to the load issues, pushing back the release date by three days from Tuesday to Friday.\n",
      "\n",
      "Sarah also discussed coordinating with the marketing team about the announcement timing, which she'll handle after updating them.\n",
      "\n",
      "So, putting it all together: The meeting identified multiple critical issues—infrastructure scaling, performance on older devices, accessibility, and a phased rollout. Raj suggested pushing back the release to Friday due to these factors, aligning with user feedback and strategic planning.\n",
      "</think>\n",
      "\n",
      "The meeting highlighted several key challenges for the upcoming release of version 2.0:\n",
      "\n",
      "1. **Infrastructure Issues**: Raj identified a need for scaling up servers after a previous partial outage, estimating two days for implementation and testing.\n",
      "\n",
      "2. **Performance on Older Devices**: Sarah noted slow load times (over 8 seconds) on devices older than three years, affecting about 30% of users. She suggested progressive loading or chart simplification, likely taking a day plus testing.\n",
      "\n",
      "3. **Accessibility Concerns**: Alex raised issues with color contrast and navigation for screen readers and keyboards, requiring design changes potentially taking a day to resolve.\n",
      "\n",
      "4. **Phased Rollout Strategy**: James proposed delaying the release from Tuesday to Friday next week due to load issues, aligning with user feedback and strategic planning.\n",
      "\n",
      "5. **Marketing Coordination**: Sarah emphasized coordinating with the marketing team about the announcement timing, which she'll handle after updating stakeholders.\n",
      "\n",
      "The meeting underscored the necessity for a phased approach to address these challenges while ensuring smooth scaling and addressing technical and accessibility issues.\u001b[00m\n",
      "\n",
      "\n"
     ]
    },
    {
     "data": {
      "text/html": [
       "<pre style=\"white-space:pre;overflow-x:auto;line-height:normal;font-family:Menlo,'DejaVu Sans Mono',consolas,'Courier New',monospace\"><span style=\"color: #008080; text-decoration-color: #008080; font-weight: bold\">🚀 Crew: crew</span>\n",
       "├── <span style=\"color: #008000; text-decoration-color: #008000; font-weight: bold\">📋 Task: 6d36a7da-0a56-4c6f-94dc-fbc275497147</span>\n",
       "│   <span style=\"color: #c0c0c0; text-decoration-color: #c0c0c0\">   Assigned to: </span><span style=\"color: #008000; text-decoration-color: #008000\">Meeting Summarizer</span>\n",
       "│   <span style=\"color: #c0c0c0; text-decoration-color: #c0c0c0\">   Status: </span><span style=\"color: #008000; text-decoration-color: #008000; font-weight: bold\">✅ Completed</span>\n",
       "│   └── <span style=\"color: #008000; text-decoration-color: #008000; font-weight: bold\">🤖 Agent: </span><span style=\"color: #008000; text-decoration-color: #008000\">Meeting Summarizer</span>\n",
       "│       <span style=\"color: #c0c0c0; text-decoration-color: #c0c0c0\">    Status: </span><span style=\"color: #008000; text-decoration-color: #008000; font-weight: bold\">✅ Completed</span>\n",
       "└── <span style=\"color: #808000; text-decoration-color: #808000; font-weight: bold\">📋 Task: ac5769c2-b647-493f-92f4-12c7d304c909</span>\n",
       "    <span style=\"color: #c0c0c0; text-decoration-color: #c0c0c0\">   Status: </span><span style=\"color: #bfbf7f; text-decoration-color: #bfbf7f\">Executing Task...</span>\n",
       "    └── <span style=\"color: #008000; text-decoration-color: #008000; font-weight: bold\">🤖 Agent: </span><span style=\"color: #008000; text-decoration-color: #008000\">Action Point Generator</span>\n",
       "        <span style=\"color: #c0c0c0; text-decoration-color: #c0c0c0\">    Status: </span><span style=\"color: #008000; text-decoration-color: #008000; font-weight: bold\">✅ Completed</span>\n",
       "</pre>\n"
      ],
      "text/plain": [
       "\u001b[1;36m🚀 Crew: \u001b[0m\u001b[1;36mcrew\u001b[0m\n",
       "├── \u001b[1;32m📋 Task: 6d36a7da-0a56-4c6f-94dc-fbc275497147\u001b[0m\n",
       "│   \u001b[37m   Assigned to: \u001b[0m\u001b[32mMeeting Summarizer\u001b[0m\n",
       "│   \u001b[37m   Status: \u001b[0m\u001b[1;32m✅ Completed\u001b[0m\n",
       "│   └── \u001b[1;32m🤖 Agent: \u001b[0m\u001b[32mMeeting Summarizer\u001b[0m\n",
       "│       \u001b[37m    Status: \u001b[0m\u001b[1;32m✅ Completed\u001b[0m\n",
       "└── \u001b[1;33m📋 Task: ac5769c2-b647-493f-92f4-12c7d304c909\u001b[0m\n",
       "    \u001b[37m   Status: \u001b[0m\u001b[2;33mExecuting Task...\u001b[0m\n",
       "    └── \u001b[1;32m🤖 Agent: \u001b[0m\u001b[32mAction Point Generator\u001b[0m\n",
       "        \u001b[37m    Status: \u001b[0m\u001b[1;32m✅ Completed\u001b[0m\n"
      ]
     },
     "metadata": {},
     "output_type": "display_data"
    },
    {
     "data": {
      "text/html": [
       "<pre style=\"white-space:pre;overflow-x:auto;line-height:normal;font-family:Menlo,'DejaVu Sans Mono',consolas,'Courier New',monospace\">\n",
       "</pre>\n"
      ],
      "text/plain": [
       "\n"
      ]
     },
     "metadata": {},
     "output_type": "display_data"
    },
    {
     "data": {
      "text/html": [
       "<pre style=\"white-space:pre;overflow-x:auto;line-height:normal;font-family:Menlo,'DejaVu Sans Mono',consolas,'Courier New',monospace\"><span style=\"color: #008080; text-decoration-color: #008080; font-weight: bold\">🚀 Crew: crew</span>\n",
       "├── <span style=\"color: #008000; text-decoration-color: #008000; font-weight: bold\">📋 Task: 6d36a7da-0a56-4c6f-94dc-fbc275497147</span>\n",
       "│   <span style=\"color: #c0c0c0; text-decoration-color: #c0c0c0\">   Assigned to: </span><span style=\"color: #008000; text-decoration-color: #008000\">Meeting Summarizer</span>\n",
       "│   <span style=\"color: #c0c0c0; text-decoration-color: #c0c0c0\">   Status: </span><span style=\"color: #008000; text-decoration-color: #008000; font-weight: bold\">✅ Completed</span>\n",
       "│   └── <span style=\"color: #008000; text-decoration-color: #008000; font-weight: bold\">🤖 Agent: </span><span style=\"color: #008000; text-decoration-color: #008000\">Meeting Summarizer</span>\n",
       "│       <span style=\"color: #c0c0c0; text-decoration-color: #c0c0c0\">    Status: </span><span style=\"color: #008000; text-decoration-color: #008000; font-weight: bold\">✅ Completed</span>\n",
       "└── <span style=\"color: #008000; text-decoration-color: #008000; font-weight: bold\">📋 Task: ac5769c2-b647-493f-92f4-12c7d304c909</span>\n",
       "    <span style=\"color: #c0c0c0; text-decoration-color: #c0c0c0\">   Assigned to: </span><span style=\"color: #008000; text-decoration-color: #008000\">Action Point Generator</span>\n",
       "    <span style=\"color: #c0c0c0; text-decoration-color: #c0c0c0\">   Status: </span><span style=\"color: #008000; text-decoration-color: #008000; font-weight: bold\">✅ Completed</span>\n",
       "    └── <span style=\"color: #008000; text-decoration-color: #008000; font-weight: bold\">🤖 Agent: </span><span style=\"color: #008000; text-decoration-color: #008000\">Action Point Generator</span>\n",
       "        <span style=\"color: #c0c0c0; text-decoration-color: #c0c0c0\">    Status: </span><span style=\"color: #008000; text-decoration-color: #008000; font-weight: bold\">✅ Completed</span>\n",
       "</pre>\n"
      ],
      "text/plain": [
       "\u001b[1;36m🚀 Crew: \u001b[0m\u001b[1;36mcrew\u001b[0m\n",
       "├── \u001b[1;32m📋 Task: 6d36a7da-0a56-4c6f-94dc-fbc275497147\u001b[0m\n",
       "│   \u001b[37m   Assigned to: \u001b[0m\u001b[32mMeeting Summarizer\u001b[0m\n",
       "│   \u001b[37m   Status: \u001b[0m\u001b[1;32m✅ Completed\u001b[0m\n",
       "│   └── \u001b[1;32m🤖 Agent: \u001b[0m\u001b[32mMeeting Summarizer\u001b[0m\n",
       "│       \u001b[37m    Status: \u001b[0m\u001b[1;32m✅ Completed\u001b[0m\n",
       "└── \u001b[1;32m📋 Task: ac5769c2-b647-493f-92f4-12c7d304c909\u001b[0m\n",
       "    \u001b[37m   Assigned to: \u001b[0m\u001b[32mAction Point Generator\u001b[0m\n",
       "    \u001b[37m   Status: \u001b[0m\u001b[1;32m✅ Completed\u001b[0m\n",
       "    └── \u001b[1;32m🤖 Agent: \u001b[0m\u001b[32mAction Point Generator\u001b[0m\n",
       "        \u001b[37m    Status: \u001b[0m\u001b[1;32m✅ Completed\u001b[0m\n"
      ]
     },
     "metadata": {},
     "output_type": "display_data"
    },
    {
     "data": {
      "text/html": [
       "<pre style=\"white-space:pre;overflow-x:auto;line-height:normal;font-family:Menlo,'DejaVu Sans Mono',consolas,'Courier New',monospace\"><span style=\"color: #008000; text-decoration-color: #008000\">╭──────────────────────────────────────────────── Task Completion ────────────────────────────────────────────────╮</span>\n",
       "<span style=\"color: #008000; text-decoration-color: #008000\">│</span>                                                                                                                 <span style=\"color: #008000; text-decoration-color: #008000\">│</span>\n",
       "<span style=\"color: #008000; text-decoration-color: #008000\">│</span>  <span style=\"color: #008000; text-decoration-color: #008000; font-weight: bold\">Task Completed</span>                                                                                                 <span style=\"color: #008000; text-decoration-color: #008000\">│</span>\n",
       "<span style=\"color: #008000; text-decoration-color: #008000\">│</span>  <span style=\"color: #c0c0c0; text-decoration-color: #c0c0c0\">Name: </span><span style=\"color: #008000; text-decoration-color: #008000\">ac5769c2-b647-493f-92f4-12c7d304c909</span>                                                                     <span style=\"color: #008000; text-decoration-color: #008000\">│</span>\n",
       "<span style=\"color: #008000; text-decoration-color: #008000\">│</span>  <span style=\"color: #c0c0c0; text-decoration-color: #c0c0c0\">Agent: </span><span style=\"color: #008000; text-decoration-color: #008000\">Action Point Generator</span>                                                                                  <span style=\"color: #008000; text-decoration-color: #008000\">│</span>\n",
       "<span style=\"color: #008000; text-decoration-color: #008000\">│</span>                                                                                                                 <span style=\"color: #008000; text-decoration-color: #008000\">│</span>\n",
       "<span style=\"color: #008000; text-decoration-color: #008000\">│</span>                                                                                                                 <span style=\"color: #008000; text-decoration-color: #008000\">│</span>\n",
       "<span style=\"color: #008000; text-decoration-color: #008000\">╰─────────────────────────────────────────────────────────────────────────────────────────────────────────────────╯</span>\n",
       "</pre>\n"
      ],
      "text/plain": [
       "\u001b[32m╭─\u001b[0m\u001b[32m───────────────────────────────────────────────\u001b[0m\u001b[32m Task Completion \u001b[0m\u001b[32m───────────────────────────────────────────────\u001b[0m\u001b[32m─╮\u001b[0m\n",
       "\u001b[32m│\u001b[0m                                                                                                                 \u001b[32m│\u001b[0m\n",
       "\u001b[32m│\u001b[0m  \u001b[1;32mTask Completed\u001b[0m                                                                                                 \u001b[32m│\u001b[0m\n",
       "\u001b[32m│\u001b[0m  \u001b[37mName: \u001b[0m\u001b[32mac5769c2-b647-493f-92f4-12c7d304c909\u001b[0m                                                                     \u001b[32m│\u001b[0m\n",
       "\u001b[32m│\u001b[0m  \u001b[37mAgent: \u001b[0m\u001b[32mAction Point Generator\u001b[0m                                                                                  \u001b[32m│\u001b[0m\n",
       "\u001b[32m│\u001b[0m                                                                                                                 \u001b[32m│\u001b[0m\n",
       "\u001b[32m│\u001b[0m                                                                                                                 \u001b[32m│\u001b[0m\n",
       "\u001b[32m╰─────────────────────────────────────────────────────────────────────────────────────────────────────────────────╯\u001b[0m\n"
      ]
     },
     "metadata": {},
     "output_type": "display_data"
    },
    {
     "data": {
      "text/html": [
       "<pre style=\"white-space:pre;overflow-x:auto;line-height:normal;font-family:Menlo,'DejaVu Sans Mono',consolas,'Courier New',monospace\">\n",
       "</pre>\n"
      ],
      "text/plain": [
       "\n"
      ]
     },
     "metadata": {},
     "output_type": "display_data"
    },
    {
     "data": {
      "text/html": [
       "<pre style=\"white-space:pre;overflow-x:auto;line-height:normal;font-family:Menlo,'DejaVu Sans Mono',consolas,'Courier New',monospace\"><span style=\"color: #008000; text-decoration-color: #008000\">╭──────────────────────────────────────────────── Crew Completion ────────────────────────────────────────────────╮</span>\n",
       "<span style=\"color: #008000; text-decoration-color: #008000\">│</span>                                                                                                                 <span style=\"color: #008000; text-decoration-color: #008000\">│</span>\n",
       "<span style=\"color: #008000; text-decoration-color: #008000\">│</span>  <span style=\"color: #008000; text-decoration-color: #008000; font-weight: bold\">Crew Execution Completed</span>                                                                                       <span style=\"color: #008000; text-decoration-color: #008000\">│</span>\n",
       "<span style=\"color: #008000; text-decoration-color: #008000\">│</span>  <span style=\"color: #c0c0c0; text-decoration-color: #c0c0c0\">Name: </span><span style=\"color: #008000; text-decoration-color: #008000\">crew</span>                                                                                                     <span style=\"color: #008000; text-decoration-color: #008000\">│</span>\n",
       "<span style=\"color: #008000; text-decoration-color: #008000\">│</span>  <span style=\"color: #c0c0c0; text-decoration-color: #c0c0c0\">ID: </span><span style=\"color: #008000; text-decoration-color: #008000\">b18a6e53-8339-4970-9184-ea51f1b8274e</span>                                                                       <span style=\"color: #008000; text-decoration-color: #008000\">│</span>\n",
       "<span style=\"color: #008000; text-decoration-color: #008000\">│</span>                                                                                                                 <span style=\"color: #008000; text-decoration-color: #008000\">│</span>\n",
       "<span style=\"color: #008000; text-decoration-color: #008000\">│</span>                                                                                                                 <span style=\"color: #008000; text-decoration-color: #008000\">│</span>\n",
       "<span style=\"color: #008000; text-decoration-color: #008000\">╰─────────────────────────────────────────────────────────────────────────────────────────────────────────────────╯</span>\n",
       "</pre>\n"
      ],
      "text/plain": [
       "\u001b[32m╭─\u001b[0m\u001b[32m───────────────────────────────────────────────\u001b[0m\u001b[32m Crew Completion \u001b[0m\u001b[32m───────────────────────────────────────────────\u001b[0m\u001b[32m─╮\u001b[0m\n",
       "\u001b[32m│\u001b[0m                                                                                                                 \u001b[32m│\u001b[0m\n",
       "\u001b[32m│\u001b[0m  \u001b[1;32mCrew Execution Completed\u001b[0m                                                                                       \u001b[32m│\u001b[0m\n",
       "\u001b[32m│\u001b[0m  \u001b[37mName: \u001b[0m\u001b[32mcrew\u001b[0m                                                                                                     \u001b[32m│\u001b[0m\n",
       "\u001b[32m│\u001b[0m  \u001b[37mID: \u001b[0m\u001b[32mb18a6e53-8339-4970-9184-ea51f1b8274e\u001b[0m                                                                       \u001b[32m│\u001b[0m\n",
       "\u001b[32m│\u001b[0m                                                                                                                 \u001b[32m│\u001b[0m\n",
       "\u001b[32m│\u001b[0m                                                                                                                 \u001b[32m│\u001b[0m\n",
       "\u001b[32m╰─────────────────────────────────────────────────────────────────────────────────────────────────────────────────╯\u001b[0m\n"
      ]
     },
     "metadata": {},
     "output_type": "display_data"
    },
    {
     "data": {
      "text/html": [
       "<pre style=\"white-space:pre;overflow-x:auto;line-height:normal;font-family:Menlo,'DejaVu Sans Mono',consolas,'Courier New',monospace\">\n",
       "</pre>\n"
      ],
      "text/plain": [
       "\n"
      ]
     },
     "metadata": {},
     "output_type": "display_data"
    },
    {
     "name": "stdout",
     "output_type": "stream",
     "text": [
      "<think>\n",
      "Alright, I'm trying to summarize this meeting based on the provided notes. Let me go through each part step by step.\n",
      "\n",
      "First, Raj mentioned an infrastructure issue due to a previous partial outage. He's taking steps to scale up servers but estimates two days for implementation and testing. That seems significant because it's unexpected and could cause delays.\n",
      "\n",
      "Sarah then brought up performance issues with older devices, specifically the main dashboard loading too slow on devices over three years old. This affects about 30% of users, which is notable. She suggested progressive loading or simplifying charts, but that would take a day plus testing.\n",
      "\n",
      "Alex raised accessibility concerns: color contrast, screen reader navigation, and keyboard issues. He needs design changes with Daniel's help, potentially taking a day to fix.\n",
      "\n",
      "James mentioned a phased rollout from 10% users to Friday next week due to the load issues, pushing back the release date by three days from Tuesday to Friday.\n",
      "\n",
      "Sarah also discussed coordinating with the marketing team about the announcement timing, which she'll handle after updating them.\n",
      "\n",
      "So, putting it all together: The meeting identified multiple critical issues—infrastructure scaling, performance on older devices, accessibility, and a phased rollout. Raj suggested pushing back the release to Friday due to these factors, aligning with user feedback and strategic planning.\n",
      "</think>\n",
      "\n",
      "The meeting highlighted several key challenges for the upcoming release of version 2.0:\n",
      "\n",
      "1. **Infrastructure Issues**: Raj identified a need for scaling up servers after a previous partial outage, estimating two days for implementation and testing.\n",
      "\n",
      "2. **Performance on Older Devices**: Sarah noted slow load times (over 8 seconds) on devices older than three years, affecting about 30% of users. She suggested progressive loading or chart simplification, likely taking a day plus testing.\n",
      "\n",
      "3. **Accessibility Concerns**: Alex raised issues with color contrast and navigation for screen readers and keyboards, requiring design changes potentially taking a day to resolve.\n",
      "\n",
      "4. **Phased Rollout Strategy**: James proposed delaying the release from Tuesday to Friday next week due to load issues, aligning with user feedback and strategic planning.\n",
      "\n",
      "5. **Marketing Coordination**: Sarah emphasized coordinating with the marketing team about the announcement timing, which she'll handle after updating stakeholders.\n",
      "\n",
      "The meeting underscored the necessity for a phased approach to address these challenges while ensuring smooth scaling and addressing technical and accessibility issues.\n"
     ]
    }
   ],
   "source": [
    "\n",
    "crew=Crew(\n",
    "    agents=[meeting_summarizer,action_point_generator],\n",
    "    tasks=[meeting_summarizing_task,action_point_generation_task],\n",
    "    process=Process.sequential,\n",
    "    verbose=True\n",
    ")\n",
    "result=crew.kickoff(inputs={\"meeting_transcripts\":transcripts})\n",
    "print(result)\n",
    "\n"
   ]
  },
  {
   "cell_type": "code",
   "execution_count": 15,
   "id": "024ddd4a",
   "metadata": {},
   "outputs": [
    {
     "name": "stdout",
     "output_type": "stream",
     "text": [
      "<think>\n",
      "Alright, I need to summarize the meeting based on the provided notes. Let me go through each section step by step.\n",
      "\n",
      "First, Raj mentioned an infrastructure issue due to a previous partial outage. He's taking steps to scale up servers but estimates two days for implementation and testing. That seems significant because it's unexpected and could cause delays.\n",
      "\n",
      "Sarah then brought up performance issues with older devices, specifically the main dashboard loading too slow on devices over three years old. This affects about 30% of users, which is notable. She suggested progressive loading or simplifying charts, but that would take a day plus testing.\n",
      "\n",
      "Alex raised accessibility concerns: color contrast, screen reader navigation, and keyboard issues. He needs design changes with Daniel's help, potentially taking a day to fix.\n",
      "\n",
      "James mentioned a phased rollout from 10% users to Friday next week due to the load issues, pushing back the release date by three days from Tuesday to Friday.\n",
      "\n",
      "Sarah also discussed coordinating with the marketing team about the announcement timing, which she'll handle after updating them.\n",
      "\n",
      "So, putting it all together: The meeting identified multiple critical issues—infrastructure scaling, performance on older devices, accessibility, and a phased rollout. Raj suggested pushing back the release to Friday due to these factors, aligning with user feedback and strategic planning.\n",
      "</think>\n",
      "\n",
      "The meeting identified several critical challenges impacting the upcoming release of version 2.0.\n",
      "Key issues include infrastructure scalability to handle increased user load, performance degradation on older devices (3+ years old), accessibility compliance concerns for key functionalities, \n",
      "and the need for a phased rollout strategy from 10% user adoption to full release by Friday next week. Raj proposed delaying the release due to these factors, with an estimated three additional\n",
      "days needed beyond the initial timeline. Sarah emphasized the importance of prioritizing user experience and quality over speed, coordinating with the marketing team to adjust announcement timing\n",
      "accordingly. The discussion highlighted the need for a phased approach to ensure smooth scaling while addressing technical and accessibility issues.\n",
      "\n",
      "\n"
     ]
    }
   ],
   "source": [
    "print(\"\"\"<think>\n",
    "Alright, I need to summarize the meeting based on the provided notes. Let me go through each section step by step.\n",
    "\n",
    "First, Raj mentioned an infrastructure issue due to a previous partial outage. He's taking steps to scale up servers but estimates two days for implementation and testing. That seems significant because it's unexpected and could cause delays.\n",
    "\n",
    "Sarah then brought up performance issues with older devices, specifically the main dashboard loading too slow on devices over three years old. This affects about 30% of users, which is notable. She suggested progressive loading or simplifying charts, but that would take a day plus testing.\n",
    "\n",
    "Alex raised accessibility concerns: color contrast, screen reader navigation, and keyboard issues. He needs design changes with Daniel's help, potentially taking a day to fix.\n",
    "\n",
    "James mentioned a phased rollout from 10% users to Friday next week due to the load issues, pushing back the release date by three days from Tuesday to Friday.\n",
    "\n",
    "Sarah also discussed coordinating with the marketing team about the announcement timing, which she'll handle after updating them.\n",
    "\n",
    "So, putting it all together: The meeting identified multiple critical issues—infrastructure scaling, performance on older devices, accessibility, and a phased rollout. Raj suggested pushing back the release to Friday due to these factors, aligning with user feedback and strategic planning.\n",
    "</think>\n",
    "\n",
    "The meeting identified several critical challenges impacting the upcoming release of version 2.0.\n",
    "Key issues include infrastructure scalability to handle increased user load, performance degradation on older devices (3+ years old), accessibility compliance concerns for key functionalities, \n",
    "and the need for a phased rollout strategy from 10% user adoption to full release by Friday next week. Raj proposed delaying the release due to these factors, with an estimated three additional\n",
    "days needed beyond the initial timeline. Sarah emphasized the importance of prioritizing user experience and quality over speed, coordinating with the marketing team to adjust announcement timing\n",
    "accordingly. The discussion highlighted the need for a phased approach to ensure smooth scaling while addressing technical and accessibility issues.\n",
    "\n",
    "\"\"\")"
   ]
  }
 ],
 "metadata": {
  "kernelspec": {
   "display_name": ".venv",
   "language": "python",
   "name": "python3"
  },
  "language_info": {
   "codemirror_mode": {
    "name": "ipython",
    "version": 3
   },
   "file_extension": ".py",
   "mimetype": "text/x-python",
   "name": "python",
   "nbconvert_exporter": "python",
   "pygments_lexer": "ipython3",
   "version": "3.10.11"
  }
 },
 "nbformat": 4,
 "nbformat_minor": 5
}
