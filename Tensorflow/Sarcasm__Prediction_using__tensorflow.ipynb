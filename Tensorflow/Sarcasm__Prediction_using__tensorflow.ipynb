{
  "nbformat": 4,
  "nbformat_minor": 0,
  "metadata": {
    "colab": {
      "provenance": [],
      "authorship_tag": "ABX9TyPAsBzFwpQgGmaRvqdtCZt3",
      "include_colab_link": true
    },
    "kernelspec": {
      "name": "python3",
      "display_name": "Python 3"
    },
    "language_info": {
      "name": "python"
    }
  },
  "cells": [
    {
      "cell_type": "markdown",
      "metadata": {
        "id": "view-in-github",
        "colab_type": "text"
      },
      "source": [
        "<a href=\"https://colab.research.google.com/github/shachimaurya23/Learning/blob/main/Tensorflow/Sarcasm__Prediction_using__tensorflow.ipynb\" target=\"_parent\"><img src=\"https://colab.research.google.com/assets/colab-badge.svg\" alt=\"Open In Colab\"/></a>"
      ]
    },
    {
      "cell_type": "code",
      "execution_count": 1,
      "metadata": {
        "id": "KH8YGoHK0-E4"
      },
      "outputs": [],
      "source": [
        "from tensorflow.keras.preprocessing.text import Tokenizer"
      ]
    },
    {
      "cell_type": "code",
      "source": [
        "sentences=[\"i love my dog\",\"I, love my cat\",\"you love my dog!\",\"dogs loves cat\"]"
      ],
      "metadata": {
        "id": "ss80eJxL1uE0"
      },
      "execution_count": 6,
      "outputs": []
    },
    {
      "cell_type": "code",
      "source": [
        "tokenizer=Tokenizer(num_words=100,oov_token=\"<OOV\") #num_words tells the max number of words allowed in the vocab  priority= freq.of words, sequesnce   eg 2 words occuring in sentences again and again then we see which comes first.\n",
        "tokenizer.fit_on_texts(sentences)"
      ],
      "metadata": {
        "id": "F4nRJ9xG17dN"
      },
      "execution_count": 9,
      "outputs": []
    },
    {
      "cell_type": "code",
      "source": [
        "word_index=tokenizer.word_index\n",
        "print(word_index)"
      ],
      "metadata": {
        "colab": {
          "base_uri": "https://localhost:8080/"
        },
        "id": "TAA24vRo2UUz",
        "outputId": "59033092-3dc6-4ade-ff38-37e3ef71b182"
      },
      "execution_count": 10,
      "outputs": [
        {
          "output_type": "stream",
          "name": "stdout",
          "text": [
            "{'<OOV': 1, 'love': 2, 'my': 3, 'i': 4, 'dog': 5, 'cat': 6, 'you': 7, 'dogs': 8, 'loves': 9}\n"
          ]
        }
      ]
    },
    {
      "cell_type": "code",
      "source": [
        "print(tokenizer.texts_to_sequences([\"My hamster loves dogs and cat\"]))"
      ],
      "metadata": {
        "colab": {
          "base_uri": "https://localhost:8080/"
        },
        "id": "GYLFiWGS453h",
        "outputId": "933a44b8-fa88-4f86-b9d3-bbea87ff0359"
      },
      "execution_count": 11,
      "outputs": [
        {
          "output_type": "stream",
          "name": "stdout",
          "text": [
            "[[3, 1, 9, 8, 1, 6]]\n"
          ]
        }
      ]
    },
    {
      "cell_type": "code",
      "source": [
        "import tensorflow as tf\n"
      ],
      "metadata": {
        "id": "LgaP4rJO6JGi"
      },
      "execution_count": null,
      "outputs": []
    }
  ]
}