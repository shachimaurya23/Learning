{
  "nbformat": 4,
  "nbformat_minor": 0,
  "metadata": {
    "colab": {
      "provenance": [],
      "authorship_tag": "ABX9TyPa+jtKUSP5/+7dh/+jXqHR",
      "include_colab_link": true
    },
    "kernelspec": {
      "name": "python3",
      "display_name": "Python 3"
    },
    "language_info": {
      "name": "python"
    }
  },
  "cells": [
    {
      "cell_type": "markdown",
      "metadata": {
        "id": "view-in-github",
        "colab_type": "text"
      },
      "source": [
        "<a href=\"https://colab.research.google.com/github/shachimaurya23/Learning/blob/main/Tensorflow/Sarcasm__Prediction_using__tensorflow.ipynb\" target=\"_parent\"><img src=\"https://colab.research.google.com/assets/colab-badge.svg\" alt=\"Open In Colab\"/></a>"
      ]
    },
    {
      "cell_type": "markdown",
      "source": [
        "# Basic operations to preprocess data"
      ],
      "metadata": {
        "id": "6aq2zPUN0q53"
      }
    },
    {
      "cell_type": "code",
      "execution_count": 1,
      "metadata": {
        "id": "KH8YGoHK0-E4"
      },
      "outputs": [],
      "source": [
        "from tensorflow.keras.preprocessing.text import Tokenizer"
      ]
    },
    {
      "cell_type": "code",
      "source": [
        "sentences=[\"i love my dog\",\"I, love my cat\",\"you love my dog!\",\"dogs loves cat\"]"
      ],
      "metadata": {
        "id": "ss80eJxL1uE0"
      },
      "execution_count": 2,
      "outputs": []
    },
    {
      "cell_type": "code",
      "source": [
        "tokenizer=Tokenizer(num_words=100,oov_token=\"<OOV\") #num_words tells the max number of words allowed in the vocab  priority= freq.of words, sequesnce   eg 2 words occuring in sentences again and again then we see which comes first.\n",
        "tokenizer.fit_on_texts(sentences)"
      ],
      "metadata": {
        "id": "F4nRJ9xG17dN"
      },
      "execution_count": 3,
      "outputs": []
    },
    {
      "cell_type": "code",
      "source": [
        "word_index=tokenizer.word_index\n",
        "print(word_index)"
      ],
      "metadata": {
        "colab": {
          "base_uri": "https://localhost:8080/"
        },
        "id": "TAA24vRo2UUz",
        "outputId": "559174cc-7ab6-458d-f565-7baec96976f3"
      },
      "execution_count": 4,
      "outputs": [
        {
          "output_type": "stream",
          "name": "stdout",
          "text": [
            "{'<OOV': 1, 'love': 2, 'my': 3, 'i': 4, 'dog': 5, 'cat': 6, 'you': 7, 'dogs': 8, 'loves': 9}\n"
          ]
        }
      ]
    },
    {
      "cell_type": "code",
      "source": [
        "print(tokenizer.texts_to_sequences([\"My hamster loves dogs and cat\"]))"
      ],
      "metadata": {
        "colab": {
          "base_uri": "https://localhost:8080/"
        },
        "id": "GYLFiWGS453h",
        "outputId": "dea19f6e-5783-4155-dd24-cfd7d15cba20"
      },
      "execution_count": 5,
      "outputs": [
        {
          "output_type": "stream",
          "name": "stdout",
          "text": [
            "[[3, 1, 9, 8, 1, 6]]\n"
          ]
        }
      ]
    },
    {
      "cell_type": "code",
      "source": [
        "sequences = tokenizer.texts_to_sequences(sentences)\n",
        "print (sequences)"
      ],
      "metadata": {
        "id": "f79EHoy3wXMu",
        "outputId": "48e9b201-b488-4c2f-aefa-fea978ad6210",
        "colab": {
          "base_uri": "https://localhost:8080/"
        }
      },
      "execution_count": 6,
      "outputs": [
        {
          "output_type": "stream",
          "name": "stdout",
          "text": [
            "[[4, 2, 3, 5], [4, 2, 3, 6], [7, 2, 3, 5], [8, 9, 6]]\n"
          ]
        }
      ]
    },
    {
      "cell_type": "code",
      "source": [
        "from tensorflow.keras.preprocessing.sequence import pad_sequences\n",
        "padded =pad_sequences(sequences)\n",
        "\n",
        "print(padded)\n"
      ],
      "metadata": {
        "id": "LgaP4rJO6JGi",
        "outputId": "dbd83cc5-029b-4e64-ede4-554d1b563943",
        "colab": {
          "base_uri": "https://localhost:8080/"
        }
      },
      "execution_count": 10,
      "outputs": [
        {
          "output_type": "stream",
          "name": "stdout",
          "text": [
            "[[4 2 3 5]\n",
            " [4 2 3 6]\n",
            " [7 2 3 5]\n",
            " [0 8 9 6]]\n"
          ]
        }
      ]
    },
    {
      "cell_type": "markdown",
      "source": [
        "# Sarcasm Prediction"
      ],
      "metadata": {
        "id": "9L4AWrHQ00tD"
      }
    },
    {
      "cell_type": "code",
      "source": [
        "import json\n",
        "import tensorflow as tf\n",
        "import numpy as np\n",
        "from tensorflow.keras.preprocessing.text import Tokenizer\n",
        "from tensorflow.keras.preprocessing.sequence import pad_sequences\n",
        "from sklearn.model_selection import train_test_split"
      ],
      "metadata": {
        "id": "TpAct6-o1NnJ"
      },
      "execution_count": 12,
      "outputs": []
    },
    {
      "cell_type": "code",
      "source": [
        "!wget --no-check-certificate \\\n",
        "    https://storage.googleapis.com/learning-datasets/sarcasm.json \\\n",
        "    -O /tmp/sarcasm.json"
      ],
      "metadata": {
        "id": "cbK0bslC1qxB",
        "outputId": "8f818168-0778-4d7b-aec6-e95d6c339ba9",
        "colab": {
          "base_uri": "https://localhost:8080/"
        }
      },
      "execution_count": 3,
      "outputs": [
        {
          "output_type": "stream",
          "name": "stdout",
          "text": [
            "--2025-01-25 14:23:26--  https://storage.googleapis.com/learning-datasets/sarcasm.json\n",
            "Resolving storage.googleapis.com (storage.googleapis.com)... 142.250.125.207, 209.85.200.207, 142.251.183.207, ...\n",
            "Connecting to storage.googleapis.com (storage.googleapis.com)|142.250.125.207|:443... connected.\n",
            "HTTP request sent, awaiting response... 200 OK\n",
            "Length: 5643545 (5.4M) [application/json]\n",
            "Saving to: ‘/tmp/sarcasm.json’\n",
            "\n",
            "/tmp/sarcasm.json   100%[===================>]   5.38M  --.-KB/s    in 0.04s   \n",
            "\n",
            "2025-01-25 14:23:26 (131 MB/s) - ‘/tmp/sarcasm.json’ saved [5643545/5643545]\n",
            "\n"
          ]
        }
      ]
    },
    {
      "cell_type": "code",
      "source": [
        "with open ('/tmp/sarcasm.json',\"r\") as f:\n",
        "  datastore=json.load(f)"
      ],
      "metadata": {
        "id": "mFtwaHvZ2VRi"
      },
      "execution_count": 2,
      "outputs": []
    },
    {
      "cell_type": "code",
      "source": [
        "datastore[:10]"
      ],
      "metadata": {
        "id": "eo6wmYaB2oHL",
        "outputId": "00f5506f-3781-4947-deac-ae3ac17b0286",
        "colab": {
          "base_uri": "https://localhost:8080/"
        }
      },
      "execution_count": 3,
      "outputs": [
        {
          "output_type": "execute_result",
          "data": {
            "text/plain": [
              "[{'article_link': 'https://www.huffingtonpost.com/entry/versace-black-code_us_5861fbefe4b0de3a08f600d5',\n",
              "  'headline': \"former versace store clerk sues over secret 'black code' for minority shoppers\",\n",
              "  'is_sarcastic': 0},\n",
              " {'article_link': 'https://www.huffingtonpost.com/entry/roseanne-revival-review_us_5ab3a497e4b054d118e04365',\n",
              "  'headline': \"the 'roseanne' revival catches up to our thorny political mood, for better and worse\",\n",
              "  'is_sarcastic': 0},\n",
              " {'article_link': 'https://local.theonion.com/mom-starting-to-fear-son-s-web-series-closest-thing-she-1819576697',\n",
              "  'headline': \"mom starting to fear son's web series closest thing she will have to grandchild\",\n",
              "  'is_sarcastic': 1},\n",
              " {'article_link': 'https://politics.theonion.com/boehner-just-wants-wife-to-listen-not-come-up-with-alt-1819574302',\n",
              "  'headline': 'boehner just wants wife to listen, not come up with alternative debt-reduction ideas',\n",
              "  'is_sarcastic': 1},\n",
              " {'article_link': 'https://www.huffingtonpost.com/entry/jk-rowling-wishes-snape-happy-birthday_us_569117c4e4b0cad15e64fdcb',\n",
              "  'headline': 'j.k. rowling wishes snape happy birthday in the most magical way',\n",
              "  'is_sarcastic': 0},\n",
              " {'article_link': 'https://www.huffingtonpost.com/entry/advancing-the-worlds-women_b_6810038.html',\n",
              "  'headline': \"advancing the world's women\",\n",
              "  'is_sarcastic': 0},\n",
              " {'article_link': 'https://www.huffingtonpost.com/entry/how-meat-is-grown-in-a-lab_us_561d1189e4b0c5a1ce607e86',\n",
              "  'headline': 'the fascinating case for eating lab-grown meat',\n",
              "  'is_sarcastic': 0},\n",
              " {'article_link': 'https://www.huffingtonpost.com/entry/boxed-college-tuition-ben_n_7445644.html',\n",
              "  'headline': 'this ceo will send your kids to school, if you work for his company',\n",
              "  'is_sarcastic': 0},\n",
              " {'article_link': 'https://politics.theonion.com/top-snake-handler-leaves-sinking-huckabee-campaign-1819578231',\n",
              "  'headline': 'top snake handler leaves sinking huckabee campaign',\n",
              "  'is_sarcastic': 1},\n",
              " {'article_link': 'https://www.huffingtonpost.com/entry/fridays-morning-email-inside-trumps-presser-for-the-ages_us_58a6e33ee4b07602ad53a315',\n",
              "  'headline': \"friday's morning email: inside trump's presser for the ages\",\n",
              "  'is_sarcastic': 0}]"
            ]
          },
          "metadata": {},
          "execution_count": 3
        }
      ]
    },
    {
      "cell_type": "code",
      "source": [
        "len(datastore)"
      ],
      "metadata": {
        "id": "xByf-gu63Doj",
        "outputId": "fe3c950f-a22e-44d5-8112-717824eae52a",
        "colab": {
          "base_uri": "https://localhost:8080/"
        }
      },
      "execution_count": 13,
      "outputs": [
        {
          "output_type": "execute_result",
          "data": {
            "text/plain": [
              "26709"
            ]
          },
          "metadata": {},
          "execution_count": 13
        }
      ]
    },
    {
      "cell_type": "code",
      "source": [
        "sentences=[]\n",
        "label=[]\n",
        "\n",
        "for item in datastore:\n",
        "  sentences.append(item[\"headline\"])\n",
        "  label.append(item[\"is_sarcastic\"])"
      ],
      "metadata": {
        "id": "fSUuLUXl3Jql"
      },
      "execution_count": 4,
      "outputs": []
    },
    {
      "cell_type": "code",
      "source": [
        "sentences[:10]"
      ],
      "metadata": {
        "id": "rb3a3BI-3pwG",
        "outputId": "dc556e2f-916c-4a49-f689-79136c6cf08e",
        "colab": {
          "base_uri": "https://localhost:8080/"
        }
      },
      "execution_count": 16,
      "outputs": [
        {
          "output_type": "execute_result",
          "data": {
            "text/plain": [
              "[\"former versace store clerk sues over secret 'black code' for minority shoppers\",\n",
              " \"the 'roseanne' revival catches up to our thorny political mood, for better and worse\",\n",
              " \"mom starting to fear son's web series closest thing she will have to grandchild\",\n",
              " 'boehner just wants wife to listen, not come up with alternative debt-reduction ideas',\n",
              " 'j.k. rowling wishes snape happy birthday in the most magical way',\n",
              " \"advancing the world's women\",\n",
              " 'the fascinating case for eating lab-grown meat',\n",
              " 'this ceo will send your kids to school, if you work for his company',\n",
              " 'top snake handler leaves sinking huckabee campaign',\n",
              " \"friday's morning email: inside trump's presser for the ages\"]"
            ]
          },
          "metadata": {},
          "execution_count": 16
        }
      ]
    },
    {
      "cell_type": "code",
      "source": [
        "label[:10]"
      ],
      "metadata": {
        "id": "Yh4TJmR13trZ",
        "outputId": "787d0c96-db97-402e-f237-726375133511",
        "colab": {
          "base_uri": "https://localhost:8080/"
        }
      },
      "execution_count": 17,
      "outputs": [
        {
          "output_type": "execute_result",
          "data": {
            "text/plain": [
              "[0, 0, 1, 1, 0, 0, 0, 0, 1, 0]"
            ]
          },
          "metadata": {},
          "execution_count": 17
        }
      ]
    },
    {
      "cell_type": "code",
      "source": [
        "vocab_size=10000\n",
        "max_length=100\n",
        "oov_trunc=\"<OOV>\"\n",
        "trunc_type=\"post\"\n",
        "padding_type=\"post\"\n",
        "embedding_dim=16"
      ],
      "metadata": {
        "id": "RXS3FFDH3w1k"
      },
      "execution_count": 5,
      "outputs": []
    },
    {
      "cell_type": "code",
      "source": [
        "X_train,X_test,y_train,y_test=train_test_split(sentences,label,test_size=0.2,random_state=42)"
      ],
      "metadata": {
        "id": "IAX2srxi4qAf"
      },
      "execution_count": 6,
      "outputs": []
    },
    {
      "cell_type": "code",
      "source": [
        "tokenizer=Tokenizer(num_words=vocab_size,oov_token=oov_trunc)\n",
        "#tokenize the train data\n",
        "tokenizer.fit_on_texts(X_train)\n",
        "word_index=tokenizer.word_index\n",
        "X_train=tokenizer.texts_to_sequences(X_train)\n",
        "X_train=pad_sequences(X_train,maxlen=max_length,padding=padding_type,truncating=trunc_type)\n",
        "\n",
        "#toeknize the test data\n",
        "tokenizer.fit_on_texts(X_test)\n",
        "word_index=tokenizer.word_index\n",
        "X_test=tokenizer.texts_to_sequences(X_test)\n",
        "X_test=pad_sequences(X_test,maxlen=max_length,padding=padding_type,truncating=trunc_type)\n"
      ],
      "metadata": {
        "id": "0973Kfp35Qvn"
      },
      "execution_count": 9,
      "outputs": []
    },
    {
      "cell_type": "code",
      "source": [
        "X_train=np.array(X_train)\n",
        "X_test=np.array(X_test)\n",
        "y_train=np.array(y_train)\n",
        "y_test=np.array(y_test)"
      ],
      "metadata": {
        "id": "ilZlNVm_51np"
      },
      "execution_count": 13,
      "outputs": []
    },
    {
      "cell_type": "code",
      "source": [
        "model=tf.keras.Sequential([\n",
        "    tf.keras.layers.Embedding(vocab_size,embedding_dim),\n",
        "    tf.keras.layers.GlobalAveragePooling1D(),\n",
        "    tf.keras.layers.Dense(24,activation=\"relu\"),\n",
        "    tf.keras.layers.Dense(1,activation=\"sigmoid\")])"
      ],
      "metadata": {
        "id": "WGrBV3Kh-aWC"
      },
      "execution_count": 14,
      "outputs": []
    },
    {
      "cell_type": "code",
      "source": [
        "model.compile(loss=tf.keras.losses.BinaryCrossentropy(),optimizer=tf.keras.optimizers.Adam(learning_rate=1e-3),metrics=[tf.keras.metrics.BinaryAccuracy()])"
      ],
      "metadata": {
        "id": "n_qMCNsk_Y48"
      },
      "execution_count": 16,
      "outputs": []
    },
    {
      "cell_type": "code",
      "source": [
        "num_epochs=40\n",
        "history=model.fit(X_train,y_train,epochs=num_epochs,validation_split=0.1,verbose=2)"
      ],
      "metadata": {
        "id": "LVI4AT_7AZDH",
        "outputId": "b7430e31-c896-4c81-a7bb-02591348c0b4",
        "colab": {
          "base_uri": "https://localhost:8080/"
        }
      },
      "execution_count": 44,
      "outputs": [
        {
          "output_type": "stream",
          "name": "stdout",
          "text": [
            "Epoch 1/40\n",
            "601/601 - 2s - 3ms/step - binary_accuracy: 0.9924 - loss: 0.0255 - val_binary_accuracy: 0.7946 - val_loss: 1.2452\n",
            "Epoch 2/40\n",
            "601/601 - 3s - 5ms/step - binary_accuracy: 0.9894 - loss: 0.0316 - val_binary_accuracy: 0.8067 - val_loss: 1.1934\n",
            "Epoch 3/40\n",
            "601/601 - 3s - 5ms/step - binary_accuracy: 0.9858 - loss: 0.0387 - val_binary_accuracy: 0.8049 - val_loss: 1.1581\n",
            "Epoch 4/40\n",
            "601/601 - 3s - 4ms/step - binary_accuracy: 0.9878 - loss: 0.0372 - val_binary_accuracy: 0.8035 - val_loss: 1.2796\n",
            "Epoch 5/40\n",
            "601/601 - 5s - 8ms/step - binary_accuracy: 0.9890 - loss: 0.0305 - val_binary_accuracy: 0.8058 - val_loss: 1.1893\n",
            "Epoch 6/40\n",
            "601/601 - 6s - 9ms/step - binary_accuracy: 0.9927 - loss: 0.0237 - val_binary_accuracy: 0.8072 - val_loss: 1.3053\n",
            "Epoch 7/40\n",
            "601/601 - 4s - 7ms/step - binary_accuracy: 0.9824 - loss: 0.0476 - val_binary_accuracy: 0.8002 - val_loss: 0.9393\n",
            "Epoch 8/40\n",
            "601/601 - 3s - 5ms/step - binary_accuracy: 0.9883 - loss: 0.0326 - val_binary_accuracy: 0.8053 - val_loss: 1.2469\n",
            "Epoch 9/40\n",
            "601/601 - 5s - 8ms/step - binary_accuracy: 0.9918 - loss: 0.0252 - val_binary_accuracy: 0.8011 - val_loss: 1.3436\n",
            "Epoch 10/40\n",
            "601/601 - 5s - 9ms/step - binary_accuracy: 0.9854 - loss: 0.0479 - val_binary_accuracy: 0.8063 - val_loss: 1.1792\n",
            "Epoch 11/40\n",
            "601/601 - 5s - 8ms/step - binary_accuracy: 0.9888 - loss: 0.0325 - val_binary_accuracy: 0.7955 - val_loss: 1.3289\n",
            "Epoch 12/40\n",
            "601/601 - 4s - 6ms/step - binary_accuracy: 0.9841 - loss: 0.0448 - val_binary_accuracy: 0.8025 - val_loss: 1.2675\n",
            "Epoch 13/40\n",
            "601/601 - 4s - 6ms/step - binary_accuracy: 0.9861 - loss: 0.0387 - val_binary_accuracy: 0.8077 - val_loss: 1.2682\n",
            "Epoch 14/40\n",
            "601/601 - 3s - 5ms/step - binary_accuracy: 0.9903 - loss: 0.0277 - val_binary_accuracy: 0.8021 - val_loss: 1.1667\n",
            "Epoch 15/40\n",
            "601/601 - 4s - 6ms/step - binary_accuracy: 0.9876 - loss: 0.0380 - val_binary_accuracy: 0.8039 - val_loss: 1.2565\n",
            "Epoch 16/40\n",
            "601/601 - 4s - 7ms/step - binary_accuracy: 0.9882 - loss: 0.0352 - val_binary_accuracy: 0.8007 - val_loss: 1.3305\n",
            "Epoch 17/40\n",
            "601/601 - 3s - 5ms/step - binary_accuracy: 0.9925 - loss: 0.0242 - val_binary_accuracy: 0.8053 - val_loss: 1.2025\n",
            "Epoch 18/40\n",
            "601/601 - 6s - 10ms/step - binary_accuracy: 0.9906 - loss: 0.0257 - val_binary_accuracy: 0.8063 - val_loss: 1.2908\n",
            "Epoch 19/40\n",
            "601/601 - 4s - 6ms/step - binary_accuracy: 0.9861 - loss: 0.0367 - val_binary_accuracy: 0.8021 - val_loss: 1.3469\n",
            "Epoch 20/40\n",
            "601/601 - 4s - 6ms/step - binary_accuracy: 0.9929 - loss: 0.0215 - val_binary_accuracy: 0.8044 - val_loss: 1.2908\n",
            "Epoch 21/40\n",
            "601/601 - 3s - 5ms/step - binary_accuracy: 0.9875 - loss: 0.0334 - val_binary_accuracy: 0.8002 - val_loss: 1.3429\n",
            "Epoch 22/40\n",
            "601/601 - 3s - 5ms/step - binary_accuracy: 0.9862 - loss: 0.0374 - val_binary_accuracy: 0.7997 - val_loss: 1.3075\n",
            "Epoch 23/40\n",
            "601/601 - 7s - 11ms/step - binary_accuracy: 0.9892 - loss: 0.0334 - val_binary_accuracy: 0.8053 - val_loss: 1.4351\n",
            "Epoch 24/40\n",
            "601/601 - 3s - 5ms/step - binary_accuracy: 0.9926 - loss: 0.0226 - val_binary_accuracy: 0.7960 - val_loss: 1.5203\n",
            "Epoch 25/40\n",
            "601/601 - 5s - 8ms/step - binary_accuracy: 0.9895 - loss: 0.0303 - val_binary_accuracy: 0.8035 - val_loss: 1.4107\n",
            "Epoch 26/40\n",
            "601/601 - 3s - 5ms/step - binary_accuracy: 0.9899 - loss: 0.0284 - val_binary_accuracy: 0.8035 - val_loss: 0.9475\n",
            "Epoch 27/40\n",
            "601/601 - 4s - 7ms/step - binary_accuracy: 0.9916 - loss: 0.0246 - val_binary_accuracy: 0.8035 - val_loss: 1.3885\n",
            "Epoch 28/40\n",
            "601/601 - 3s - 5ms/step - binary_accuracy: 0.9852 - loss: 0.0395 - val_binary_accuracy: 0.8053 - val_loss: 1.4053\n",
            "Epoch 29/40\n",
            "601/601 - 3s - 4ms/step - binary_accuracy: 0.9910 - loss: 0.0279 - val_binary_accuracy: 0.7978 - val_loss: 1.5540\n",
            "Epoch 30/40\n",
            "601/601 - 7s - 11ms/step - binary_accuracy: 0.9887 - loss: 0.0296 - val_binary_accuracy: 0.8030 - val_loss: 1.2274\n",
            "Epoch 31/40\n",
            "601/601 - 3s - 4ms/step - binary_accuracy: 0.9911 - loss: 0.0256 - val_binary_accuracy: 0.7964 - val_loss: 1.6852\n",
            "Epoch 32/40\n",
            "601/601 - 2s - 4ms/step - binary_accuracy: 0.9900 - loss: 0.0267 - val_binary_accuracy: 0.8035 - val_loss: 1.5283\n",
            "Epoch 33/40\n",
            "601/601 - 3s - 5ms/step - binary_accuracy: 0.9918 - loss: 0.0237 - val_binary_accuracy: 0.8039 - val_loss: 1.4740\n",
            "Epoch 34/40\n",
            "601/601 - 4s - 6ms/step - binary_accuracy: 0.9886 - loss: 0.0305 - val_binary_accuracy: 0.8044 - val_loss: 1.4805\n",
            "Epoch 35/40\n",
            "601/601 - 4s - 6ms/step - binary_accuracy: 0.9875 - loss: 0.0327 - val_binary_accuracy: 0.8058 - val_loss: 1.4669\n",
            "Epoch 36/40\n",
            "601/601 - 4s - 7ms/step - binary_accuracy: 0.9906 - loss: 0.0266 - val_binary_accuracy: 0.7815 - val_loss: 1.4458\n",
            "Epoch 37/40\n",
            "601/601 - 2s - 4ms/step - binary_accuracy: 0.9869 - loss: 0.0355 - val_binary_accuracy: 0.8021 - val_loss: 1.5338\n",
            "Epoch 38/40\n",
            "601/601 - 4s - 6ms/step - binary_accuracy: 0.9889 - loss: 0.0289 - val_binary_accuracy: 0.8039 - val_loss: 0.9034\n",
            "Epoch 39/40\n",
            "601/601 - 4s - 7ms/step - binary_accuracy: 0.9882 - loss: 0.0351 - val_binary_accuracy: 0.8058 - val_loss: 1.6270\n",
            "Epoch 40/40\n",
            "601/601 - 3s - 5ms/step - binary_accuracy: 0.9913 - loss: 0.0262 - val_binary_accuracy: 0.8063 - val_loss: 1.4378\n"
          ]
        }
      ]
    },
    {
      "cell_type": "code",
      "source": [
        "model.summary()"
      ],
      "metadata": {
        "id": "Ly8eO2H4AJ-n",
        "outputId": "ebc43337-128e-47bc-86ca-4a091fb237ff",
        "colab": {
          "base_uri": "https://localhost:8080/",
          "height": 306
        }
      },
      "execution_count": 20,
      "outputs": [
        {
          "output_type": "display_data",
          "data": {
            "text/plain": [
              "\u001b[1mModel: \"sequential\"\u001b[0m\n"
            ],
            "text/html": [
              "<pre style=\"white-space:pre;overflow-x:auto;line-height:normal;font-family:Menlo,'DejaVu Sans Mono',consolas,'Courier New',monospace\"><span style=\"font-weight: bold\">Model: \"sequential\"</span>\n",
              "</pre>\n"
            ]
          },
          "metadata": {}
        },
        {
          "output_type": "display_data",
          "data": {
            "text/plain": [
              "┏━━━━━━━━━━━━━━━━━━━━━━━━━━━━━━━━━━━━━━┳━━━━━━━━━━━━━━━━━━━━━━━━━━━━━┳━━━━━━━━━━━━━━━━━┓\n",
              "┃\u001b[1m \u001b[0m\u001b[1mLayer (type)                        \u001b[0m\u001b[1m \u001b[0m┃\u001b[1m \u001b[0m\u001b[1mOutput Shape               \u001b[0m\u001b[1m \u001b[0m┃\u001b[1m \u001b[0m\u001b[1m        Param #\u001b[0m\u001b[1m \u001b[0m┃\n",
              "┡━━━━━━━━━━━━━━━━━━━━━━━━━━━━━━━━━━━━━━╇━━━━━━━━━━━━━━━━━━━━━━━━━━━━━╇━━━━━━━━━━━━━━━━━┩\n",
              "│ embedding (\u001b[38;5;33mEmbedding\u001b[0m)                │ (\u001b[38;5;45mNone\u001b[0m, \u001b[38;5;34m100\u001b[0m, \u001b[38;5;34m16\u001b[0m)             │         \u001b[38;5;34m160,000\u001b[0m │\n",
              "├──────────────────────────────────────┼─────────────────────────────┼─────────────────┤\n",
              "│ global_average_pooling1d             │ (\u001b[38;5;45mNone\u001b[0m, \u001b[38;5;34m16\u001b[0m)                  │               \u001b[38;5;34m0\u001b[0m │\n",
              "│ (\u001b[38;5;33mGlobalAveragePooling1D\u001b[0m)             │                             │                 │\n",
              "├──────────────────────────────────────┼─────────────────────────────┼─────────────────┤\n",
              "│ dense (\u001b[38;5;33mDense\u001b[0m)                        │ (\u001b[38;5;45mNone\u001b[0m, \u001b[38;5;34m24\u001b[0m)                  │             \u001b[38;5;34m408\u001b[0m │\n",
              "├──────────────────────────────────────┼─────────────────────────────┼─────────────────┤\n",
              "│ dense_1 (\u001b[38;5;33mDense\u001b[0m)                      │ (\u001b[38;5;45mNone\u001b[0m, \u001b[38;5;34m1\u001b[0m)                   │              \u001b[38;5;34m25\u001b[0m │\n",
              "└──────────────────────────────────────┴─────────────────────────────┴─────────────────┘\n"
            ],
            "text/html": [
              "<pre style=\"white-space:pre;overflow-x:auto;line-height:normal;font-family:Menlo,'DejaVu Sans Mono',consolas,'Courier New',monospace\">┏━━━━━━━━━━━━━━━━━━━━━━━━━━━━━━━━━━━━━━┳━━━━━━━━━━━━━━━━━━━━━━━━━━━━━┳━━━━━━━━━━━━━━━━━┓\n",
              "┃<span style=\"font-weight: bold\"> Layer (type)                         </span>┃<span style=\"font-weight: bold\"> Output Shape                </span>┃<span style=\"font-weight: bold\">         Param # </span>┃\n",
              "┡━━━━━━━━━━━━━━━━━━━━━━━━━━━━━━━━━━━━━━╇━━━━━━━━━━━━━━━━━━━━━━━━━━━━━╇━━━━━━━━━━━━━━━━━┩\n",
              "│ embedding (<span style=\"color: #0087ff; text-decoration-color: #0087ff\">Embedding</span>)                │ (<span style=\"color: #00d7ff; text-decoration-color: #00d7ff\">None</span>, <span style=\"color: #00af00; text-decoration-color: #00af00\">100</span>, <span style=\"color: #00af00; text-decoration-color: #00af00\">16</span>)             │         <span style=\"color: #00af00; text-decoration-color: #00af00\">160,000</span> │\n",
              "├──────────────────────────────────────┼─────────────────────────────┼─────────────────┤\n",
              "│ global_average_pooling1d             │ (<span style=\"color: #00d7ff; text-decoration-color: #00d7ff\">None</span>, <span style=\"color: #00af00; text-decoration-color: #00af00\">16</span>)                  │               <span style=\"color: #00af00; text-decoration-color: #00af00\">0</span> │\n",
              "│ (<span style=\"color: #0087ff; text-decoration-color: #0087ff\">GlobalAveragePooling1D</span>)             │                             │                 │\n",
              "├──────────────────────────────────────┼─────────────────────────────┼─────────────────┤\n",
              "│ dense (<span style=\"color: #0087ff; text-decoration-color: #0087ff\">Dense</span>)                        │ (<span style=\"color: #00d7ff; text-decoration-color: #00d7ff\">None</span>, <span style=\"color: #00af00; text-decoration-color: #00af00\">24</span>)                  │             <span style=\"color: #00af00; text-decoration-color: #00af00\">408</span> │\n",
              "├──────────────────────────────────────┼─────────────────────────────┼─────────────────┤\n",
              "│ dense_1 (<span style=\"color: #0087ff; text-decoration-color: #0087ff\">Dense</span>)                      │ (<span style=\"color: #00d7ff; text-decoration-color: #00d7ff\">None</span>, <span style=\"color: #00af00; text-decoration-color: #00af00\">1</span>)                   │              <span style=\"color: #00af00; text-decoration-color: #00af00\">25</span> │\n",
              "└──────────────────────────────────────┴─────────────────────────────┴─────────────────┘\n",
              "</pre>\n"
            ]
          },
          "metadata": {}
        },
        {
          "output_type": "display_data",
          "data": {
            "text/plain": [
              "\u001b[1m Total params: \u001b[0m\u001b[38;5;34m481,301\u001b[0m (1.84 MB)\n"
            ],
            "text/html": [
              "<pre style=\"white-space:pre;overflow-x:auto;line-height:normal;font-family:Menlo,'DejaVu Sans Mono',consolas,'Courier New',monospace\"><span style=\"font-weight: bold\"> Total params: </span><span style=\"color: #00af00; text-decoration-color: #00af00\">481,301</span> (1.84 MB)\n",
              "</pre>\n"
            ]
          },
          "metadata": {}
        },
        {
          "output_type": "display_data",
          "data": {
            "text/plain": [
              "\u001b[1m Trainable params: \u001b[0m\u001b[38;5;34m160,433\u001b[0m (626.69 KB)\n"
            ],
            "text/html": [
              "<pre style=\"white-space:pre;overflow-x:auto;line-height:normal;font-family:Menlo,'DejaVu Sans Mono',consolas,'Courier New',monospace\"><span style=\"font-weight: bold\"> Trainable params: </span><span style=\"color: #00af00; text-decoration-color: #00af00\">160,433</span> (626.69 KB)\n",
              "</pre>\n"
            ]
          },
          "metadata": {}
        },
        {
          "output_type": "display_data",
          "data": {
            "text/plain": [
              "\u001b[1m Non-trainable params: \u001b[0m\u001b[38;5;34m0\u001b[0m (0.00 B)\n"
            ],
            "text/html": [
              "<pre style=\"white-space:pre;overflow-x:auto;line-height:normal;font-family:Menlo,'DejaVu Sans Mono',consolas,'Courier New',monospace\"><span style=\"font-weight: bold\"> Non-trainable params: </span><span style=\"color: #00af00; text-decoration-color: #00af00\">0</span> (0.00 B)\n",
              "</pre>\n"
            ]
          },
          "metadata": {}
        },
        {
          "output_type": "display_data",
          "data": {
            "text/plain": [
              "\u001b[1m Optimizer params: \u001b[0m\u001b[38;5;34m320,868\u001b[0m (1.22 MB)\n"
            ],
            "text/html": [
              "<pre style=\"white-space:pre;overflow-x:auto;line-height:normal;font-family:Menlo,'DejaVu Sans Mono',consolas,'Courier New',monospace\"><span style=\"font-weight: bold\"> Optimizer params: </span><span style=\"color: #00af00; text-decoration-color: #00af00\">320,868</span> (1.22 MB)\n",
              "</pre>\n"
            ]
          },
          "metadata": {}
        }
      ]
    },
    {
      "cell_type": "code",
      "source": [
        "X_test_score=model.predict(X_test,verbose=2)"
      ],
      "metadata": {
        "id": "rK5AaTXiBKJO",
        "outputId": "05fa2f49-eb41-49fb-b413-13e2b7c3a50d",
        "colab": {
          "base_uri": "https://localhost:8080/"
        }
      },
      "execution_count": 45,
      "outputs": [
        {
          "output_type": "stream",
          "name": "stdout",
          "text": [
            "167/167 - 0s - 2ms/step\n"
          ]
        }
      ]
    },
    {
      "cell_type": "code",
      "source": [
        "for i in X_test_score:\n",
        "  if i[0] < 0.5:\n",
        "    i[0]=0\n",
        "  else:\n",
        "    i[0]=1"
      ],
      "metadata": {
        "id": "xAlqqhuPCDi0"
      },
      "execution_count": 46,
      "outputs": []
    },
    {
      "cell_type": "code",
      "source": [
        "correct_predict_count=0\n",
        "incorrect_predict_count=0\n",
        "for i,j in zip(X_test_score,y_test):\n",
        "  # print(i[0])\n",
        "  if i[0]==j:\n",
        "    correct_predict_count+=1\n",
        "  else:\n",
        "    incorrect_predict_count+=1\n"
      ],
      "metadata": {
        "id": "BYJkPzZPCzFW"
      },
      "execution_count": 47,
      "outputs": []
    },
    {
      "cell_type": "code",
      "source": [
        "correct_predict_count"
      ],
      "metadata": {
        "id": "pT_xC6LSD9b-",
        "outputId": "1ca366f7-8250-4e36-d174-7575769c407a",
        "colab": {
          "base_uri": "https://localhost:8080/"
        }
      },
      "execution_count": 48,
      "outputs": [
        {
          "output_type": "execute_result",
          "data": {
            "text/plain": [
              "3171"
            ]
          },
          "metadata": {},
          "execution_count": 48
        }
      ]
    },
    {
      "cell_type": "code",
      "source": [
        "incorrect_predict_count"
      ],
      "metadata": {
        "id": "FtCpjDjrD_qn",
        "outputId": "3301564d-f0fc-4f3a-e4d4-260e0e861678",
        "colab": {
          "base_uri": "https://localhost:8080/"
        }
      },
      "execution_count": 49,
      "outputs": [
        {
          "output_type": "execute_result",
          "data": {
            "text/plain": [
              "2171"
            ]
          },
          "metadata": {},
          "execution_count": 49
        }
      ]
    },
    {
      "cell_type": "code",
      "source": [
        "test_accuracy=correct_predict_count/len(y_test)\n",
        "test_accuracy"
      ],
      "metadata": {
        "id": "QWZ7E7P9ESQl",
        "outputId": "914d4753-7d28-4232-cd9d-81d85cb89878",
        "colab": {
          "base_uri": "https://localhost:8080/"
        }
      },
      "execution_count": 50,
      "outputs": [
        {
          "output_type": "execute_result",
          "data": {
            "text/plain": [
              "0.5935979034069637"
            ]
          },
          "metadata": {},
          "execution_count": 50
        }
      ]
    },
    {
      "cell_type": "code",
      "source": [
        "history.history.keys()"
      ],
      "metadata": {
        "id": "KozzgEU8Ff4U",
        "outputId": "5198cd41-4349-4643-b7cf-7e0e4421808a",
        "colab": {
          "base_uri": "https://localhost:8080/"
        }
      },
      "execution_count": 56,
      "outputs": [
        {
          "output_type": "execute_result",
          "data": {
            "text/plain": [
              "dict_keys(['binary_accuracy', 'loss', 'val_binary_accuracy', 'val_loss'])"
            ]
          },
          "metadata": {},
          "execution_count": 56
        }
      ]
    },
    {
      "cell_type": "code",
      "source": [
        "import matplotlib.pyplot as plt\n",
        "\n",
        "\n",
        "def plot_graphs(history, string):\n",
        "  plt.plot(history.history[string])\n",
        "  plt.plot(history.history['val_'+string])\n",
        "  plt.xlabel(\"Epochs\")\n",
        "  plt.ylabel(string)\n",
        "  plt.legend([string, 'val_'+string])\n",
        "  plt.show()\n",
        "\n",
        "plot_graphs(history, \"binary_accuracy\")\n",
        "plot_graphs(history, \"loss\")"
      ],
      "metadata": {
        "id": "0FWeNqPbEtaZ",
        "outputId": "9086c801-c7fe-4048-c729-ee14295f25bf",
        "colab": {
          "base_uri": "https://localhost:8080/",
          "height": 883
        }
      },
      "execution_count": 55,
      "outputs": [
        {
          "output_type": "display_data",
          "data": {
            "text/plain": [
              "<Figure size 640x480 with 1 Axes>"
            ],
            "image/png": "[encoded data removed]"
          },
          "metadata": {}
        },
        {
          "output_type": "display_data",
          "data": {
            "text/plain": [
              "<Figure size 640x480 with 1 Axes>"
            ],
            "image/png": "[encoded data removed]"
          },
          "metadata": {}
        }
      ]
    }
  ]
}