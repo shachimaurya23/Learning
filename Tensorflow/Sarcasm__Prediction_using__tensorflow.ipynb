{
  "nbformat": 4,
  "nbformat_minor": 0,
  "metadata": {
    "colab": {
      "provenance": [],
      "authorship_tag": "ABX9TyOnVDLiBwH1Nr/x/co8lEAj",
      "include_colab_link": true
    },
    "kernelspec": {
      "name": "python3",
      "display_name": "Python 3"
    },
    "language_info": {
      "name": "python"
    }
  },
  "cells": [
    {
      "cell_type": "markdown",
      "metadata": {
        "id": "view-in-github",
        "colab_type": "text"
      },
      "source": [
        "<a href=\"https://colab.research.google.com/github/shachimaurya23/Learning/blob/main/Tensorflow/Sarcasm__Prediction_using__tensorflow.ipynb\" target=\"_parent\"><img src=\"https://colab.research.google.com/assets/colab-badge.svg\" alt=\"Open In Colab\"/></a>"
      ]
    },
    {
      "cell_type": "markdown",
      "source": [
        "# Basic operations to preprocess data"
      ],
      "metadata": {
        "id": "6aq2zPUN0q53"
      }
    },
    {
      "cell_type": "code",
      "execution_count": 1,
      "metadata": {
        "id": "KH8YGoHK0-E4"
      },
      "outputs": [],
      "source": [
        "from tensorflow.keras.preprocessing.text import Tokenizer"
      ]
    },
    {
      "cell_type": "code",
      "source": [
        "sentences=[\"i love my dog\",\"I, love my cat\",\"you love my dog!\",\"dogs loves cat\"]"
      ],
      "metadata": {
        "id": "ss80eJxL1uE0"
      },
      "execution_count": 2,
      "outputs": []
    },
    {
      "cell_type": "code",
      "source": [
        "tokenizer=Tokenizer(num_words=100,oov_token=\"<OOV\") #num_words tells the max number of words allowed in the vocab  priority= freq.of words, sequesnce   eg 2 words occuring in sentences again and again then we see which comes first.\n",
        "tokenizer.fit_on_texts(sentences)"
      ],
      "metadata": {
        "id": "F4nRJ9xG17dN"
      },
      "execution_count": 3,
      "outputs": []
    },
    {
      "cell_type": "code",
      "source": [
        "word_index=tokenizer.word_index\n",
        "print(word_index)"
      ],
      "metadata": {
        "colab": {
          "base_uri": "https://localhost:8080/"
        },
        "id": "TAA24vRo2UUz",
        "outputId": "559174cc-7ab6-458d-f565-7baec96976f3"
      },
      "execution_count": 4,
      "outputs": [
        {
          "output_type": "stream",
          "name": "stdout",
          "text": [
            "{'<OOV': 1, 'love': 2, 'my': 3, 'i': 4, 'dog': 5, 'cat': 6, 'you': 7, 'dogs': 8, 'loves': 9}\n"
          ]
        }
      ]
    },
    {
      "cell_type": "code",
      "source": [
        "print(tokenizer.texts_to_sequences([\"My hamster loves dogs and cat\"]))"
      ],
      "metadata": {
        "colab": {
          "base_uri": "https://localhost:8080/"
        },
        "id": "GYLFiWGS453h",
        "outputId": "dea19f6e-5783-4155-dd24-cfd7d15cba20"
      },
      "execution_count": 5,
      "outputs": [
        {
          "output_type": "stream",
          "name": "stdout",
          "text": [
            "[[3, 1, 9, 8, 1, 6]]\n"
          ]
        }
      ]
    },
    {
      "cell_type": "code",
      "source": [
        "sequences = tokenizer.texts_to_sequences(sentences)\n",
        "print (sequences)"
      ],
      "metadata": {
        "colab": {
          "base_uri": "https://localhost:8080/"
        },
        "id": "f79EHoy3wXMu",
        "outputId": "48e9b201-b488-4c2f-aefa-fea978ad6210"
      },
      "execution_count": 6,
      "outputs": [
        {
          "output_type": "stream",
          "name": "stdout",
          "text": [
            "[[4, 2, 3, 5], [4, 2, 3, 6], [7, 2, 3, 5], [8, 9, 6]]\n"
          ]
        }
      ]
    },
    {
      "cell_type": "code",
      "source": [
        "from tensorflow.keras.preprocessing.sequence import pad_sequences\n",
        "padded =pad_sequences(sequences)\n",
        "\n",
        "print(padded)\n"
      ],
      "metadata": {
        "id": "LgaP4rJO6JGi",
        "colab": {
          "base_uri": "https://localhost:8080/"
        },
        "outputId": "dbd83cc5-029b-4e64-ede4-554d1b563943"
      },
      "execution_count": 10,
      "outputs": [
        {
          "output_type": "stream",
          "name": "stdout",
          "text": [
            "[[4 2 3 5]\n",
            " [4 2 3 6]\n",
            " [7 2 3 5]\n",
            " [0 8 9 6]]\n"
          ]
        }
      ]
    },
    {
      "cell_type": "markdown",
      "source": [
        "# Sarcasm Prediction"
      ],
      "metadata": {
        "id": "9L4AWrHQ00tD"
      }
    },
    {
      "cell_type": "code",
      "source": [
        "import json\n",
        "import tensorflow as tf\n",
        "import numpy as np\n",
        "from tensorflow.keras.preprocessing.text import Tokenizer\n",
        "from tensorflow.keras.preprocessing.sequence import pad_sequences\n",
        "from sklearn.model_selection import train_test_split"
      ],
      "metadata": {
        "id": "TpAct6-o1NnJ"
      },
      "execution_count": 12,
      "outputs": []
    },
    {
      "cell_type": "code",
      "source": [
        "!wget --no-check-certificate \\\n",
        "    https://storage.googleapis.com/learning-datasets/sarcasm.json \\\n",
        "    -O /tmp/sarcasm.json"
      ],
      "metadata": {
        "colab": {
          "base_uri": "https://localhost:8080/"
        },
        "id": "cbK0bslC1qxB",
        "outputId": "8f818168-0778-4d7b-aec6-e95d6c339ba9"
      },
      "execution_count": 3,
      "outputs": [
        {
          "output_type": "stream",
          "name": "stdout",
          "text": [
            "--2025-01-25 14:23:26--  https://storage.googleapis.com/learning-datasets/sarcasm.json\n",
            "Resolving storage.googleapis.com (storage.googleapis.com)... 142.250.125.207, 209.85.200.207, 142.251.183.207, ...\n",
            "Connecting to storage.googleapis.com (storage.googleapis.com)|142.250.125.207|:443... connected.\n",
            "HTTP request sent, awaiting response... 200 OK\n",
            "Length: 5643545 (5.4M) [application/json]\n",
            "Saving to: ‘/tmp/sarcasm.json’\n",
            "\n",
            "/tmp/sarcasm.json   100%[===================>]   5.38M  --.-KB/s    in 0.04s   \n",
            "\n",
            "2025-01-25 14:23:26 (131 MB/s) - ‘/tmp/sarcasm.json’ saved [5643545/5643545]\n",
            "\n"
          ]
        }
      ]
    },
    {
      "cell_type": "code",
      "source": [
        "with open ('/tmp/sarcasm.json',\"r\") as f:\n",
        "  datastore=json.load(f)"
      ],
      "metadata": {
        "id": "mFtwaHvZ2VRi"
      },
      "execution_count": 2,
      "outputs": []
    },
    {
      "cell_type": "code",
      "source": [
        "datastore[:10]"
      ],
      "metadata": {
        "colab": {
          "base_uri": "https://localhost:8080/"
        },
        "id": "eo6wmYaB2oHL",
        "outputId": "00f5506f-3781-4947-deac-ae3ac17b0286"
      },
      "execution_count": 3,
      "outputs": [
        {
          "output_type": "execute_result",
          "data": {
            "text/plain": [
              "[{'article_link': 'https://www.huffingtonpost.com/entry/versace-black-code_us_5861fbefe4b0de3a08f600d5',\n",
              "  'headline': \"former versace store clerk sues over secret 'black code' for minority shoppers\",\n",
              "  'is_sarcastic': 0},\n",
              " {'article_link': 'https://www.huffingtonpost.com/entry/roseanne-revival-review_us_5ab3a497e4b054d118e04365',\n",
              "  'headline': \"the 'roseanne' revival catches up to our thorny political mood, for better and worse\",\n",
              "  'is_sarcastic': 0},\n",
              " {'article_link': 'https://local.theonion.com/mom-starting-to-fear-son-s-web-series-closest-thing-she-1819576697',\n",
              "  'headline': \"mom starting to fear son's web series closest thing she will have to grandchild\",\n",
              "  'is_sarcastic': 1},\n",
              " {'article_link': 'https://politics.theonion.com/boehner-just-wants-wife-to-listen-not-come-up-with-alt-1819574302',\n",
              "  'headline': 'boehner just wants wife to listen, not come up with alternative debt-reduction ideas',\n",
              "  'is_sarcastic': 1},\n",
              " {'article_link': 'https://www.huffingtonpost.com/entry/jk-rowling-wishes-snape-happy-birthday_us_569117c4e4b0cad15e64fdcb',\n",
              "  'headline': 'j.k. rowling wishes snape happy birthday in the most magical way',\n",
              "  'is_sarcastic': 0},\n",
              " {'article_link': 'https://www.huffingtonpost.com/entry/advancing-the-worlds-women_b_6810038.html',\n",
              "  'headline': \"advancing the world's women\",\n",
              "  'is_sarcastic': 0},\n",
              " {'article_link': 'https://www.huffingtonpost.com/entry/how-meat-is-grown-in-a-lab_us_561d1189e4b0c5a1ce607e86',\n",
              "  'headline': 'the fascinating case for eating lab-grown meat',\n",
              "  'is_sarcastic': 0},\n",
              " {'article_link': 'https://www.huffingtonpost.com/entry/boxed-college-tuition-ben_n_7445644.html',\n",
              "  'headline': 'this ceo will send your kids to school, if you work for his company',\n",
              "  'is_sarcastic': 0},\n",
              " {'article_link': 'https://politics.theonion.com/top-snake-handler-leaves-sinking-huckabee-campaign-1819578231',\n",
              "  'headline': 'top snake handler leaves sinking huckabee campaign',\n",
              "  'is_sarcastic': 1},\n",
              " {'article_link': 'https://www.huffingtonpost.com/entry/fridays-morning-email-inside-trumps-presser-for-the-ages_us_58a6e33ee4b07602ad53a315',\n",
              "  'headline': \"friday's morning email: inside trump's presser for the ages\",\n",
              "  'is_sarcastic': 0}]"
            ]
          },
          "metadata": {},
          "execution_count": 3
        }
      ]
    },
    {
      "cell_type": "code",
      "source": [
        "len(datastore)"
      ],
      "metadata": {
        "colab": {
          "base_uri": "https://localhost:8080/"
        },
        "id": "xByf-gu63Doj",
        "outputId": "fe3c950f-a22e-44d5-8112-717824eae52a"
      },
      "execution_count": 13,
      "outputs": [
        {
          "output_type": "execute_result",
          "data": {
            "text/plain": [
              "26709"
            ]
          },
          "metadata": {},
          "execution_count": 13
        }
      ]
    },
    {
      "cell_type": "code",
      "source": [
        "sentences=[]\n",
        "label=[]\n",
        "\n",
        "for item in datastore:\n",
        "  sentences.append(item[\"headline\"])\n",
        "  label.append(item[\"is_sarcastic\"])"
      ],
      "metadata": {
        "id": "fSUuLUXl3Jql"
      },
      "execution_count": 4,
      "outputs": []
    },
    {
      "cell_type": "code",
      "source": [
        "sentences[:10]"
      ],
      "metadata": {
        "colab": {
          "base_uri": "https://localhost:8080/"
        },
        "id": "rb3a3BI-3pwG",
        "outputId": "dc556e2f-916c-4a49-f689-79136c6cf08e"
      },
      "execution_count": 16,
      "outputs": [
        {
          "output_type": "execute_result",
          "data": {
            "text/plain": [
              "[\"former versace store clerk sues over secret 'black code' for minority shoppers\",\n",
              " \"the 'roseanne' revival catches up to our thorny political mood, for better and worse\",\n",
              " \"mom starting to fear son's web series closest thing she will have to grandchild\",\n",
              " 'boehner just wants wife to listen, not come up with alternative debt-reduction ideas',\n",
              " 'j.k. rowling wishes snape happy birthday in the most magical way',\n",
              " \"advancing the world's women\",\n",
              " 'the fascinating case for eating lab-grown meat',\n",
              " 'this ceo will send your kids to school, if you work for his company',\n",
              " 'top snake handler leaves sinking huckabee campaign',\n",
              " \"friday's morning email: inside trump's presser for the ages\"]"
            ]
          },
          "metadata": {},
          "execution_count": 16
        }
      ]
    },
    {
      "cell_type": "code",
      "source": [
        "label[:10]"
      ],
      "metadata": {
        "colab": {
          "base_uri": "https://localhost:8080/"
        },
        "id": "Yh4TJmR13trZ",
        "outputId": "787d0c96-db97-402e-f237-726375133511"
      },
      "execution_count": 17,
      "outputs": [
        {
          "output_type": "execute_result",
          "data": {
            "text/plain": [
              "[0, 0, 1, 1, 0, 0, 0, 0, 1, 0]"
            ]
          },
          "metadata": {},
          "execution_count": 17
        }
      ]
    },
    {
      "cell_type": "code",
      "source": [
        "vocab_size=10000\n",
        "max_length=100\n",
        "oov_trunc=\"<OOV>\"\n",
        "trunc_type=\"post\"\n",
        "padding_type=\"post\"\n",
        "embedding_dim=16"
      ],
      "metadata": {
        "id": "RXS3FFDH3w1k"
      },
      "execution_count": 5,
      "outputs": []
    },
    {
      "cell_type": "code",
      "source": [
        "X_train,X_test,y_train,y_test=train_test_split(sentences,label,test_size=0.2,random_state=42)"
      ],
      "metadata": {
        "id": "IAX2srxi4qAf"
      },
      "execution_count": 6,
      "outputs": []
    },
    {
      "cell_type": "code",
      "source": [
        "tokenizer=Tokenizer(num_words=vocab_size,oov_token=oov_trunc)\n",
        "#tokenize the train data\n",
        "tokenizer.fit_on_texts(X_train)\n",
        "word_index=tokenizer.word_index\n",
        "X_train=tokenizer.texts_to_sequences(X_train)\n",
        "X_train=pad_sequences(X_train,maxlen=max_length,padding=padding_type,truncating=trunc_type)\n",
        "\n",
        "#toeknize the test data\n",
        "tokenizer.fit_on_texts(X_test)\n",
        "word_index=tokenizer.word_index\n",
        "X_test=tokenizer.texts_to_sequences(X_test)\n",
        "X_test=pad_sequences(X_test,maxlen=max_length,padding=padding_type,truncating=trunc_type)\n"
      ],
      "metadata": {
        "id": "0973Kfp35Qvn"
      },
      "execution_count": 9,
      "outputs": []
    },
    {
      "cell_type": "code",
      "source": [
        "X_train=np.array(X_train)\n",
        "X_test=np.array(X_test)\n",
        "y_train=np.array(y_train)\n",
        "y_test=np.array(y_test)"
      ],
      "metadata": {
        "id": "ilZlNVm_51np"
      },
      "execution_count": 13,
      "outputs": []
    },
    {
      "cell_type": "code",
      "source": [
        "#tried with a simple nn without dropout and regularization but the model was highly overfitted with test accuray 53% and train at 98%\n",
        "model = tf.keras.Sequential([\n",
        "    tf.keras.layers.Embedding(vocab_size, embedding_dim),\n",
        "    tf.keras.layers.GlobalAveragePooling1D(),\n",
        "    tf.keras.layers.Dropout(0.4),  # Add dropout to reduce overfitting\n",
        "    tf.keras.layers.Dense(24, activation=\"relu\", kernel_regularizer=tf.keras.regularizers.L2(0.01)),  # L2 regularization\n",
        "    tf.keras.layers.Dropout(0.3),  # Add another dropout layer\n",
        "    tf.keras.layers.Dense(1, activation=\"sigmoid\")\n",
        "])\n",
        "#adding callback for dynamic Learning Rate and for Early Stopping that halts training when validation loss stops improving\n",
        "callbacks = [\n",
        "    tf.keras.callbacks.ReduceLROnPlateau(monitor='val_loss', factor=0.5, patience=10, min_lr=1e-6),\n",
        "    tf.keras.callbacks.EarlyStopping(monitor='val_loss', patience=10, restore_best_weights=True)\n",
        "]"
      ],
      "metadata": {
        "id": "WGrBV3Kh-aWC"
      },
      "execution_count": 105,
      "outputs": []
    },
    {
      "cell_type": "code",
      "source": [
        "model.compile(loss=tf.keras.losses.BinaryCrossentropy(),optimizer=tf.keras.optimizers.Adam(learning_rate=0.001),metrics=[tf.keras.metrics.BinaryAccuracy(), tf.keras.metrics.Precision(),tf.keras.metrics.Recall()])"
      ],
      "metadata": {
        "id": "n_qMCNsk_Y48"
      },
      "execution_count": 106,
      "outputs": []
    },
    {
      "cell_type": "code",
      "source": [
        "num_epochs=40\n",
        "history=model.fit(X_train,y_train,epochs=num_epochs,validation_split=0.1,callbacks=callbacks,verbose=2)"
      ],
      "metadata": {
        "colab": {
          "base_uri": "https://localhost:8080/"
        },
        "id": "LVI4AT_7AZDH",
        "outputId": "3c4c94f8-76da-4cbf-e4ff-227689b76a9d"
      },
      "execution_count": 107,
      "outputs": [
        {
          "output_type": "stream",
          "name": "stdout",
          "text": [
            "Epoch 1/40\n",
            "601/601 - 6s - 11ms/step - binary_accuracy: 0.5618 - loss: 0.7262 - precision_7: 0.2308 - recall_7: 3.5629e-04 - val_binary_accuracy: 0.5517 - val_loss: 0.6888 - val_precision_7: 0.0000e+00 - val_recall_7: 0.0000e+00 - learning_rate: 0.0010\n",
            "Epoch 2/40\n",
            "601/601 - 4s - 7ms/step - binary_accuracy: 0.5621 - loss: 0.6850 - precision_7: 0.0000e+00 - recall_7: 0.0000e+00 - val_binary_accuracy: 0.5517 - val_loss: 0.6842 - val_precision_7: 0.0000e+00 - val_recall_7: 0.0000e+00 - learning_rate: 0.0010\n",
            "Epoch 3/40\n",
            "601/601 - 2s - 4ms/step - binary_accuracy: 0.5782 - loss: 0.6719 - precision_7: 0.7344 - recall_7: 0.0575 - val_binary_accuracy: 0.5737 - val_loss: 0.6463 - val_precision_7: 0.9796 - val_recall_7: 0.0501 - learning_rate: 0.0010\n",
            "Epoch 4/40\n",
            "601/601 - 3s - 5ms/step - binary_accuracy: 0.6986 - loss: 0.6081 - precision_7: 0.7554 - recall_7: 0.4610 - val_binary_accuracy: 0.7946 - val_loss: 0.5523 - val_precision_7: 0.8833 - val_recall_7: 0.6242 - learning_rate: 0.0010\n",
            "Epoch 5/40\n",
            "601/601 - 3s - 6ms/step - binary_accuracy: 0.7709 - loss: 0.5397 - precision_7: 0.7806 - recall_7: 0.6633 - val_binary_accuracy: 0.8301 - val_loss: 0.5008 - val_precision_7: 0.8471 - val_recall_7: 0.7578 - learning_rate: 0.0010\n",
            "Epoch 6/40\n",
            "601/601 - 4s - 7ms/step - binary_accuracy: 0.7985 - loss: 0.4990 - precision_7: 0.7969 - recall_7: 0.7246 - val_binary_accuracy: 0.8404 - val_loss: 0.4689 - val_precision_7: 0.8292 - val_recall_7: 0.8111 - learning_rate: 0.0010\n",
            "Epoch 7/40\n",
            "601/601 - 2s - 4ms/step - binary_accuracy: 0.8200 - loss: 0.4705 - precision_7: 0.8099 - recall_7: 0.7695 - val_binary_accuracy: 0.7922 - val_loss: 0.4815 - val_precision_7: 0.7040 - val_recall_7: 0.9259 - learning_rate: 0.0010\n",
            "Epoch 8/40\n",
            "601/601 - 2s - 4ms/step - binary_accuracy: 0.8342 - loss: 0.4422 - precision_7: 0.8204 - recall_7: 0.7956 - val_binary_accuracy: 0.8470 - val_loss: 0.4298 - val_precision_7: 0.8346 - val_recall_7: 0.8215 - learning_rate: 0.0010\n",
            "Epoch 9/40\n",
            "601/601 - 4s - 7ms/step - binary_accuracy: 0.8458 - loss: 0.4232 - precision_7: 0.8320 - recall_7: 0.8118 - val_binary_accuracy: 0.8414 - val_loss: 0.4215 - val_precision_7: 0.7853 - val_recall_7: 0.8894 - learning_rate: 0.0010\n",
            "Epoch 10/40\n",
            "601/601 - 2s - 4ms/step - binary_accuracy: 0.8497 - loss: 0.4101 - precision_7: 0.8340 - recall_7: 0.8200 - val_binary_accuracy: 0.8278 - val_loss: 0.4329 - val_precision_7: 0.9178 - val_recall_7: 0.6764 - learning_rate: 0.0010\n",
            "Epoch 11/40\n",
            "601/601 - 3s - 4ms/step - binary_accuracy: 0.8632 - loss: 0.3894 - precision_7: 0.8494 - recall_7: 0.8357 - val_binary_accuracy: 0.8531 - val_loss: 0.3953 - val_precision_7: 0.8411 - val_recall_7: 0.8288 - learning_rate: 0.0010\n",
            "Epoch 12/40\n",
            "601/601 - 2s - 4ms/step - binary_accuracy: 0.8700 - loss: 0.3751 - precision_7: 0.8540 - recall_7: 0.8482 - val_binary_accuracy: 0.8250 - val_loss: 0.4160 - val_precision_7: 0.7462 - val_recall_7: 0.9238 - learning_rate: 0.0010\n",
            "Epoch 13/40\n",
            "601/601 - 3s - 4ms/step - binary_accuracy: 0.8745 - loss: 0.3618 - precision_7: 0.8546 - recall_7: 0.8595 - val_binary_accuracy: 0.8577 - val_loss: 0.3828 - val_precision_7: 0.8767 - val_recall_7: 0.7944 - learning_rate: 0.0010\n",
            "Epoch 14/40\n",
            "601/601 - 4s - 7ms/step - binary_accuracy: 0.8773 - loss: 0.3537 - precision_7: 0.8598 - recall_7: 0.8601 - val_binary_accuracy: 0.8339 - val_loss: 0.4050 - val_precision_7: 0.7557 - val_recall_7: 0.9301 - learning_rate: 0.0010\n",
            "Epoch 15/40\n",
            "601/601 - 3s - 5ms/step - binary_accuracy: 0.8819 - loss: 0.3397 - precision_7: 0.8660 - recall_7: 0.8638 - val_binary_accuracy: 0.8526 - val_loss: 0.3757 - val_precision_7: 0.8007 - val_recall_7: 0.8935 - learning_rate: 0.0010\n",
            "Epoch 16/40\n",
            "601/601 - 2s - 4ms/step - binary_accuracy: 0.8869 - loss: 0.3317 - precision_7: 0.8701 - recall_7: 0.8720 - val_binary_accuracy: 0.8620 - val_loss: 0.3659 - val_precision_7: 0.8318 - val_recall_7: 0.8674 - learning_rate: 0.0010\n",
            "Epoch 17/40\n",
            "601/601 - 2s - 4ms/step - binary_accuracy: 0.8915 - loss: 0.3192 - precision_7: 0.8750 - recall_7: 0.8777 - val_binary_accuracy: 0.8577 - val_loss: 0.3663 - val_precision_7: 0.8144 - val_recall_7: 0.8841 - learning_rate: 0.0010\n",
            "Epoch 18/40\n",
            "601/601 - 3s - 5ms/step - binary_accuracy: 0.8951 - loss: 0.3129 - precision_7: 0.8790 - recall_7: 0.8817 - val_binary_accuracy: 0.8507 - val_loss: 0.3710 - val_precision_7: 0.7902 - val_recall_7: 0.9081 - learning_rate: 0.0010\n",
            "Epoch 19/40\n",
            "601/601 - 4s - 6ms/step - binary_accuracy: 0.8991 - loss: 0.3008 - precision_7: 0.8826 - recall_7: 0.8876 - val_binary_accuracy: 0.8662 - val_loss: 0.3572 - val_precision_7: 0.8485 - val_recall_7: 0.8539 - learning_rate: 0.0010\n",
            "Epoch 20/40\n",
            "601/601 - 2s - 4ms/step - binary_accuracy: 0.8995 - loss: 0.2963 - precision_7: 0.8838 - recall_7: 0.8871 - val_binary_accuracy: 0.8601 - val_loss: 0.3652 - val_precision_7: 0.8890 - val_recall_7: 0.7860 - learning_rate: 0.0010\n",
            "Epoch 21/40\n",
            "601/601 - 3s - 4ms/step - binary_accuracy: 0.9029 - loss: 0.2913 - precision_7: 0.8864 - recall_7: 0.8926 - val_binary_accuracy: 0.8610 - val_loss: 0.3598 - val_precision_7: 0.8175 - val_recall_7: 0.8883 - learning_rate: 0.0010\n",
            "Epoch 22/40\n",
            "601/601 - 2s - 4ms/step - binary_accuracy: 0.9056 - loss: 0.2828 - precision_7: 0.8888 - recall_7: 0.8964 - val_binary_accuracy: 0.8657 - val_loss: 0.3560 - val_precision_7: 0.8683 - val_recall_7: 0.8257 - learning_rate: 0.0010\n",
            "Epoch 23/40\n",
            "601/601 - 3s - 5ms/step - binary_accuracy: 0.9079 - loss: 0.2761 - precision_7: 0.8935 - recall_7: 0.8966 - val_binary_accuracy: 0.8620 - val_loss: 0.3600 - val_precision_7: 0.8824 - val_recall_7: 0.7985 - learning_rate: 0.0010\n",
            "Epoch 24/40\n",
            "601/601 - 5s - 8ms/step - binary_accuracy: 0.9129 - loss: 0.2666 - precision_7: 0.8985 - recall_7: 0.9031 - val_binary_accuracy: 0.8624 - val_loss: 0.3541 - val_precision_7: 0.8320 - val_recall_7: 0.8685 - learning_rate: 0.0010\n",
            "Epoch 25/40\n",
            "601/601 - 2s - 4ms/step - binary_accuracy: 0.9123 - loss: 0.2630 - precision_7: 0.8963 - recall_7: 0.9043 - val_binary_accuracy: 0.8615 - val_loss: 0.3498 - val_precision_7: 0.8621 - val_recall_7: 0.8225 - learning_rate: 0.0010\n",
            "Epoch 26/40\n",
            "601/601 - 2s - 4ms/step - binary_accuracy: 0.9130 - loss: 0.2573 - precision_7: 0.8972 - recall_7: 0.9050 - val_binary_accuracy: 0.8610 - val_loss: 0.3542 - val_precision_7: 0.8668 - val_recall_7: 0.8152 - learning_rate: 0.0010\n",
            "Epoch 27/40\n",
            "601/601 - 3s - 4ms/step - binary_accuracy: 0.9183 - loss: 0.2512 - precision_7: 0.9040 - recall_7: 0.9100 - val_binary_accuracy: 0.8634 - val_loss: 0.3552 - val_precision_7: 0.8337 - val_recall_7: 0.8685 - learning_rate: 0.0010\n",
            "Epoch 28/40\n",
            "601/601 - 4s - 7ms/step - binary_accuracy: 0.9192 - loss: 0.2469 - precision_7: 0.9054 - recall_7: 0.9106 - val_binary_accuracy: 0.8591 - val_loss: 0.3571 - val_precision_7: 0.8211 - val_recall_7: 0.8768 - learning_rate: 0.0010\n",
            "Epoch 29/40\n",
            "601/601 - 2s - 4ms/step - binary_accuracy: 0.9251 - loss: 0.2380 - precision_7: 0.9137 - recall_7: 0.9154 - val_binary_accuracy: 0.8568 - val_loss: 0.3733 - val_precision_7: 0.9025 - val_recall_7: 0.7630 - learning_rate: 0.0010\n",
            "Epoch 30/40\n",
            "601/601 - 2s - 4ms/step - binary_accuracy: 0.9231 - loss: 0.2372 - precision_7: 0.9099 - recall_7: 0.9151 - val_binary_accuracy: 0.8442 - val_loss: 0.3858 - val_precision_7: 0.7748 - val_recall_7: 0.9196 - learning_rate: 0.0010\n",
            "Epoch 31/40\n",
            "601/601 - 2s - 4ms/step - binary_accuracy: 0.9220 - loss: 0.2354 - precision_7: 0.9085 - recall_7: 0.9139 - val_binary_accuracy: 0.8479 - val_loss: 0.4032 - val_precision_7: 0.9137 - val_recall_7: 0.7296 - learning_rate: 0.0010\n",
            "Epoch 32/40\n",
            "601/601 - 3s - 4ms/step - binary_accuracy: 0.9253 - loss: 0.2320 - precision_7: 0.9119 - recall_7: 0.9181 - val_binary_accuracy: 0.8643 - val_loss: 0.3614 - val_precision_7: 0.8561 - val_recall_7: 0.8382 - learning_rate: 0.0010\n",
            "Epoch 33/40\n",
            "601/601 - 4s - 7ms/step - binary_accuracy: 0.9285 - loss: 0.2236 - precision_7: 0.9167 - recall_7: 0.9203 - val_binary_accuracy: 0.8643 - val_loss: 0.3597 - val_precision_7: 0.8638 - val_recall_7: 0.8278 - learning_rate: 0.0010\n",
            "Epoch 34/40\n",
            "601/601 - 2s - 4ms/step - binary_accuracy: 0.9290 - loss: 0.2201 - precision_7: 0.9143 - recall_7: 0.9245 - val_binary_accuracy: 0.8526 - val_loss: 0.3707 - val_precision_7: 0.8065 - val_recall_7: 0.8831 - learning_rate: 0.0010\n",
            "Epoch 35/40\n",
            "601/601 - 2s - 4ms/step - binary_accuracy: 0.9314 - loss: 0.2137 - precision_7: 0.9175 - recall_7: 0.9267 - val_binary_accuracy: 0.8629 - val_loss: 0.3683 - val_precision_7: 0.8699 - val_recall_7: 0.8163 - learning_rate: 0.0010\n"
          ]
        }
      ]
    },
    {
      "cell_type": "code",
      "source": [
        "model.summary()"
      ],
      "metadata": {
        "colab": {
          "base_uri": "https://localhost:8080/",
          "height": 374
        },
        "id": "Ly8eO2H4AJ-n",
        "outputId": "b94d250b-8981-4f5f-e931-c2840b128dcd"
      },
      "execution_count": 108,
      "outputs": [
        {
          "output_type": "display_data",
          "data": {
            "text/plain": [
              "\u001b[1mModel: \"sequential_8\"\u001b[0m\n"
            ],
            "text/html": [
              "<pre style=\"white-space:pre;overflow-x:auto;line-height:normal;font-family:Menlo,'DejaVu Sans Mono',consolas,'Courier New',monospace\"><span style=\"font-weight: bold\">Model: \"sequential_8\"</span>\n",
              "</pre>\n"
            ]
          },
          "metadata": {}
        },
        {
          "output_type": "display_data",
          "data": {
            "text/plain": [
              "┏━━━━━━━━━━━━━━━━━━━━━━━━━━━━━━━━━━━━━━┳━━━━━━━━━━━━━━━━━━━━━━━━━━━━━┳━━━━━━━━━━━━━━━━━┓\n",
              "┃\u001b[1m \u001b[0m\u001b[1mLayer (type)                        \u001b[0m\u001b[1m \u001b[0m┃\u001b[1m \u001b[0m\u001b[1mOutput Shape               \u001b[0m\u001b[1m \u001b[0m┃\u001b[1m \u001b[0m\u001b[1m        Param #\u001b[0m\u001b[1m \u001b[0m┃\n",
              "┡━━━━━━━━━━━━━━━━━━━━━━━━━━━━━━━━━━━━━━╇━━━━━━━━━━━━━━━━━━━━━━━━━━━━━╇━━━━━━━━━━━━━━━━━┩\n",
              "│ embedding_8 (\u001b[38;5;33mEmbedding\u001b[0m)              │ (\u001b[38;5;45mNone\u001b[0m, \u001b[38;5;34m100\u001b[0m, \u001b[38;5;34m16\u001b[0m)             │         \u001b[38;5;34m160,000\u001b[0m │\n",
              "├──────────────────────────────────────┼─────────────────────────────┼─────────────────┤\n",
              "│ global_average_pooling1d_8           │ (\u001b[38;5;45mNone\u001b[0m, \u001b[38;5;34m16\u001b[0m)                  │               \u001b[38;5;34m0\u001b[0m │\n",
              "│ (\u001b[38;5;33mGlobalAveragePooling1D\u001b[0m)             │                             │                 │\n",
              "├──────────────────────────────────────┼─────────────────────────────┼─────────────────┤\n",
              "│ dropout_14 (\u001b[38;5;33mDropout\u001b[0m)                 │ (\u001b[38;5;45mNone\u001b[0m, \u001b[38;5;34m16\u001b[0m)                  │               \u001b[38;5;34m0\u001b[0m │\n",
              "├──────────────────────────────────────┼─────────────────────────────┼─────────────────┤\n",
              "│ dense_16 (\u001b[38;5;33mDense\u001b[0m)                     │ (\u001b[38;5;45mNone\u001b[0m, \u001b[38;5;34m24\u001b[0m)                  │             \u001b[38;5;34m408\u001b[0m │\n",
              "├──────────────────────────────────────┼─────────────────────────────┼─────────────────┤\n",
              "│ dropout_15 (\u001b[38;5;33mDropout\u001b[0m)                 │ (\u001b[38;5;45mNone\u001b[0m, \u001b[38;5;34m24\u001b[0m)                  │               \u001b[38;5;34m0\u001b[0m │\n",
              "├──────────────────────────────────────┼─────────────────────────────┼─────────────────┤\n",
              "│ dense_17 (\u001b[38;5;33mDense\u001b[0m)                     │ (\u001b[38;5;45mNone\u001b[0m, \u001b[38;5;34m1\u001b[0m)                   │              \u001b[38;5;34m25\u001b[0m │\n",
              "└──────────────────────────────────────┴─────────────────────────────┴─────────────────┘\n"
            ],
            "text/html": [
              "<pre style=\"white-space:pre;overflow-x:auto;line-height:normal;font-family:Menlo,'DejaVu Sans Mono',consolas,'Courier New',monospace\">┏━━━━━━━━━━━━━━━━━━━━━━━━━━━━━━━━━━━━━━┳━━━━━━━━━━━━━━━━━━━━━━━━━━━━━┳━━━━━━━━━━━━━━━━━┓\n",
              "┃<span style=\"font-weight: bold\"> Layer (type)                         </span>┃<span style=\"font-weight: bold\"> Output Shape                </span>┃<span style=\"font-weight: bold\">         Param # </span>┃\n",
              "┡━━━━━━━━━━━━━━━━━━━━━━━━━━━━━━━━━━━━━━╇━━━━━━━━━━━━━━━━━━━━━━━━━━━━━╇━━━━━━━━━━━━━━━━━┩\n",
              "│ embedding_8 (<span style=\"color: #0087ff; text-decoration-color: #0087ff\">Embedding</span>)              │ (<span style=\"color: #00d7ff; text-decoration-color: #00d7ff\">None</span>, <span style=\"color: #00af00; text-decoration-color: #00af00\">100</span>, <span style=\"color: #00af00; text-decoration-color: #00af00\">16</span>)             │         <span style=\"color: #00af00; text-decoration-color: #00af00\">160,000</span> │\n",
              "├──────────────────────────────────────┼─────────────────────────────┼─────────────────┤\n",
              "│ global_average_pooling1d_8           │ (<span style=\"color: #00d7ff; text-decoration-color: #00d7ff\">None</span>, <span style=\"color: #00af00; text-decoration-color: #00af00\">16</span>)                  │               <span style=\"color: #00af00; text-decoration-color: #00af00\">0</span> │\n",
              "│ (<span style=\"color: #0087ff; text-decoration-color: #0087ff\">GlobalAveragePooling1D</span>)             │                             │                 │\n",
              "├──────────────────────────────────────┼─────────────────────────────┼─────────────────┤\n",
              "│ dropout_14 (<span style=\"color: #0087ff; text-decoration-color: #0087ff\">Dropout</span>)                 │ (<span style=\"color: #00d7ff; text-decoration-color: #00d7ff\">None</span>, <span style=\"color: #00af00; text-decoration-color: #00af00\">16</span>)                  │               <span style=\"color: #00af00; text-decoration-color: #00af00\">0</span> │\n",
              "├──────────────────────────────────────┼─────────────────────────────┼─────────────────┤\n",
              "│ dense_16 (<span style=\"color: #0087ff; text-decoration-color: #0087ff\">Dense</span>)                     │ (<span style=\"color: #00d7ff; text-decoration-color: #00d7ff\">None</span>, <span style=\"color: #00af00; text-decoration-color: #00af00\">24</span>)                  │             <span style=\"color: #00af00; text-decoration-color: #00af00\">408</span> │\n",
              "├──────────────────────────────────────┼─────────────────────────────┼─────────────────┤\n",
              "│ dropout_15 (<span style=\"color: #0087ff; text-decoration-color: #0087ff\">Dropout</span>)                 │ (<span style=\"color: #00d7ff; text-decoration-color: #00d7ff\">None</span>, <span style=\"color: #00af00; text-decoration-color: #00af00\">24</span>)                  │               <span style=\"color: #00af00; text-decoration-color: #00af00\">0</span> │\n",
              "├──────────────────────────────────────┼─────────────────────────────┼─────────────────┤\n",
              "│ dense_17 (<span style=\"color: #0087ff; text-decoration-color: #0087ff\">Dense</span>)                     │ (<span style=\"color: #00d7ff; text-decoration-color: #00d7ff\">None</span>, <span style=\"color: #00af00; text-decoration-color: #00af00\">1</span>)                   │              <span style=\"color: #00af00; text-decoration-color: #00af00\">25</span> │\n",
              "└──────────────────────────────────────┴─────────────────────────────┴─────────────────┘\n",
              "</pre>\n"
            ]
          },
          "metadata": {}
        },
        {
          "output_type": "display_data",
          "data": {
            "text/plain": [
              "\u001b[1m Total params: \u001b[0m\u001b[38;5;34m481,301\u001b[0m (1.84 MB)\n"
            ],
            "text/html": [
              "<pre style=\"white-space:pre;overflow-x:auto;line-height:normal;font-family:Menlo,'DejaVu Sans Mono',consolas,'Courier New',monospace\"><span style=\"font-weight: bold\"> Total params: </span><span style=\"color: #00af00; text-decoration-color: #00af00\">481,301</span> (1.84 MB)\n",
              "</pre>\n"
            ]
          },
          "metadata": {}
        },
        {
          "output_type": "display_data",
          "data": {
            "text/plain": [
              "\u001b[1m Trainable params: \u001b[0m\u001b[38;5;34m160,433\u001b[0m (626.69 KB)\n"
            ],
            "text/html": [
              "<pre style=\"white-space:pre;overflow-x:auto;line-height:normal;font-family:Menlo,'DejaVu Sans Mono',consolas,'Courier New',monospace\"><span style=\"font-weight: bold\"> Trainable params: </span><span style=\"color: #00af00; text-decoration-color: #00af00\">160,433</span> (626.69 KB)\n",
              "</pre>\n"
            ]
          },
          "metadata": {}
        },
        {
          "output_type": "display_data",
          "data": {
            "text/plain": [
              "\u001b[1m Non-trainable params: \u001b[0m\u001b[38;5;34m0\u001b[0m (0.00 B)\n"
            ],
            "text/html": [
              "<pre style=\"white-space:pre;overflow-x:auto;line-height:normal;font-family:Menlo,'DejaVu Sans Mono',consolas,'Courier New',monospace\"><span style=\"font-weight: bold\"> Non-trainable params: </span><span style=\"color: #00af00; text-decoration-color: #00af00\">0</span> (0.00 B)\n",
              "</pre>\n"
            ]
          },
          "metadata": {}
        },
        {
          "output_type": "display_data",
          "data": {
            "text/plain": [
              "\u001b[1m Optimizer params: \u001b[0m\u001b[38;5;34m320,868\u001b[0m (1.22 MB)\n"
            ],
            "text/html": [
              "<pre style=\"white-space:pre;overflow-x:auto;line-height:normal;font-family:Menlo,'DejaVu Sans Mono',consolas,'Courier New',monospace\"><span style=\"font-weight: bold\"> Optimizer params: </span><span style=\"color: #00af00; text-decoration-color: #00af00\">320,868</span> (1.22 MB)\n",
              "</pre>\n"
            ]
          },
          "metadata": {}
        }
      ]
    },
    {
      "cell_type": "code",
      "source": [
        "X_test_score=model.predict(X_test,verbose=2)"
      ],
      "metadata": {
        "colab": {
          "base_uri": "https://localhost:8080/"
        },
        "id": "rK5AaTXiBKJO",
        "outputId": "b12f0294-d1a6-4a20-f8fc-5c3240672a7e"
      },
      "execution_count": 109,
      "outputs": [
        {
          "output_type": "stream",
          "name": "stdout",
          "text": [
            "167/167 - 0s - 2ms/step\n"
          ]
        }
      ]
    },
    {
      "cell_type": "code",
      "source": [
        "for i in X_test_score:\n",
        "  if i[0] < 0.5:\n",
        "    i[0]=0\n",
        "  else:\n",
        "    i[0]=1"
      ],
      "metadata": {
        "id": "xAlqqhuPCDi0"
      },
      "execution_count": 110,
      "outputs": []
    },
    {
      "cell_type": "code",
      "source": [
        "correct_predict_count=0\n",
        "incorrect_predict_count=0\n",
        "for i,j in zip(X_test_score,y_test):\n",
        "  # print(i[0])\n",
        "  if i[0]==j:\n",
        "    correct_predict_count+=1\n",
        "  else:\n",
        "    incorrect_predict_count+=1\n"
      ],
      "metadata": {
        "id": "BYJkPzZPCzFW"
      },
      "execution_count": 111,
      "outputs": []
    },
    {
      "cell_type": "code",
      "source": [
        "correct_predict_count"
      ],
      "metadata": {
        "colab": {
          "base_uri": "https://localhost:8080/"
        },
        "id": "pT_xC6LSD9b-",
        "outputId": "2e3648f5-1e35-4e94-b9ee-384846854930"
      },
      "execution_count": 112,
      "outputs": [
        {
          "output_type": "execute_result",
          "data": {
            "text/plain": [
              "3471"
            ]
          },
          "metadata": {},
          "execution_count": 112
        }
      ]
    },
    {
      "cell_type": "code",
      "source": [
        "incorrect_predict_count"
      ],
      "metadata": {
        "colab": {
          "base_uri": "https://localhost:8080/"
        },
        "id": "FtCpjDjrD_qn",
        "outputId": "62dd6706-1fba-41e1-e5dc-f822aabf6d91"
      },
      "execution_count": 113,
      "outputs": [
        {
          "output_type": "execute_result",
          "data": {
            "text/plain": [
              "1871"
            ]
          },
          "metadata": {},
          "execution_count": 113
        }
      ]
    },
    {
      "cell_type": "code",
      "source": [
        "test_accuracy=correct_predict_count/len(y_test)\n",
        "test_accuracy"
      ],
      "metadata": {
        "colab": {
          "base_uri": "https://localhost:8080/"
        },
        "id": "QWZ7E7P9ESQl",
        "outputId": "f42bf06c-25c6-493b-bd94-4ec7af134410"
      },
      "execution_count": 114,
      "outputs": [
        {
          "output_type": "execute_result",
          "data": {
            "text/plain": [
              "0.6497566454511419"
            ]
          },
          "metadata": {},
          "execution_count": 114
        }
      ]
    },
    {
      "cell_type": "code",
      "source": [
        "history.history.keys()"
      ],
      "metadata": {
        "colab": {
          "base_uri": "https://localhost:8080/"
        },
        "id": "KozzgEU8Ff4U",
        "outputId": "f6f89a52-8052-49aa-cd16-5cb831bec67b"
      },
      "execution_count": 115,
      "outputs": [
        {
          "output_type": "execute_result",
          "data": {
            "text/plain": [
              "dict_keys(['binary_accuracy', 'loss', 'precision_7', 'recall_7', 'val_binary_accuracy', 'val_loss', 'val_precision_7', 'val_recall_7', 'learning_rate'])"
            ]
          },
          "metadata": {},
          "execution_count": 115
        }
      ]
    },
    {
      "cell_type": "code",
      "source": [
        "import matplotlib.pyplot as plt\n",
        "\n",
        "\n",
        "def plot_graphs(history, string):\n",
        "  plt.plot(history.history[string])\n",
        "  plt.plot(history.history['val_'+string])\n",
        "  plt.xlabel(\"Epochs\")\n",
        "  plt.ylabel(string)\n",
        "  plt.legend([string, 'val_'+string])\n",
        "  plt.show()\n",
        "\n",
        "plot_graphs(history, \"binary_accuracy\")\n",
        "plot_graphs(history, \"loss\")\n",
        "plot_graphs(history,\"precision_7\")\n",
        "plot_graphs(history,\"recall_7\")"
      ],
      "metadata": {
        "colab": {
          "base_uri": "https://localhost:8080/",
          "height": 1000
        },
        "id": "0FWeNqPbEtaZ",
        "outputId": "35c82279-2d24-4319-937c-75663d875de7"
      },
      "execution_count": 118,
      "outputs": [
        {
          "output_type": "display_data",
          "data": {
            "text/plain": [
              "<Figure size 640x480 with 1 Axes>"
            ],
            "image/png": "[encoded data removed]"
          },
          "metadata": {}
        },
        {
          "output_type": "display_data",
          "data": {
            "text/plain": [
              "<Figure size 640x480 with 1 Axes>"
            ],
            "image/png": "[encoded data removed]"
          },
          "metadata": {}
        },
        {
          "output_type": "display_data",
          "data": {
            "text/plain": [
              "<Figure size 640x480 with 1 Axes>"
            ],
            "image/png": "[encoded data removed]"
          },
          "metadata": {}
        },
        {
          "output_type": "display_data",
          "data": {
            "text/plain": [
              "<Figure size 640x480 with 1 Axes>"
            ],
            "image/png": "[encoded data removed]"
          },
          "metadata": {}
        }
      ]
    },
    {
      "cell_type": "code",
      "source": [
        "sarcasm_data = [\n",
        "    {\"text\": \"Oh, great! Another meeting that could've been an email. My day just got so much better!\", \"label\": 1},\n",
        "    {\"text\": \"Sure, I’d love to stay late at work. Who needs a personal life anyway?\", \"label\": 1},\n",
        "    {\"text\": \"Wow, you're so right—waiting in traffic for hours is my favorite part of the day.\", \"label\": 1},\n",
        "    {\"text\": \"Oh, no problem! I *love* cleaning up after everyone else.\", \"label\": 1},\n",
        "    {\"text\": \"What a brilliant idea—let’s solve one problem by creating five more!\", \"label\": 1},\n",
        "    {\"text\": \"Good morning! I hope you have a fantastic day ahead.\", \"label\": 0},\n",
        "    {\"text\": \"Thank you so much for your help, I really appreciate it.\", \"label\": 0},\n",
        "    {\"text\": \"The weather looks nice today. Let’s go for a walk.\", \"label\": 0},\n",
        "    {\"text\": \"I finished all my tasks on time and feel great about it.\", \"label\": 0},\n",
        "    {\"text\": \"I’m so proud of you for achieving your goals!\", \"label\": 0},\n",
        "]"
      ],
      "metadata": {
        "id": "WKLtwUZHUJgO"
      },
      "execution_count": 120,
      "outputs": []
    },
    {
      "cell_type": "code",
      "source": [
        "sarcasm_sentences=[]\n",
        "for i in sarcasm_data:\n",
        "  sarcasm_sentences.append(i[\"text\"])"
      ],
      "metadata": {
        "id": "qcJDZ7l0UxhK"
      },
      "execution_count": 132,
      "outputs": []
    },
    {
      "cell_type": "code",
      "source": [
        "sarcasm_sentences=tokenizer.texts_to_sequences(sarcasm_sentences)\n",
        "sarcasm_sentences=pad_sequences(sarcasm_sentences,max_length,padding=padding_type,truncating=trunc_type)"
      ],
      "metadata": {
        "id": "7dYiCPKqe7qn"
      },
      "execution_count": 133,
      "outputs": []
    },
    {
      "cell_type": "code",
      "source": [
        "sarcasm_predict=model.predict(sarcasm_sentences)"
      ],
      "metadata": {
        "id": "3LkUK6TqfjO2",
        "outputId": "8611617b-40e4-4ef5-bdbc-294b2eaf74dd",
        "colab": {
          "base_uri": "https://localhost:8080/"
        }
      },
      "execution_count": 136,
      "outputs": [
        {
          "output_type": "stream",
          "name": "stdout",
          "text": [
            "\u001b[1m1/1\u001b[0m \u001b[32m━━━━━━━━━━━━━━━━━━━━\u001b[0m\u001b[37m\u001b[0m \u001b[1m0s\u001b[0m 29ms/step\n"
          ]
        }
      ]
    },
    {
      "cell_type": "code",
      "source": [
        "for i in sarcasm_predict:\n",
        "  if i[0] < 0.5:\n",
        "    i[0]=0\n",
        "  else:\n",
        "    i[0]=1"
      ],
      "metadata": {
        "id": "PEnfE9vlfq2a"
      },
      "execution_count": 137,
      "outputs": []
    },
    {
      "cell_type": "code",
      "source": [
        "for i,j in zip(sarcasm_predict,sarcasm_data):\n",
        "  print(f'Predicted: {int(i[0])}, Actual: {j[\"label\"]}')"
      ],
      "metadata": {
        "id": "axrOjGKJfxDp",
        "outputId": "62cce2d1-3826-47d4-b290-f2de60dae9d1",
        "colab": {
          "base_uri": "https://localhost:8080/"
        }
      },
      "execution_count": 140,
      "outputs": [
        {
          "output_type": "stream",
          "name": "stdout",
          "text": [
            "Predicted: 0, Actual: 1\n",
            "Predicted: 1, Actual: 1\n",
            "Predicted: 0, Actual: 1\n",
            "Predicted: 0, Actual: 1\n",
            "Predicted: 0, Actual: 1\n",
            "Predicted: 0, Actual: 0\n",
            "Predicted: 0, Actual: 0\n",
            "Predicted: 0, Actual: 0\n",
            "Predicted: 0, Actual: 0\n",
            "Predicted: 0, Actual: 0\n"
          ]
        }
      ]
    }
  ]
}